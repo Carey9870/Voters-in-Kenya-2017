{
 "cells": [
  {
   "cell_type": "code",
   "execution_count": 1,
   "metadata": {},
   "outputs": [],
   "source": [
    "import plotly.express as px\n",
    "import pandas as pd\n",
    "import numpy as np\n",
    "import missingno as msno\n",
    "import matplotlib.pyplot as plt\n",
    "import seaborn as sns"
   ]
  },
  {
   "cell_type": "code",
   "execution_count": 47,
   "metadata": {},
   "outputs": [
    {
     "name": "stdout",
     "output_type": "stream",
     "text": [
      "Let's go.........................\n"
     ]
    }
   ],
   "source": [
    "try:\n",
    "    voters = pd.read_excel('votersconstituency-2.xlsx')\n",
    "    print(\"Let's go.........................\")\n",
    "except:\n",
    "    print('No such dataset...................')"
   ]
  },
  {
   "cell_type": "code",
   "execution_count": 48,
   "metadata": {},
   "outputs": [
    {
     "data": {
      "text/html": [
       "<div>\n",
       "<style scoped>\n",
       "    .dataframe tbody tr th:only-of-type {\n",
       "        vertical-align: middle;\n",
       "    }\n",
       "\n",
       "    .dataframe tbody tr th {\n",
       "        vertical-align: top;\n",
       "    }\n",
       "\n",
       "    .dataframe thead th {\n",
       "        text-align: right;\n",
       "    }\n",
       "</style>\n",
       "<table border=\"1\" class=\"dataframe\">\n",
       "  <thead>\n",
       "    <tr style=\"text-align: right;\">\n",
       "      <th></th>\n",
       "      <th>REGISTERED VOTERS PER CONSTITUENCY FOR 2017 GENERAL ELECTIONS</th>\n",
       "      <th>Unnamed: 1</th>\n",
       "      <th>Unnamed: 2</th>\n",
       "      <th>Unnamed: 3</th>\n",
       "      <th>Unnamed: 4</th>\n",
       "      <th>Unnamed: 5</th>\n",
       "    </tr>\n",
       "  </thead>\n",
       "  <tbody>\n",
       "    <tr>\n",
       "      <th>0</th>\n",
       "      <td>COUNTY_CODE</td>\n",
       "      <td>COUNTY_NAME</td>\n",
       "      <td>CONST_CODE</td>\n",
       "      <td>CONSTITUENCY_NAME</td>\n",
       "      <td>VOTERS</td>\n",
       "      <td>NO. OF POLLING STATIONS</td>\n",
       "    </tr>\n",
       "    <tr>\n",
       "      <th>1</th>\n",
       "      <td>001</td>\n",
       "      <td>MOMBASA</td>\n",
       "      <td>001</td>\n",
       "      <td>CHANGAMWE</td>\n",
       "      <td>86331</td>\n",
       "      <td>136</td>\n",
       "    </tr>\n",
       "    <tr>\n",
       "      <th>2</th>\n",
       "      <td>001</td>\n",
       "      <td>MOMBASA</td>\n",
       "      <td>002</td>\n",
       "      <td>JOMVU</td>\n",
       "      <td>69307</td>\n",
       "      <td>109</td>\n",
       "    </tr>\n",
       "    <tr>\n",
       "      <th>3</th>\n",
       "      <td>001</td>\n",
       "      <td>MOMBASA</td>\n",
       "      <td>003</td>\n",
       "      <td>KISAUNI</td>\n",
       "      <td>126151</td>\n",
       "      <td>198</td>\n",
       "    </tr>\n",
       "    <tr>\n",
       "      <th>4</th>\n",
       "      <td>001</td>\n",
       "      <td>MOMBASA</td>\n",
       "      <td>004</td>\n",
       "      <td>NYALI</td>\n",
       "      <td>104017</td>\n",
       "      <td>165</td>\n",
       "    </tr>\n",
       "  </tbody>\n",
       "</table>\n",
       "</div>"
      ],
      "text/plain": [
       "  REGISTERED VOTERS PER CONSTITUENCY FOR 2017 GENERAL ELECTIONS   Unnamed: 1  \\\n",
       "0                                        COUNTY_CODE             COUNTY_NAME   \n",
       "1                                                001                 MOMBASA   \n",
       "2                                                001                 MOMBASA   \n",
       "3                                                001                 MOMBASA   \n",
       "4                                                001                 MOMBASA   \n",
       "\n",
       "   Unnamed: 2         Unnamed: 3 Unnamed: 4               Unnamed: 5  \n",
       "0  CONST_CODE  CONSTITUENCY_NAME     VOTERS  NO. OF POLLING STATIONS  \n",
       "1         001          CHANGAMWE      86331                      136  \n",
       "2         002              JOMVU      69307                      109  \n",
       "3         003            KISAUNI     126151                      198  \n",
       "4         004              NYALI     104017                      165  "
      ]
     },
     "execution_count": 48,
     "metadata": {},
     "output_type": "execute_result"
    }
   ],
   "source": [
    "# check first 5 rows\n",
    "voters.head()"
   ]
  },
  {
   "cell_type": "code",
   "execution_count": 49,
   "metadata": {},
   "outputs": [
    {
     "data": {
      "text/html": [
       "<div>\n",
       "<style scoped>\n",
       "    .dataframe tbody tr th:only-of-type {\n",
       "        vertical-align: middle;\n",
       "    }\n",
       "\n",
       "    .dataframe tbody tr th {\n",
       "        vertical-align: top;\n",
       "    }\n",
       "\n",
       "    .dataframe thead th {\n",
       "        text-align: right;\n",
       "    }\n",
       "</style>\n",
       "<table border=\"1\" class=\"dataframe\">\n",
       "  <thead>\n",
       "    <tr style=\"text-align: right;\">\n",
       "      <th></th>\n",
       "      <th>REGISTERED VOTERS PER CONSTITUENCY FOR 2017 GENERAL ELECTIONS</th>\n",
       "      <th>Unnamed: 1</th>\n",
       "      <th>Unnamed: 2</th>\n",
       "      <th>Unnamed: 3</th>\n",
       "      <th>Unnamed: 4</th>\n",
       "      <th>Unnamed: 5</th>\n",
       "    </tr>\n",
       "  </thead>\n",
       "  <tbody>\n",
       "    <tr>\n",
       "      <th>289</th>\n",
       "      <td>047</td>\n",
       "      <td>NAIROBI CITY</td>\n",
       "      <td>289</td>\n",
       "      <td>STAREHE</td>\n",
       "      <td>166397</td>\n",
       "      <td>253</td>\n",
       "    </tr>\n",
       "    <tr>\n",
       "      <th>290</th>\n",
       "      <td>047</td>\n",
       "      <td>NAIROBI CITY</td>\n",
       "      <td>290</td>\n",
       "      <td>MATHARE</td>\n",
       "      <td>115559</td>\n",
       "      <td>171</td>\n",
       "    </tr>\n",
       "    <tr>\n",
       "      <th>291</th>\n",
       "      <td>048</td>\n",
       "      <td>DIASPORA</td>\n",
       "      <td>291</td>\n",
       "      <td>DIASPORA</td>\n",
       "      <td>4393</td>\n",
       "      <td>10</td>\n",
       "    </tr>\n",
       "    <tr>\n",
       "      <th>292</th>\n",
       "      <td>049</td>\n",
       "      <td>PRISONS</td>\n",
       "      <td>292</td>\n",
       "      <td>PRISONS</td>\n",
       "      <td>5528</td>\n",
       "      <td>103</td>\n",
       "    </tr>\n",
       "    <tr>\n",
       "      <th>293</th>\n",
       "      <td>NaN</td>\n",
       "      <td>NaN</td>\n",
       "      <td>Grand Total</td>\n",
       "      <td>NaN</td>\n",
       "      <td>19611423</td>\n",
       "      <td>40883</td>\n",
       "    </tr>\n",
       "  </tbody>\n",
       "</table>\n",
       "</div>"
      ],
      "text/plain": [
       "    REGISTERED VOTERS PER CONSTITUENCY FOR 2017 GENERAL ELECTIONS  \\\n",
       "289                                                047              \n",
       "290                                                047              \n",
       "291                                                048              \n",
       "292                                                049              \n",
       "293                                                NaN              \n",
       "\n",
       "       Unnamed: 1   Unnamed: 2 Unnamed: 3 Unnamed: 4 Unnamed: 5  \n",
       "289  NAIROBI CITY          289    STAREHE     166397        253  \n",
       "290  NAIROBI CITY          290    MATHARE     115559        171  \n",
       "291      DIASPORA          291   DIASPORA       4393         10  \n",
       "292       PRISONS          292    PRISONS       5528        103  \n",
       "293           NaN  Grand Total        NaN   19611423      40883  "
      ]
     },
     "execution_count": 49,
     "metadata": {},
     "output_type": "execute_result"
    }
   ],
   "source": [
    "# check last 5 rows\n",
    "voters.tail()"
   ]
  },
  {
   "cell_type": "code",
   "execution_count": 50,
   "metadata": {},
   "outputs": [],
   "source": [
    "voters.dropna(inplace=True)"
   ]
  },
  {
   "cell_type": "code",
   "execution_count": 51,
   "metadata": {},
   "outputs": [
    {
     "data": {
      "text/html": [
       "<div>\n",
       "<style scoped>\n",
       "    .dataframe tbody tr th:only-of-type {\n",
       "        vertical-align: middle;\n",
       "    }\n",
       "\n",
       "    .dataframe tbody tr th {\n",
       "        vertical-align: top;\n",
       "    }\n",
       "\n",
       "    .dataframe thead th {\n",
       "        text-align: right;\n",
       "    }\n",
       "</style>\n",
       "<table border=\"1\" class=\"dataframe\">\n",
       "  <thead>\n",
       "    <tr style=\"text-align: right;\">\n",
       "      <th></th>\n",
       "      <th>REGISTERED VOTERS PER CONSTITUENCY FOR 2017 GENERAL ELECTIONS</th>\n",
       "      <th>Unnamed: 1</th>\n",
       "      <th>Unnamed: 2</th>\n",
       "      <th>Unnamed: 3</th>\n",
       "      <th>Unnamed: 4</th>\n",
       "      <th>Unnamed: 5</th>\n",
       "    </tr>\n",
       "  </thead>\n",
       "  <tbody>\n",
       "    <tr>\n",
       "      <th>288</th>\n",
       "      <td>047</td>\n",
       "      <td>NAIROBI CITY</td>\n",
       "      <td>288</td>\n",
       "      <td>KAMUKUNJI</td>\n",
       "      <td>120266</td>\n",
       "      <td>181</td>\n",
       "    </tr>\n",
       "    <tr>\n",
       "      <th>289</th>\n",
       "      <td>047</td>\n",
       "      <td>NAIROBI CITY</td>\n",
       "      <td>289</td>\n",
       "      <td>STAREHE</td>\n",
       "      <td>166397</td>\n",
       "      <td>253</td>\n",
       "    </tr>\n",
       "    <tr>\n",
       "      <th>290</th>\n",
       "      <td>047</td>\n",
       "      <td>NAIROBI CITY</td>\n",
       "      <td>290</td>\n",
       "      <td>MATHARE</td>\n",
       "      <td>115559</td>\n",
       "      <td>171</td>\n",
       "    </tr>\n",
       "    <tr>\n",
       "      <th>291</th>\n",
       "      <td>048</td>\n",
       "      <td>DIASPORA</td>\n",
       "      <td>291</td>\n",
       "      <td>DIASPORA</td>\n",
       "      <td>4393</td>\n",
       "      <td>10</td>\n",
       "    </tr>\n",
       "    <tr>\n",
       "      <th>292</th>\n",
       "      <td>049</td>\n",
       "      <td>PRISONS</td>\n",
       "      <td>292</td>\n",
       "      <td>PRISONS</td>\n",
       "      <td>5528</td>\n",
       "      <td>103</td>\n",
       "    </tr>\n",
       "  </tbody>\n",
       "</table>\n",
       "</div>"
      ],
      "text/plain": [
       "    REGISTERED VOTERS PER CONSTITUENCY FOR 2017 GENERAL ELECTIONS  \\\n",
       "288                                                047              \n",
       "289                                                047              \n",
       "290                                                047              \n",
       "291                                                048              \n",
       "292                                                049              \n",
       "\n",
       "       Unnamed: 1 Unnamed: 2 Unnamed: 3 Unnamed: 4 Unnamed: 5  \n",
       "288  NAIROBI CITY        288  KAMUKUNJI     120266        181  \n",
       "289  NAIROBI CITY        289    STAREHE     166397        253  \n",
       "290  NAIROBI CITY        290    MATHARE     115559        171  \n",
       "291      DIASPORA        291   DIASPORA       4393         10  \n",
       "292       PRISONS        292    PRISONS       5528        103  "
      ]
     },
     "execution_count": 51,
     "metadata": {},
     "output_type": "execute_result"
    }
   ],
   "source": [
    "voters.tail()"
   ]
  },
  {
   "cell_type": "code",
   "execution_count": 52,
   "metadata": {},
   "outputs": [],
   "source": [
    "voters.rename(columns={'REGISTERED VOTERS PER CONSTITUENCY FOR 2017 GENERAL ELECTIONS':'COUNTY_CODE', 'Unnamed: 1':'COUNTY_NAME', \n",
    "                    'Unnamed: 2':'CONST_CODE', 'Unnamed: 3':'CONSTITUENCY_NAME', 'Unnamed: 4':'VOTERS', 'Unnamed: 5':'NO. OF POLLING STATIONS'}, inplace=True)"
   ]
  },
  {
   "cell_type": "code",
   "execution_count": 53,
   "metadata": {},
   "outputs": [
    {
     "data": {
      "text/html": [
       "<div>\n",
       "<style scoped>\n",
       "    .dataframe tbody tr th:only-of-type {\n",
       "        vertical-align: middle;\n",
       "    }\n",
       "\n",
       "    .dataframe tbody tr th {\n",
       "        vertical-align: top;\n",
       "    }\n",
       "\n",
       "    .dataframe thead th {\n",
       "        text-align: right;\n",
       "    }\n",
       "</style>\n",
       "<table border=\"1\" class=\"dataframe\">\n",
       "  <thead>\n",
       "    <tr style=\"text-align: right;\">\n",
       "      <th></th>\n",
       "      <th>COUNTY_CODE</th>\n",
       "      <th>COUNTY_NAME</th>\n",
       "      <th>CONST_CODE</th>\n",
       "      <th>CONSTITUENCY_NAME</th>\n",
       "      <th>VOTERS</th>\n",
       "      <th>NO. OF POLLING STATIONS</th>\n",
       "    </tr>\n",
       "  </thead>\n",
       "  <tbody>\n",
       "    <tr>\n",
       "      <th>0</th>\n",
       "      <td>COUNTY_CODE</td>\n",
       "      <td>COUNTY_NAME</td>\n",
       "      <td>CONST_CODE</td>\n",
       "      <td>CONSTITUENCY_NAME</td>\n",
       "      <td>VOTERS</td>\n",
       "      <td>NO. OF POLLING STATIONS</td>\n",
       "    </tr>\n",
       "    <tr>\n",
       "      <th>1</th>\n",
       "      <td>001</td>\n",
       "      <td>MOMBASA</td>\n",
       "      <td>001</td>\n",
       "      <td>CHANGAMWE</td>\n",
       "      <td>86331</td>\n",
       "      <td>136</td>\n",
       "    </tr>\n",
       "    <tr>\n",
       "      <th>2</th>\n",
       "      <td>001</td>\n",
       "      <td>MOMBASA</td>\n",
       "      <td>002</td>\n",
       "      <td>JOMVU</td>\n",
       "      <td>69307</td>\n",
       "      <td>109</td>\n",
       "    </tr>\n",
       "    <tr>\n",
       "      <th>3</th>\n",
       "      <td>001</td>\n",
       "      <td>MOMBASA</td>\n",
       "      <td>003</td>\n",
       "      <td>KISAUNI</td>\n",
       "      <td>126151</td>\n",
       "      <td>198</td>\n",
       "    </tr>\n",
       "    <tr>\n",
       "      <th>4</th>\n",
       "      <td>001</td>\n",
       "      <td>MOMBASA</td>\n",
       "      <td>004</td>\n",
       "      <td>NYALI</td>\n",
       "      <td>104017</td>\n",
       "      <td>165</td>\n",
       "    </tr>\n",
       "  </tbody>\n",
       "</table>\n",
       "</div>"
      ],
      "text/plain": [
       "   COUNTY_CODE  COUNTY_NAME  CONST_CODE  CONSTITUENCY_NAME  VOTERS  \\\n",
       "0  COUNTY_CODE  COUNTY_NAME  CONST_CODE  CONSTITUENCY_NAME  VOTERS   \n",
       "1          001      MOMBASA         001          CHANGAMWE   86331   \n",
       "2          001      MOMBASA         002              JOMVU   69307   \n",
       "3          001      MOMBASA         003            KISAUNI  126151   \n",
       "4          001      MOMBASA         004              NYALI  104017   \n",
       "\n",
       "   NO. OF POLLING STATIONS  \n",
       "0  NO. OF POLLING STATIONS  \n",
       "1                      136  \n",
       "2                      109  \n",
       "3                      198  \n",
       "4                      165  "
      ]
     },
     "execution_count": 53,
     "metadata": {},
     "output_type": "execute_result"
    }
   ],
   "source": [
    "voters.head()"
   ]
  },
  {
   "cell_type": "code",
   "execution_count": 54,
   "metadata": {},
   "outputs": [
    {
     "data": {
      "text/html": [
       "<div>\n",
       "<style scoped>\n",
       "    .dataframe tbody tr th:only-of-type {\n",
       "        vertical-align: middle;\n",
       "    }\n",
       "\n",
       "    .dataframe tbody tr th {\n",
       "        vertical-align: top;\n",
       "    }\n",
       "\n",
       "    .dataframe thead th {\n",
       "        text-align: right;\n",
       "    }\n",
       "</style>\n",
       "<table border=\"1\" class=\"dataframe\">\n",
       "  <thead>\n",
       "    <tr style=\"text-align: right;\">\n",
       "      <th></th>\n",
       "      <th>COUNTY_CODE</th>\n",
       "      <th>COUNTY_NAME</th>\n",
       "      <th>CONST_CODE</th>\n",
       "      <th>CONSTITUENCY_NAME</th>\n",
       "      <th>VOTERS</th>\n",
       "      <th>NO. OF POLLING STATIONS</th>\n",
       "    </tr>\n",
       "  </thead>\n",
       "  <tbody>\n",
       "    <tr>\n",
       "      <th>1</th>\n",
       "      <td>001</td>\n",
       "      <td>MOMBASA</td>\n",
       "      <td>001</td>\n",
       "      <td>CHANGAMWE</td>\n",
       "      <td>86331</td>\n",
       "      <td>136</td>\n",
       "    </tr>\n",
       "    <tr>\n",
       "      <th>2</th>\n",
       "      <td>001</td>\n",
       "      <td>MOMBASA</td>\n",
       "      <td>002</td>\n",
       "      <td>JOMVU</td>\n",
       "      <td>69307</td>\n",
       "      <td>109</td>\n",
       "    </tr>\n",
       "    <tr>\n",
       "      <th>3</th>\n",
       "      <td>001</td>\n",
       "      <td>MOMBASA</td>\n",
       "      <td>003</td>\n",
       "      <td>KISAUNI</td>\n",
       "      <td>126151</td>\n",
       "      <td>198</td>\n",
       "    </tr>\n",
       "    <tr>\n",
       "      <th>4</th>\n",
       "      <td>001</td>\n",
       "      <td>MOMBASA</td>\n",
       "      <td>004</td>\n",
       "      <td>NYALI</td>\n",
       "      <td>104017</td>\n",
       "      <td>165</td>\n",
       "    </tr>\n",
       "    <tr>\n",
       "      <th>5</th>\n",
       "      <td>001</td>\n",
       "      <td>MOMBASA</td>\n",
       "      <td>005</td>\n",
       "      <td>LIKONI</td>\n",
       "      <td>87326</td>\n",
       "      <td>140</td>\n",
       "    </tr>\n",
       "    <tr>\n",
       "      <th>...</th>\n",
       "      <td>...</td>\n",
       "      <td>...</td>\n",
       "      <td>...</td>\n",
       "      <td>...</td>\n",
       "      <td>...</td>\n",
       "      <td>...</td>\n",
       "    </tr>\n",
       "    <tr>\n",
       "      <th>288</th>\n",
       "      <td>047</td>\n",
       "      <td>NAIROBI CITY</td>\n",
       "      <td>288</td>\n",
       "      <td>KAMUKUNJI</td>\n",
       "      <td>120266</td>\n",
       "      <td>181</td>\n",
       "    </tr>\n",
       "    <tr>\n",
       "      <th>289</th>\n",
       "      <td>047</td>\n",
       "      <td>NAIROBI CITY</td>\n",
       "      <td>289</td>\n",
       "      <td>STAREHE</td>\n",
       "      <td>166397</td>\n",
       "      <td>253</td>\n",
       "    </tr>\n",
       "    <tr>\n",
       "      <th>290</th>\n",
       "      <td>047</td>\n",
       "      <td>NAIROBI CITY</td>\n",
       "      <td>290</td>\n",
       "      <td>MATHARE</td>\n",
       "      <td>115559</td>\n",
       "      <td>171</td>\n",
       "    </tr>\n",
       "    <tr>\n",
       "      <th>291</th>\n",
       "      <td>048</td>\n",
       "      <td>DIASPORA</td>\n",
       "      <td>291</td>\n",
       "      <td>DIASPORA</td>\n",
       "      <td>4393</td>\n",
       "      <td>10</td>\n",
       "    </tr>\n",
       "    <tr>\n",
       "      <th>292</th>\n",
       "      <td>049</td>\n",
       "      <td>PRISONS</td>\n",
       "      <td>292</td>\n",
       "      <td>PRISONS</td>\n",
       "      <td>5528</td>\n",
       "      <td>103</td>\n",
       "    </tr>\n",
       "  </tbody>\n",
       "</table>\n",
       "<p>292 rows × 6 columns</p>\n",
       "</div>"
      ],
      "text/plain": [
       "    COUNTY_CODE   COUNTY_NAME CONST_CODE CONSTITUENCY_NAME  VOTERS  \\\n",
       "1           001       MOMBASA        001         CHANGAMWE   86331   \n",
       "2           001       MOMBASA        002             JOMVU   69307   \n",
       "3           001       MOMBASA        003           KISAUNI  126151   \n",
       "4           001       MOMBASA        004             NYALI  104017   \n",
       "5           001       MOMBASA        005            LIKONI   87326   \n",
       "..          ...           ...        ...               ...     ...   \n",
       "288         047  NAIROBI CITY        288         KAMUKUNJI  120266   \n",
       "289         047  NAIROBI CITY        289           STAREHE  166397   \n",
       "290         047  NAIROBI CITY        290           MATHARE  115559   \n",
       "291         048      DIASPORA        291          DIASPORA    4393   \n",
       "292         049       PRISONS        292           PRISONS    5528   \n",
       "\n",
       "    NO. OF POLLING STATIONS  \n",
       "1                       136  \n",
       "2                       109  \n",
       "3                       198  \n",
       "4                       165  \n",
       "5                       140  \n",
       "..                      ...  \n",
       "288                     181  \n",
       "289                     253  \n",
       "290                     171  \n",
       "291                      10  \n",
       "292                     103  \n",
       "\n",
       "[292 rows x 6 columns]"
      ]
     },
     "execution_count": 54,
     "metadata": {},
     "output_type": "execute_result"
    }
   ],
   "source": [
    "voters.drop(axis=0, index=0)"
   ]
  },
  {
   "cell_type": "code",
   "execution_count": 55,
   "metadata": {},
   "outputs": [
    {
     "data": {
      "text/plain": [
       "(293, 6)"
      ]
     },
     "execution_count": 55,
     "metadata": {},
     "output_type": "execute_result"
    }
   ],
   "source": [
    "voters.shape"
   ]
  },
  {
   "cell_type": "code",
   "execution_count": 56,
   "metadata": {},
   "outputs": [
    {
     "data": {
      "text/plain": [
       "Index(['COUNTY_CODE', 'COUNTY_NAME', 'CONST_CODE', 'CONSTITUENCY_NAME',\n",
       "       'VOTERS', 'NO. OF POLLING STATIONS'],\n",
       "      dtype='object')"
      ]
     },
     "execution_count": 56,
     "metadata": {},
     "output_type": "execute_result"
    }
   ],
   "source": [
    "# Check columns -> \n",
    "\n",
    "voters.keys()"
   ]
  },
  {
   "cell_type": "code",
   "execution_count": 57,
   "metadata": {},
   "outputs": [
    {
     "name": "stdout",
     "output_type": "stream",
     "text": [
      "<class 'pandas.core.frame.DataFrame'>\n",
      "Int64Index: 293 entries, 0 to 292\n",
      "Data columns (total 6 columns):\n",
      " #   Column                   Non-Null Count  Dtype \n",
      "---  ------                   --------------  ----- \n",
      " 0   COUNTY_CODE              293 non-null    object\n",
      " 1   COUNTY_NAME              293 non-null    object\n",
      " 2   CONST_CODE               293 non-null    object\n",
      " 3   CONSTITUENCY_NAME        293 non-null    object\n",
      " 4   VOTERS                   293 non-null    object\n",
      " 5   NO. OF POLLING STATIONS  293 non-null    object\n",
      "dtypes: object(6)\n",
      "memory usage: 24.1+ KB\n"
     ]
    }
   ],
   "source": [
    "# More understanding of the dataset -> \n",
    "\n",
    "voters.info()"
   ]
  },
  {
   "cell_type": "code",
   "execution_count": 58,
   "metadata": {},
   "outputs": [
    {
     "data": {
      "text/html": [
       "<div>\n",
       "<style scoped>\n",
       "    .dataframe tbody tr th:only-of-type {\n",
       "        vertical-align: middle;\n",
       "    }\n",
       "\n",
       "    .dataframe tbody tr th {\n",
       "        vertical-align: top;\n",
       "    }\n",
       "\n",
       "    .dataframe thead th {\n",
       "        text-align: right;\n",
       "    }\n",
       "</style>\n",
       "<table border=\"1\" class=\"dataframe\">\n",
       "  <thead>\n",
       "    <tr style=\"text-align: right;\">\n",
       "      <th></th>\n",
       "      <th>count</th>\n",
       "      <th>unique</th>\n",
       "      <th>top</th>\n",
       "      <th>freq</th>\n",
       "    </tr>\n",
       "  </thead>\n",
       "  <tbody>\n",
       "    <tr>\n",
       "      <th>COUNTY_CODE</th>\n",
       "      <td>293</td>\n",
       "      <td>50</td>\n",
       "      <td>047</td>\n",
       "      <td>17</td>\n",
       "    </tr>\n",
       "    <tr>\n",
       "      <th>COUNTY_NAME</th>\n",
       "      <td>293</td>\n",
       "      <td>50</td>\n",
       "      <td>NAIROBI CITY</td>\n",
       "      <td>17</td>\n",
       "    </tr>\n",
       "    <tr>\n",
       "      <th>CONST_CODE</th>\n",
       "      <td>293</td>\n",
       "      <td>293</td>\n",
       "      <td>CONST_CODE</td>\n",
       "      <td>1</td>\n",
       "    </tr>\n",
       "    <tr>\n",
       "      <th>CONSTITUENCY_NAME</th>\n",
       "      <td>293</td>\n",
       "      <td>293</td>\n",
       "      <td>CONSTITUENCY_NAME</td>\n",
       "      <td>1</td>\n",
       "    </tr>\n",
       "    <tr>\n",
       "      <th>VOTERS</th>\n",
       "      <td>293</td>\n",
       "      <td>292</td>\n",
       "      <td>54909</td>\n",
       "      <td>2</td>\n",
       "    </tr>\n",
       "    <tr>\n",
       "      <th>NO. OF POLLING STATIONS</th>\n",
       "      <td>293</td>\n",
       "      <td>140</td>\n",
       "      <td>113</td>\n",
       "      <td>6</td>\n",
       "    </tr>\n",
       "  </tbody>\n",
       "</table>\n",
       "</div>"
      ],
      "text/plain": [
       "                        count unique                top freq\n",
       "COUNTY_CODE               293     50                047   17\n",
       "COUNTY_NAME               293     50       NAIROBI CITY   17\n",
       "CONST_CODE                293    293         CONST_CODE    1\n",
       "CONSTITUENCY_NAME         293    293  CONSTITUENCY_NAME    1\n",
       "VOTERS                    293    292              54909    2\n",
       "NO. OF POLLING STATIONS   293    140                113    6"
      ]
     },
     "execution_count": 58,
     "metadata": {},
     "output_type": "execute_result"
    }
   ],
   "source": [
    "# check summary statistics of all numerical columns -> \n",
    "\n",
    "voters.describe().T"
   ]
  },
  {
   "cell_type": "code",
   "execution_count": 59,
   "metadata": {},
   "outputs": [
    {
     "data": {
      "text/plain": [
       "COUNTY_CODE                object\n",
       "COUNTY_NAME                object\n",
       "CONST_CODE                 object\n",
       "CONSTITUENCY_NAME          object\n",
       "VOTERS                     object\n",
       "NO. OF POLLING STATIONS    object\n",
       "dtype: object"
      ]
     },
     "execution_count": 59,
     "metadata": {},
     "output_type": "execute_result"
    }
   ],
   "source": [
    "# check datatypes of all the columns -> \n",
    "\n",
    "voters.dtypes"
   ]
  },
  {
   "cell_type": "code",
   "execution_count": 60,
   "metadata": {},
   "outputs": [],
   "source": [
    "# Let's replace the empty strings with NaN values\n",
    "\n",
    "voters = voters.replace(' ', np.nan)"
   ]
  },
  {
   "cell_type": "code",
   "execution_count": 61,
   "metadata": {},
   "outputs": [],
   "source": [
    "# Let's replace the question marks (?) with NaN values\n",
    "\n",
    "voters = voters.replace('?', np.nan)"
   ]
  },
  {
   "cell_type": "code",
   "execution_count": 62,
   "metadata": {},
   "outputs": [],
   "source": [
    "# Let's replace the question marks (.) with NaN values\n",
    "\n",
    "voters = voters.replace('.', np.nan)"
   ]
  },
  {
   "cell_type": "code",
   "execution_count": 63,
   "metadata": {},
   "outputs": [
    {
     "data": {
      "text/plain": [
       "COUNTY_CODE                 50\n",
       "COUNTY_NAME                 50\n",
       "CONST_CODE                 293\n",
       "CONSTITUENCY_NAME          293\n",
       "VOTERS                     292\n",
       "NO. OF POLLING STATIONS    140\n",
       "dtype: int64"
      ]
     },
     "execution_count": 63,
     "metadata": {},
     "output_type": "execute_result"
    }
   ],
   "source": [
    "# determine the number of unique categories in each variable: The output of the preceding code shows the number of distinct categories per variable, that is, the cardinality:\n",
    "\n",
    "voters.nunique()"
   ]
  },
  {
   "cell_type": "code",
   "execution_count": 19,
   "metadata": {},
   "outputs": [
    {
     "data": {
      "text/plain": [
       "Text(0.5, 1.0, 'Cardinality')"
      ]
     },
     "execution_count": 19,
     "metadata": {},
     "output_type": "execute_result"
    },
    {
     "data": {
      "image/png": "[encoded data removed]",
      "text/plain": [
       "<Figure size 864x432 with 1 Axes>"
      ]
     },
     "metadata": {
      "needs_background": "light"
     },
     "output_type": "display_data"
    }
   ],
   "source": [
    "# plot the cardinality:\n",
    "\n",
    "voters.nunique().plot.barh(figsize=(12,6))\n",
    "plt.ylabel('Number of unique categories')\n",
    "plt.xlabel('Variables')\n",
    "plt.title('Cardinality')"
   ]
  },
  {
   "cell_type": "code",
   "execution_count": 64,
   "metadata": {},
   "outputs": [
    {
     "data": {
      "text/plain": [
       "COUNTY_CODE                293\n",
       "COUNTY_NAME                293\n",
       "CONST_CODE                 293\n",
       "CONSTITUENCY_NAME          293\n",
       "VOTERS                     293\n",
       "NO. OF POLLING STATIONS    293\n",
       "dtype: int64"
      ]
     },
     "execution_count": 64,
     "metadata": {},
     "output_type": "execute_result"
    }
   ],
   "source": [
    "# check the count of features/ non-null values in each column -> \n",
    "\n",
    "voters.count()"
   ]
  },
  {
   "cell_type": "code",
   "execution_count": 65,
   "metadata": {},
   "outputs": [],
   "source": [
    "# convert to numerical columns, ---- VOTERS,\tNO. OF POLLING STATIONS\n",
    "\n",
    "voters['VOTERS'] = pd.to_numeric(voters['VOTERS'], errors='coerce')\n",
    "voters['NO. OF POLLING STATIONS'] = pd.to_numeric(voters['NO. OF POLLING STATIONS'], errors='coerce')\n",
    "voters['CONST_CODE'] = pd.to_numeric(voters['CONST_CODE'], errors='coerce')\n",
    "voters['COUNTY_CODE'] = pd.to_numeric(voters['COUNTY_CODE'], errors='coerce')"
   ]
  },
  {
   "cell_type": "code",
   "execution_count": 66,
   "metadata": {},
   "outputs": [
    {
     "data": {
      "text/plain": [
       "Index(['COUNTY_NAME', 'CONSTITUENCY_NAME'], dtype='object')"
      ]
     },
     "execution_count": 66,
     "metadata": {},
     "output_type": "execute_result"
    }
   ],
   "source": [
    "# display categorical features/columns -> \n",
    "\n",
    "categorical_columns = voters.select_dtypes(include=[np.object0]).columns\n",
    "\n",
    "categorical_columns"
   ]
  },
  {
   "cell_type": "code",
   "execution_count": 67,
   "metadata": {},
   "outputs": [
    {
     "data": {
      "text/plain": [
       "Index(['COUNTY_CODE', 'CONST_CODE', 'VOTERS', 'NO. OF POLLING STATIONS'], dtype='object')"
      ]
     },
     "execution_count": 67,
     "metadata": {},
     "output_type": "execute_result"
    }
   ],
   "source": [
    "# display numerical features/columns -> \n",
    "\n",
    "numerical_columns = voters.select_dtypes(include=[np.number]).columns\n",
    "\n",
    "numerical_columns"
   ]
  },
  {
   "cell_type": "code",
   "execution_count": 68,
   "metadata": {},
   "outputs": [
    {
     "data": {
      "text/plain": [
       "0"
      ]
     },
     "execution_count": 68,
     "metadata": {},
     "output_type": "execute_result"
    }
   ],
   "source": [
    "# check for duplicate rows in the dataset -> \n",
    "\n",
    "voters.duplicated().sum()"
   ]
  },
  {
   "cell_type": "code",
   "execution_count": 69,
   "metadata": {},
   "outputs": [
    {
     "data": {
      "text/plain": [
       "COUNTY_CODE                1\n",
       "COUNTY_NAME                0\n",
       "CONST_CODE                 1\n",
       "CONSTITUENCY_NAME          0\n",
       "VOTERS                     1\n",
       "NO. OF POLLING STATIONS    1\n",
       "dtype: int64"
      ]
     },
     "execution_count": 69,
     "metadata": {},
     "output_type": "execute_result"
    }
   ],
   "source": [
    "# check missing values -> \n",
    "\n",
    "voters.isnull().sum()"
   ]
  },
  {
   "cell_type": "code",
   "execution_count": 70,
   "metadata": {},
   "outputs": [
    {
     "data": {
      "text/plain": [
       "['COUNTY_CODE', 'CONST_CODE', 'VOTERS', 'NO. OF POLLING STATIONS']"
      ]
     },
     "execution_count": 70,
     "metadata": {},
     "output_type": "execute_result"
    }
   ],
   "source": [
    "# print names or check all columns which have null values ->\n",
    "\n",
    "[val for val in voters.columns if voters[val].isnull().sum() > 0]"
   ]
  },
  {
   "cell_type": "code",
   "execution_count": 71,
   "metadata": {},
   "outputs": [
    {
     "data": {
      "text/html": [
       "<div>\n",
       "<style scoped>\n",
       "    .dataframe tbody tr th:only-of-type {\n",
       "        vertical-align: middle;\n",
       "    }\n",
       "\n",
       "    .dataframe tbody tr th {\n",
       "        vertical-align: top;\n",
       "    }\n",
       "\n",
       "    .dataframe thead th {\n",
       "        text-align: right;\n",
       "    }\n",
       "</style>\n",
       "<table border=\"1\" class=\"dataframe\">\n",
       "  <thead>\n",
       "    <tr style=\"text-align: right;\">\n",
       "      <th></th>\n",
       "      <th>count_missing</th>\n",
       "      <th>percentage_missing (%)</th>\n",
       "    </tr>\n",
       "  </thead>\n",
       "  <tbody>\n",
       "    <tr>\n",
       "      <th>COUNTY_CODE</th>\n",
       "      <td>1</td>\n",
       "      <td>0.341297</td>\n",
       "    </tr>\n",
       "    <tr>\n",
       "      <th>CONST_CODE</th>\n",
       "      <td>1</td>\n",
       "      <td>0.341297</td>\n",
       "    </tr>\n",
       "    <tr>\n",
       "      <th>VOTERS</th>\n",
       "      <td>1</td>\n",
       "      <td>0.341297</td>\n",
       "    </tr>\n",
       "    <tr>\n",
       "      <th>NO. OF POLLING STATIONS</th>\n",
       "      <td>1</td>\n",
       "      <td>0.341297</td>\n",
       "    </tr>\n",
       "    <tr>\n",
       "      <th>COUNTY_NAME</th>\n",
       "      <td>0</td>\n",
       "      <td>0.000000</td>\n",
       "    </tr>\n",
       "    <tr>\n",
       "      <th>CONSTITUENCY_NAME</th>\n",
       "      <td>0</td>\n",
       "      <td>0.000000</td>\n",
       "    </tr>\n",
       "  </tbody>\n",
       "</table>\n",
       "</div>"
      ],
      "text/plain": [
       "                         count_missing  percentage_missing (%)\n",
       "COUNTY_CODE                          1                0.341297\n",
       "CONST_CODE                           1                0.341297\n",
       "VOTERS                               1                0.341297\n",
       "NO. OF POLLING STATIONS              1                0.341297\n",
       "COUNTY_NAME                          0                0.000000\n",
       "CONSTITUENCY_NAME                    0                0.000000"
      ]
     },
     "execution_count": 71,
     "metadata": {},
     "output_type": "execute_result"
    }
   ],
   "source": [
    "# print the percentage of missing values -> \n",
    "\n",
    "mask = voters.isnull()\n",
    "\n",
    "total = mask.sum()\n",
    "\n",
    "percent = 100*mask.mean()\n",
    "\n",
    "missing_data = pd.concat([total, percent], axis=1,join='outer',keys=['count_missing', 'percentage_missing (%)'])\n",
    "\n",
    "missing_data.sort_values(by='percentage_missing (%)', ascending=False,inplace=True)\n",
    "\n",
    "missing_data"
   ]
  },
  {
   "cell_type": "code",
   "execution_count": 72,
   "metadata": {},
   "outputs": [],
   "source": [
    "# print the nullable columns -> \n",
    "\n",
    "nullable_columns = voters.columns[mask.any()].tolist()"
   ]
  },
  {
   "cell_type": "code",
   "execution_count": 73,
   "metadata": {},
   "outputs": [
    {
     "data": {
      "image/png": "[encoded data removed]",
      "text/plain": [
       "<Figure size 576x576 with 2 Axes>"
      ]
     },
     "metadata": {
      "needs_background": "light"
     },
     "output_type": "display_data"
    }
   ],
   "source": [
    "# use `missingno` libraries to plot the matrix and heatmap of nullable columns\n",
    "\n",
    "msno.matrix(voters[nullable_columns], figsize=(8,8))\n",
    "\n",
    "plt.show()"
   ]
  },
  {
   "cell_type": "code",
   "execution_count": 74,
   "metadata": {},
   "outputs": [
    {
     "data": {
      "image/png": "[encoded data removed]",
      "text/plain": [
       "<Figure size 576x576 with 2 Axes>"
      ]
     },
     "metadata": {
      "needs_background": "light"
     },
     "output_type": "display_data"
    }
   ],
   "source": [
    "msno.heatmap(voters[nullable_columns], figsize=(8,8), cmap='PuOr_r')\n",
    "\n",
    "plt.show()"
   ]
  },
  {
   "cell_type": "code",
   "execution_count": 75,
   "metadata": {},
   "outputs": [
    {
     "data": {
      "text/plain": [
       "<AxesSubplot:>"
      ]
     },
     "execution_count": 75,
     "metadata": {},
     "output_type": "execute_result"
    },
    {
     "data": {
      "image/png": "[encoded data removed]",
      "text/plain": [
       "<Figure size 576x576 with 3 Axes>"
      ]
     },
     "metadata": {
      "needs_background": "light"
     },
     "output_type": "display_data"
    }
   ],
   "source": [
    "msno.bar(voters[nullable_columns], figsize=(8,8))"
   ]
  },
  {
   "cell_type": "code",
   "execution_count": 199,
   "metadata": {},
   "outputs": [],
   "source": [
    "# convert to integer.\n",
    "\n",
    "voters['VOTERS'] = voters['VOTERS'].astype(int)\n",
    "voters['NO. OF POLLING STATIONS'] = voters['NO. OF POLLING STATIONS'].astype(int)\n",
    "voters['COUNTY_CODE'] = voters['COUNTY_CODE'].astype(int)\n",
    "voters['CONST_CODE'] = voters['CONST_CODE'].astype(int)"
   ]
  },
  {
   "cell_type": "code",
   "execution_count": 78,
   "metadata": {},
   "outputs": [],
   "source": [
    "voters.dropna(inplace=True)"
   ]
  },
  {
   "cell_type": "code",
   "execution_count": 79,
   "metadata": {},
   "outputs": [
    {
     "data": {
      "text/plain": [
       "0"
      ]
     },
     "execution_count": 79,
     "metadata": {},
     "output_type": "execute_result"
    }
   ],
   "source": [
    "voters.isna().sum().sum()"
   ]
  },
  {
   "cell_type": "markdown",
   "metadata": {},
   "source": [
    "`End of Part 1`"
   ]
  },
  {
   "cell_type": "markdown",
   "metadata": {},
   "source": [
    "================================="
   ]
  },
  {
   "cell_type": "code",
   "execution_count": 187,
   "metadata": {},
   "outputs": [
    {
     "data": {
      "text/html": [
       "<div>\n",
       "<style scoped>\n",
       "    .dataframe tbody tr th:only-of-type {\n",
       "        vertical-align: middle;\n",
       "    }\n",
       "\n",
       "    .dataframe tbody tr th {\n",
       "        vertical-align: top;\n",
       "    }\n",
       "\n",
       "    .dataframe thead th {\n",
       "        text-align: right;\n",
       "    }\n",
       "</style>\n",
       "<table border=\"1\" class=\"dataframe\">\n",
       "  <thead>\n",
       "    <tr style=\"text-align: right;\">\n",
       "      <th></th>\n",
       "      <th>COUNTY_CODE</th>\n",
       "      <th>COUNTY_NAME</th>\n",
       "      <th>CONST_CODE</th>\n",
       "      <th>CONSTITUENCY_NAME</th>\n",
       "      <th>VOTERS</th>\n",
       "      <th>NO. OF POLLING STATIONS</th>\n",
       "    </tr>\n",
       "  </thead>\n",
       "  <tbody>\n",
       "    <tr>\n",
       "      <th>1</th>\n",
       "      <td>1.0</td>\n",
       "      <td>MOMBASA</td>\n",
       "      <td>1.0</td>\n",
       "      <td>CHANGAMWE</td>\n",
       "      <td>86331</td>\n",
       "      <td>136</td>\n",
       "    </tr>\n",
       "    <tr>\n",
       "      <th>2</th>\n",
       "      <td>1.0</td>\n",
       "      <td>MOMBASA</td>\n",
       "      <td>2.0</td>\n",
       "      <td>JOMVU</td>\n",
       "      <td>69307</td>\n",
       "      <td>109</td>\n",
       "    </tr>\n",
       "    <tr>\n",
       "      <th>3</th>\n",
       "      <td>1.0</td>\n",
       "      <td>MOMBASA</td>\n",
       "      <td>3.0</td>\n",
       "      <td>KISAUNI</td>\n",
       "      <td>126151</td>\n",
       "      <td>198</td>\n",
       "    </tr>\n",
       "    <tr>\n",
       "      <th>4</th>\n",
       "      <td>1.0</td>\n",
       "      <td>MOMBASA</td>\n",
       "      <td>4.0</td>\n",
       "      <td>NYALI</td>\n",
       "      <td>104017</td>\n",
       "      <td>165</td>\n",
       "    </tr>\n",
       "    <tr>\n",
       "      <th>5</th>\n",
       "      <td>1.0</td>\n",
       "      <td>MOMBASA</td>\n",
       "      <td>5.0</td>\n",
       "      <td>LIKONI</td>\n",
       "      <td>87326</td>\n",
       "      <td>140</td>\n",
       "    </tr>\n",
       "  </tbody>\n",
       "</table>\n",
       "</div>"
      ],
      "text/plain": [
       "   COUNTY_CODE COUNTY_NAME  CONST_CODE CONSTITUENCY_NAME  VOTERS  \\\n",
       "1          1.0     MOMBASA         1.0         CHANGAMWE   86331   \n",
       "2          1.0     MOMBASA         2.0             JOMVU   69307   \n",
       "3          1.0     MOMBASA         3.0           KISAUNI  126151   \n",
       "4          1.0     MOMBASA         4.0             NYALI  104017   \n",
       "5          1.0     MOMBASA         5.0            LIKONI   87326   \n",
       "\n",
       "   NO. OF POLLING STATIONS  \n",
       "1                      136  \n",
       "2                      109  \n",
       "3                      198  \n",
       "4                      165  \n",
       "5                      140  "
      ]
     },
     "execution_count": 187,
     "metadata": {},
     "output_type": "execute_result"
    }
   ],
   "source": [
    "voters.head()"
   ]
  },
  {
   "cell_type": "code",
   "execution_count": 88,
   "metadata": {},
   "outputs": [
    {
     "data": {
      "text/plain": [
       "49"
      ]
     },
     "execution_count": 88,
     "metadata": {},
     "output_type": "execute_result"
    }
   ],
   "source": [
    "voters.COUNTY_NAME.nunique()"
   ]
  },
  {
   "cell_type": "code",
   "execution_count": 85,
   "metadata": {},
   "outputs": [
    {
     "data": {
      "text/plain": [
       "array(['MOMBASA', 'KWALE', 'KILIFI', 'TANA RIVER', 'LAMU', 'TAITA TAVETA',\n",
       "       'GARISSA', 'WAJIR', 'MANDERA', 'MARSABIT', 'ISIOLO', 'MERU',\n",
       "       'THARAKA - NITHI', 'EMBU', 'KITUI', 'MACHAKOS', 'MAKUENI',\n",
       "       'NYANDARUA', 'NYERI', 'KIRINYAGA', \"MURANG'A\", 'KIAMBU', 'TURKANA',\n",
       "       'WEST POKOT', 'SAMBURU', 'TRANS NZOIA', 'UASIN GISHU',\n",
       "       'ELGEYO/MARAKWET', 'NANDI', 'BARINGO', 'LAIKIPIA', 'NAKURU',\n",
       "       'NAROK', 'KAJIADO', 'KERICHO', 'BOMET', 'KAKAMEGA', 'VIHIGA',\n",
       "       'BUNGOMA', 'BUSIA', 'SIAYA', 'KISUMU', 'HOMA BAY', 'MIGORI',\n",
       "       'KISII', 'NYAMIRA', 'NAIROBI CITY', 'DIASPORA', 'PRISONS'],\n",
       "      dtype=object)"
      ]
     },
     "execution_count": 85,
     "metadata": {},
     "output_type": "execute_result"
    }
   ],
   "source": [
    "voters.COUNTY_NAME.unique()"
   ]
  },
  {
   "cell_type": "code",
   "execution_count": 94,
   "metadata": {},
   "outputs": [
    {
     "data": {
      "text/html": [
       "<div>\n",
       "<style scoped>\n",
       "    .dataframe tbody tr th:only-of-type {\n",
       "        vertical-align: middle;\n",
       "    }\n",
       "\n",
       "    .dataframe tbody tr th {\n",
       "        vertical-align: top;\n",
       "    }\n",
       "\n",
       "    .dataframe thead th {\n",
       "        text-align: right;\n",
       "    }\n",
       "</style>\n",
       "<table border=\"1\" class=\"dataframe\">\n",
       "  <thead>\n",
       "    <tr style=\"text-align: right;\">\n",
       "      <th></th>\n",
       "      <th>County</th>\n",
       "      <th>Number of Constituencies</th>\n",
       "    </tr>\n",
       "  </thead>\n",
       "  <tbody>\n",
       "    <tr>\n",
       "      <th>0</th>\n",
       "      <td>NAIROBI CITY</td>\n",
       "      <td>17</td>\n",
       "    </tr>\n",
       "    <tr>\n",
       "      <th>1</th>\n",
       "      <td>KAKAMEGA</td>\n",
       "      <td>12</td>\n",
       "    </tr>\n",
       "    <tr>\n",
       "      <th>2</th>\n",
       "      <td>KIAMBU</td>\n",
       "      <td>12</td>\n",
       "    </tr>\n",
       "    <tr>\n",
       "      <th>3</th>\n",
       "      <td>NAKURU</td>\n",
       "      <td>11</td>\n",
       "    </tr>\n",
       "    <tr>\n",
       "      <th>4</th>\n",
       "      <td>KISII</td>\n",
       "      <td>9</td>\n",
       "    </tr>\n",
       "    <tr>\n",
       "      <th>5</th>\n",
       "      <td>MERU</td>\n",
       "      <td>9</td>\n",
       "    </tr>\n",
       "    <tr>\n",
       "      <th>6</th>\n",
       "      <td>BUNGOMA</td>\n",
       "      <td>9</td>\n",
       "    </tr>\n",
       "    <tr>\n",
       "      <th>7</th>\n",
       "      <td>MACHAKOS</td>\n",
       "      <td>8</td>\n",
       "    </tr>\n",
       "    <tr>\n",
       "      <th>8</th>\n",
       "      <td>KITUI</td>\n",
       "      <td>8</td>\n",
       "    </tr>\n",
       "    <tr>\n",
       "      <th>9</th>\n",
       "      <td>HOMA BAY</td>\n",
       "      <td>8</td>\n",
       "    </tr>\n",
       "    <tr>\n",
       "      <th>10</th>\n",
       "      <td>MIGORI</td>\n",
       "      <td>8</td>\n",
       "    </tr>\n",
       "    <tr>\n",
       "      <th>11</th>\n",
       "      <td>MURANG'A</td>\n",
       "      <td>7</td>\n",
       "    </tr>\n",
       "    <tr>\n",
       "      <th>12</th>\n",
       "      <td>BUSIA</td>\n",
       "      <td>7</td>\n",
       "    </tr>\n",
       "    <tr>\n",
       "      <th>13</th>\n",
       "      <td>KILIFI</td>\n",
       "      <td>7</td>\n",
       "    </tr>\n",
       "    <tr>\n",
       "      <th>14</th>\n",
       "      <td>KISUMU</td>\n",
       "      <td>7</td>\n",
       "    </tr>\n",
       "    <tr>\n",
       "      <th>15</th>\n",
       "      <td>NAROK</td>\n",
       "      <td>6</td>\n",
       "    </tr>\n",
       "    <tr>\n",
       "      <th>16</th>\n",
       "      <td>KERICHO</td>\n",
       "      <td>6</td>\n",
       "    </tr>\n",
       "    <tr>\n",
       "      <th>17</th>\n",
       "      <td>BARINGO</td>\n",
       "      <td>6</td>\n",
       "    </tr>\n",
       "    <tr>\n",
       "      <th>18</th>\n",
       "      <td>NANDI</td>\n",
       "      <td>6</td>\n",
       "    </tr>\n",
       "    <tr>\n",
       "      <th>19</th>\n",
       "      <td>UASIN GISHU</td>\n",
       "      <td>6</td>\n",
       "    </tr>\n",
       "    <tr>\n",
       "      <th>20</th>\n",
       "      <td>TURKANA</td>\n",
       "      <td>6</td>\n",
       "    </tr>\n",
       "    <tr>\n",
       "      <th>21</th>\n",
       "      <td>MOMBASA</td>\n",
       "      <td>6</td>\n",
       "    </tr>\n",
       "    <tr>\n",
       "      <th>22</th>\n",
       "      <td>SIAYA</td>\n",
       "      <td>6</td>\n",
       "    </tr>\n",
       "    <tr>\n",
       "      <th>23</th>\n",
       "      <td>NYERI</td>\n",
       "      <td>6</td>\n",
       "    </tr>\n",
       "    <tr>\n",
       "      <th>24</th>\n",
       "      <td>MAKUENI</td>\n",
       "      <td>6</td>\n",
       "    </tr>\n",
       "    <tr>\n",
       "      <th>25</th>\n",
       "      <td>GARISSA</td>\n",
       "      <td>6</td>\n",
       "    </tr>\n",
       "    <tr>\n",
       "      <th>26</th>\n",
       "      <td>MANDERA</td>\n",
       "      <td>6</td>\n",
       "    </tr>\n",
       "    <tr>\n",
       "      <th>27</th>\n",
       "      <td>WAJIR</td>\n",
       "      <td>6</td>\n",
       "    </tr>\n",
       "    <tr>\n",
       "      <th>28</th>\n",
       "      <td>BOMET</td>\n",
       "      <td>5</td>\n",
       "    </tr>\n",
       "    <tr>\n",
       "      <th>29</th>\n",
       "      <td>TRANS NZOIA</td>\n",
       "      <td>5</td>\n",
       "    </tr>\n",
       "    <tr>\n",
       "      <th>30</th>\n",
       "      <td>NYANDARUA</td>\n",
       "      <td>5</td>\n",
       "    </tr>\n",
       "    <tr>\n",
       "      <th>31</th>\n",
       "      <td>VIHIGA</td>\n",
       "      <td>5</td>\n",
       "    </tr>\n",
       "    <tr>\n",
       "      <th>32</th>\n",
       "      <td>KAJIADO</td>\n",
       "      <td>5</td>\n",
       "    </tr>\n",
       "    <tr>\n",
       "      <th>33</th>\n",
       "      <td>NYAMIRA</td>\n",
       "      <td>4</td>\n",
       "    </tr>\n",
       "    <tr>\n",
       "      <th>34</th>\n",
       "      <td>TAITA TAVETA</td>\n",
       "      <td>4</td>\n",
       "    </tr>\n",
       "    <tr>\n",
       "      <th>35</th>\n",
       "      <td>KIRINYAGA</td>\n",
       "      <td>4</td>\n",
       "    </tr>\n",
       "    <tr>\n",
       "      <th>36</th>\n",
       "      <td>WEST POKOT</td>\n",
       "      <td>4</td>\n",
       "    </tr>\n",
       "    <tr>\n",
       "      <th>37</th>\n",
       "      <td>EMBU</td>\n",
       "      <td>4</td>\n",
       "    </tr>\n",
       "    <tr>\n",
       "      <th>38</th>\n",
       "      <td>ELGEYO/MARAKWET</td>\n",
       "      <td>4</td>\n",
       "    </tr>\n",
       "    <tr>\n",
       "      <th>39</th>\n",
       "      <td>KWALE</td>\n",
       "      <td>4</td>\n",
       "    </tr>\n",
       "    <tr>\n",
       "      <th>40</th>\n",
       "      <td>MARSABIT</td>\n",
       "      <td>4</td>\n",
       "    </tr>\n",
       "    <tr>\n",
       "      <th>41</th>\n",
       "      <td>SAMBURU</td>\n",
       "      <td>3</td>\n",
       "    </tr>\n",
       "    <tr>\n",
       "      <th>42</th>\n",
       "      <td>LAIKIPIA</td>\n",
       "      <td>3</td>\n",
       "    </tr>\n",
       "    <tr>\n",
       "      <th>43</th>\n",
       "      <td>THARAKA - NITHI</td>\n",
       "      <td>3</td>\n",
       "    </tr>\n",
       "    <tr>\n",
       "      <th>44</th>\n",
       "      <td>TANA RIVER</td>\n",
       "      <td>3</td>\n",
       "    </tr>\n",
       "    <tr>\n",
       "      <th>45</th>\n",
       "      <td>ISIOLO</td>\n",
       "      <td>2</td>\n",
       "    </tr>\n",
       "    <tr>\n",
       "      <th>46</th>\n",
       "      <td>LAMU</td>\n",
       "      <td>2</td>\n",
       "    </tr>\n",
       "    <tr>\n",
       "      <th>47</th>\n",
       "      <td>DIASPORA</td>\n",
       "      <td>1</td>\n",
       "    </tr>\n",
       "    <tr>\n",
       "      <th>48</th>\n",
       "      <td>PRISONS</td>\n",
       "      <td>1</td>\n",
       "    </tr>\n",
       "  </tbody>\n",
       "</table>\n",
       "</div>"
      ],
      "text/plain": [
       "             County  Number of Constituencies\n",
       "0      NAIROBI CITY                        17\n",
       "1          KAKAMEGA                        12\n",
       "2            KIAMBU                        12\n",
       "3            NAKURU                        11\n",
       "4             KISII                         9\n",
       "5              MERU                         9\n",
       "6           BUNGOMA                         9\n",
       "7          MACHAKOS                         8\n",
       "8             KITUI                         8\n",
       "9          HOMA BAY                         8\n",
       "10           MIGORI                         8\n",
       "11         MURANG'A                         7\n",
       "12            BUSIA                         7\n",
       "13           KILIFI                         7\n",
       "14           KISUMU                         7\n",
       "15            NAROK                         6\n",
       "16          KERICHO                         6\n",
       "17          BARINGO                         6\n",
       "18            NANDI                         6\n",
       "19      UASIN GISHU                         6\n",
       "20          TURKANA                         6\n",
       "21          MOMBASA                         6\n",
       "22            SIAYA                         6\n",
       "23            NYERI                         6\n",
       "24          MAKUENI                         6\n",
       "25          GARISSA                         6\n",
       "26          MANDERA                         6\n",
       "27            WAJIR                         6\n",
       "28            BOMET                         5\n",
       "29      TRANS NZOIA                         5\n",
       "30        NYANDARUA                         5\n",
       "31           VIHIGA                         5\n",
       "32          KAJIADO                         5\n",
       "33          NYAMIRA                         4\n",
       "34     TAITA TAVETA                         4\n",
       "35        KIRINYAGA                         4\n",
       "36       WEST POKOT                         4\n",
       "37             EMBU                         4\n",
       "38  ELGEYO/MARAKWET                         4\n",
       "39            KWALE                         4\n",
       "40         MARSABIT                         4\n",
       "41          SAMBURU                         3\n",
       "42         LAIKIPIA                         3\n",
       "43  THARAKA - NITHI                         3\n",
       "44       TANA RIVER                         3\n",
       "45           ISIOLO                         2\n",
       "46             LAMU                         2\n",
       "47         DIASPORA                         1\n",
       "48          PRISONS                         1"
      ]
     },
     "execution_count": 94,
     "metadata": {},
     "output_type": "execute_result"
    }
   ],
   "source": [
    "vpc = voters.COUNTY_NAME.value_counts().reset_index()\n",
    "vpc.rename(columns={'index':'County', 'COUNTY_NAME':'Number of Constituencies'}, inplace=True)\n",
    "vpc"
   ]
  },
  {
   "cell_type": "code",
   "execution_count": 108,
   "metadata": {},
   "outputs": [
    {
     "data": {
      "application/vnd.plotly.v1+json": {
       "config": {
        "plotlyServerURL": "https://plot.ly"
       },
       "data": [
        {
         "alignmentgroup": "True",
         "hovertemplate": "variable=COUNTY_NAME<br>index=%{x}<br>value=%{y}<extra></extra>",
         "legendgroup": "COUNTY_NAME",
         "marker": {
          "color": "#771933",
          "pattern": {
           "shape": ""
          }
         },
         "name": "COUNTY_NAME",
         "offsetgroup": "COUNTY_NAME",
         "orientation": "v",
         "showlegend": true,
         "textposition": "auto",
         "type": "bar",
         "x": [
          "NAIROBI CITY",
          "KAKAMEGA",
          "KIAMBU",
          "NAKURU",
          "KISII",
          "MERU",
          "BUNGOMA",
          "MACHAKOS",
          "KITUI",
          "HOMA BAY",
          "MIGORI",
          "MURANG'A",
          "BUSIA",
          "KILIFI",
          "KISUMU",
          "NAROK",
          "KERICHO",
          "BARINGO",
          "NANDI",
          "UASIN GISHU",
          "TURKANA",
          "MOMBASA",
          "SIAYA",
          "NYERI",
          "MAKUENI",
          "GARISSA",
          "MANDERA",
          "WAJIR",
          "BOMET",
          "TRANS NZOIA",
          "NYANDARUA",
          "VIHIGA",
          "KAJIADO",
          "NYAMIRA",
          "TAITA TAVETA",
          "KIRINYAGA",
          "WEST POKOT",
          "EMBU",
          "ELGEYO/MARAKWET",
          "KWALE",
          "MARSABIT",
          "SAMBURU",
          "LAIKIPIA",
          "THARAKA - NITHI",
          "TANA RIVER",
          "ISIOLO",
          "LAMU",
          "DIASPORA",
          "PRISONS"
         ],
         "xaxis": "x",
         "y": [
          17,
          12,
          12,
          11,
          9,
          9,
          9,
          8,
          8,
          8,
          8,
          7,
          7,
          7,
          7,
          6,
          6,
          6,
          6,
          6,
          6,
          6,
          6,
          6,
          6,
          6,
          6,
          6,
          5,
          5,
          5,
          5,
          5,
          4,
          4,
          4,
          4,
          4,
          4,
          4,
          4,
          3,
          3,
          3,
          3,
          2,
          2,
          1,
          1
         ],
         "yaxis": "y"
        }
       ],
       "layout": {
        "barmode": "relative",
        "legend": {
         "title": {
          "text": "variable"
         },
         "tracegroupgap": 0
        },
        "margin": {
         "t": 60
        },
        "template": {
         "data": {
          "bar": [
           {
            "error_x": {
             "color": "#2a3f5f"
            },
            "error_y": {
             "color": "#2a3f5f"
            },
            "marker": {
             "line": {
              "color": "#E5ECF6",
              "width": 0.5
             },
             "pattern": {
              "fillmode": "overlay",
              "size": 10,
              "solidity": 0.2
             }
            },
            "type": "bar"
           }
          ],
          "barpolar": [
           {
            "marker": {
             "line": {
              "color": "#E5ECF6",
              "width": 0.5
             },
             "pattern": {
              "fillmode": "overlay",
              "size": 10,
              "solidity": 0.2
             }
            },
            "type": "barpolar"
           }
          ],
          "carpet": [
           {
            "aaxis": {
             "endlinecolor": "#2a3f5f",
             "gridcolor": "white",
             "linecolor": "white",
             "minorgridcolor": "white",
             "startlinecolor": "#2a3f5f"
            },
            "baxis": {
             "endlinecolor": "#2a3f5f",
             "gridcolor": "white",
             "linecolor": "white",
             "minorgridcolor": "white",
             "startlinecolor": "#2a3f5f"
            },
            "type": "carpet"
           }
          ],
          "choropleth": [
           {
            "colorbar": {
             "outlinewidth": 0,
             "ticks": ""
            },
            "type": "choropleth"
           }
          ],
          "contour": [
           {
            "colorbar": {
             "outlinewidth": 0,
             "ticks": ""
            },
            "colorscale": [
             [
              0,
              "#0d0887"
             ],
             [
              0.1111111111111111,
              "#46039f"
             ],
             [
              0.2222222222222222,
              "#7201a8"
             ],
             [
              0.3333333333333333,
              "#9c179e"
             ],
             [
              0.4444444444444444,
              "#bd3786"
             ],
             [
              0.5555555555555556,
              "#d8576b"
             ],
             [
              0.6666666666666666,
              "#ed7953"
             ],
             [
              0.7777777777777778,
              "#fb9f3a"
             ],
             [
              0.8888888888888888,
              "#fdca26"
             ],
             [
              1,
              "#f0f921"
             ]
            ],
            "type": "contour"
           }
          ],
          "contourcarpet": [
           {
            "colorbar": {
             "outlinewidth": 0,
             "ticks": ""
            },
            "type": "contourcarpet"
           }
          ],
          "heatmap": [
           {
            "colorbar": {
             "outlinewidth": 0,
             "ticks": ""
            },
            "colorscale": [
             [
              0,
              "#0d0887"
             ],
             [
              0.1111111111111111,
              "#46039f"
             ],
             [
              0.2222222222222222,
              "#7201a8"
             ],
             [
              0.3333333333333333,
              "#9c179e"
             ],
             [
              0.4444444444444444,
              "#bd3786"
             ],
             [
              0.5555555555555556,
              "#d8576b"
             ],
             [
              0.6666666666666666,
              "#ed7953"
             ],
             [
              0.7777777777777778,
              "#fb9f3a"
             ],
             [
              0.8888888888888888,
              "#fdca26"
             ],
             [
              1,
              "#f0f921"
             ]
            ],
            "type": "heatmap"
           }
          ],
          "heatmapgl": [
           {
            "colorbar": {
             "outlinewidth": 0,
             "ticks": ""
            },
            "colorscale": [
             [
              0,
              "#0d0887"
             ],
             [
              0.1111111111111111,
              "#46039f"
             ],
             [
              0.2222222222222222,
              "#7201a8"
             ],
             [
              0.3333333333333333,
              "#9c179e"
             ],
             [
              0.4444444444444444,
              "#bd3786"
             ],
             [
              0.5555555555555556,
              "#d8576b"
             ],
             [
              0.6666666666666666,
              "#ed7953"
             ],
             [
              0.7777777777777778,
              "#fb9f3a"
             ],
             [
              0.8888888888888888,
              "#fdca26"
             ],
             [
              1,
              "#f0f921"
             ]
            ],
            "type": "heatmapgl"
           }
          ],
          "histogram": [
           {
            "marker": {
             "pattern": {
              "fillmode": "overlay",
              "size": 10,
              "solidity": 0.2
             }
            },
            "type": "histogram"
           }
          ],
          "histogram2d": [
           {
            "colorbar": {
             "outlinewidth": 0,
             "ticks": ""
            },
            "colorscale": [
             [
              0,
              "#0d0887"
             ],
             [
              0.1111111111111111,
              "#46039f"
             ],
             [
              0.2222222222222222,
              "#7201a8"
             ],
             [
              0.3333333333333333,
              "#9c179e"
             ],
             [
              0.4444444444444444,
              "#bd3786"
             ],
             [
              0.5555555555555556,
              "#d8576b"
             ],
             [
              0.6666666666666666,
              "#ed7953"
             ],
             [
              0.7777777777777778,
              "#fb9f3a"
             ],
             [
              0.8888888888888888,
              "#fdca26"
             ],
             [
              1,
              "#f0f921"
             ]
            ],
            "type": "histogram2d"
           }
          ],
          "histogram2dcontour": [
           {
            "colorbar": {
             "outlinewidth": 0,
             "ticks": ""
            },
            "colorscale": [
             [
              0,
              "#0d0887"
             ],
             [
              0.1111111111111111,
              "#46039f"
             ],
             [
              0.2222222222222222,
              "#7201a8"
             ],
             [
              0.3333333333333333,
              "#9c179e"
             ],
             [
              0.4444444444444444,
              "#bd3786"
             ],
             [
              0.5555555555555556,
              "#d8576b"
             ],
             [
              0.6666666666666666,
              "#ed7953"
             ],
             [
              0.7777777777777778,
              "#fb9f3a"
             ],
             [
              0.8888888888888888,
              "#fdca26"
             ],
             [
              1,
              "#f0f921"
             ]
            ],
            "type": "histogram2dcontour"
           }
          ],
          "mesh3d": [
           {
            "colorbar": {
             "outlinewidth": 0,
             "ticks": ""
            },
            "type": "mesh3d"
           }
          ],
          "parcoords": [
           {
            "line": {
             "colorbar": {
              "outlinewidth": 0,
              "ticks": ""
             }
            },
            "type": "parcoords"
           }
          ],
          "pie": [
           {
            "automargin": true,
            "type": "pie"
           }
          ],
          "scatter": [
           {
            "fillpattern": {
             "fillmode": "overlay",
             "size": 10,
             "solidity": 0.2
            },
            "type": "scatter"
           }
          ],
          "scatter3d": [
           {
            "line": {
             "colorbar": {
              "outlinewidth": 0,
              "ticks": ""
             }
            },
            "marker": {
             "colorbar": {
              "outlinewidth": 0,
              "ticks": ""
             }
            },
            "type": "scatter3d"
           }
          ],
          "scattercarpet": [
           {
            "marker": {
             "colorbar": {
              "outlinewidth": 0,
              "ticks": ""
             }
            },
            "type": "scattercarpet"
           }
          ],
          "scattergeo": [
           {
            "marker": {
             "colorbar": {
              "outlinewidth": 0,
              "ticks": ""
             }
            },
            "type": "scattergeo"
           }
          ],
          "scattergl": [
           {
            "marker": {
             "colorbar": {
              "outlinewidth": 0,
              "ticks": ""
             }
            },
            "type": "scattergl"
           }
          ],
          "scattermapbox": [
           {
            "marker": {
             "colorbar": {
              "outlinewidth": 0,
              "ticks": ""
             }
            },
            "type": "scattermapbox"
           }
          ],
          "scatterpolar": [
           {
            "marker": {
             "colorbar": {
              "outlinewidth": 0,
              "ticks": ""
             }
            },
            "type": "scatterpolar"
           }
          ],
          "scatterpolargl": [
           {
            "marker": {
             "colorbar": {
              "outlinewidth": 0,
              "ticks": ""
             }
            },
            "type": "scatterpolargl"
           }
          ],
          "scatterternary": [
           {
            "marker": {
             "colorbar": {
              "outlinewidth": 0,
              "ticks": ""
             }
            },
            "type": "scatterternary"
           }
          ],
          "surface": [
           {
            "colorbar": {
             "outlinewidth": 0,
             "ticks": ""
            },
            "colorscale": [
             [
              0,
              "#0d0887"
             ],
             [
              0.1111111111111111,
              "#46039f"
             ],
             [
              0.2222222222222222,
              "#7201a8"
             ],
             [
              0.3333333333333333,
              "#9c179e"
             ],
             [
              0.4444444444444444,
              "#bd3786"
             ],
             [
              0.5555555555555556,
              "#d8576b"
             ],
             [
              0.6666666666666666,
              "#ed7953"
             ],
             [
              0.7777777777777778,
              "#fb9f3a"
             ],
             [
              0.8888888888888888,
              "#fdca26"
             ],
             [
              1,
              "#f0f921"
             ]
            ],
            "type": "surface"
           }
          ],
          "table": [
           {
            "cells": {
             "fill": {
              "color": "#EBF0F8"
             },
             "line": {
              "color": "white"
             }
            },
            "header": {
             "fill": {
              "color": "#C8D4E3"
             },
             "line": {
              "color": "white"
             }
            },
            "type": "table"
           }
          ]
         },
         "layout": {
          "annotationdefaults": {
           "arrowcolor": "#2a3f5f",
           "arrowhead": 0,
           "arrowwidth": 1
          },
          "autotypenumbers": "strict",
          "coloraxis": {
           "colorbar": {
            "outlinewidth": 0,
            "ticks": ""
           }
          },
          "colorscale": {
           "diverging": [
            [
             0,
             "#8e0152"
            ],
            [
             0.1,
             "#c51b7d"
            ],
            [
             0.2,
             "#de77ae"
            ],
            [
             0.3,
             "#f1b6da"
            ],
            [
             0.4,
             "#fde0ef"
            ],
            [
             0.5,
             "#f7f7f7"
            ],
            [
             0.6,
             "#e6f5d0"
            ],
            [
             0.7,
             "#b8e186"
            ],
            [
             0.8,
             "#7fbc41"
            ],
            [
             0.9,
             "#4d9221"
            ],
            [
             1,
             "#276419"
            ]
           ],
           "sequential": [
            [
             0,
             "#0d0887"
            ],
            [
             0.1111111111111111,
             "#46039f"
            ],
            [
             0.2222222222222222,
             "#7201a8"
            ],
            [
             0.3333333333333333,
             "#9c179e"
            ],
            [
             0.4444444444444444,
             "#bd3786"
            ],
            [
             0.5555555555555556,
             "#d8576b"
            ],
            [
             0.6666666666666666,
             "#ed7953"
            ],
            [
             0.7777777777777778,
             "#fb9f3a"
            ],
            [
             0.8888888888888888,
             "#fdca26"
            ],
            [
             1,
             "#f0f921"
            ]
           ],
           "sequentialminus": [
            [
             0,
             "#0d0887"
            ],
            [
             0.1111111111111111,
             "#46039f"
            ],
            [
             0.2222222222222222,
             "#7201a8"
            ],
            [
             0.3333333333333333,
             "#9c179e"
            ],
            [
             0.4444444444444444,
             "#bd3786"
            ],
            [
             0.5555555555555556,
             "#d8576b"
            ],
            [
             0.6666666666666666,
             "#ed7953"
            ],
            [
             0.7777777777777778,
             "#fb9f3a"
            ],
            [
             0.8888888888888888,
             "#fdca26"
            ],
            [
             1,
             "#f0f921"
            ]
           ]
          },
          "colorway": [
           "#636efa",
           "#EF553B",
           "#00cc96",
           "#ab63fa",
           "#FFA15A",
           "#19d3f3",
           "#FF6692",
           "#B6E880",
           "#FF97FF",
           "#FECB52"
          ],
          "font": {
           "color": "#2a3f5f"
          },
          "geo": {
           "bgcolor": "white",
           "lakecolor": "white",
           "landcolor": "#E5ECF6",
           "showlakes": true,
           "showland": true,
           "subunitcolor": "white"
          },
          "hoverlabel": {
           "align": "left"
          },
          "hovermode": "closest",
          "mapbox": {
           "style": "light"
          },
          "paper_bgcolor": "white",
          "plot_bgcolor": "#E5ECF6",
          "polar": {
           "angularaxis": {
            "gridcolor": "white",
            "linecolor": "white",
            "ticks": ""
           },
           "bgcolor": "#E5ECF6",
           "radialaxis": {
            "gridcolor": "white",
            "linecolor": "white",
            "ticks": ""
           }
          },
          "scene": {
           "xaxis": {
            "backgroundcolor": "#E5ECF6",
            "gridcolor": "white",
            "gridwidth": 2,
            "linecolor": "white",
            "showbackground": true,
            "ticks": "",
            "zerolinecolor": "white"
           },
           "yaxis": {
            "backgroundcolor": "#E5ECF6",
            "gridcolor": "white",
            "gridwidth": 2,
            "linecolor": "white",
            "showbackground": true,
            "ticks": "",
            "zerolinecolor": "white"
           },
           "zaxis": {
            "backgroundcolor": "#E5ECF6",
            "gridcolor": "white",
            "gridwidth": 2,
            "linecolor": "white",
            "showbackground": true,
            "ticks": "",
            "zerolinecolor": "white"
           }
          },
          "shapedefaults": {
           "line": {
            "color": "#2a3f5f"
           }
          },
          "ternary": {
           "aaxis": {
            "gridcolor": "white",
            "linecolor": "white",
            "ticks": ""
           },
           "baxis": {
            "gridcolor": "white",
            "linecolor": "white",
            "ticks": ""
           },
           "bgcolor": "#E5ECF6",
           "caxis": {
            "gridcolor": "white",
            "linecolor": "white",
            "ticks": ""
           }
          },
          "title": {
           "x": 0.05
          },
          "xaxis": {
           "automargin": true,
           "gridcolor": "white",
           "linecolor": "white",
           "ticks": "",
           "title": {
            "standoff": 15
           },
           "zerolinecolor": "white",
           "zerolinewidth": 2
          },
          "yaxis": {
           "automargin": true,
           "gridcolor": "white",
           "linecolor": "white",
           "ticks": "",
           "title": {
            "standoff": 15
           },
           "zerolinecolor": "white",
           "zerolinewidth": 2
          }
         }
        },
        "xaxis": {
         "anchor": "y",
         "domain": [
          0,
          1
         ],
         "title": {
          "text": "index"
         }
        },
        "yaxis": {
         "anchor": "x",
         "domain": [
          0,
          1
         ],
         "title": {
          "text": "value"
         }
        }
       }
      }
     },
     "metadata": {},
     "output_type": "display_data"
    }
   ],
   "source": [
    "px.bar(voters.COUNTY_NAME.value_counts(), color_discrete_sequence=['#771933'])"
   ]
  },
  {
   "cell_type": "code",
   "execution_count": 148,
   "metadata": {},
   "outputs": [
    {
     "data": {
      "application/vnd.plotly.v1+json": {
       "config": {
        "plotlyServerURL": "https://plot.ly"
       },
       "data": [
        {
         "alignmentgroup": "True",
         "box": {
          "visible": true
         },
         "hovertemplate": "y=%{y}<extra></extra>",
         "legendgroup": "",
         "marker": {
          "color": "yellowgreen"
         },
         "name": "",
         "offsetgroup": "",
         "orientation": "v",
         "points": "all",
         "scalegroup": "True",
         "showlegend": false,
         "type": "violin",
         "x0": " ",
         "xaxis": "x",
         "y": [
          17,
          12,
          12,
          11,
          9,
          9,
          9,
          8,
          8,
          8,
          8,
          7,
          7,
          7,
          7,
          6,
          6,
          6,
          6,
          6,
          6,
          6,
          6,
          6,
          6,
          6,
          6,
          6,
          5,
          5,
          5,
          5,
          5,
          4,
          4,
          4,
          4,
          4,
          4,
          4,
          4,
          3,
          3,
          3,
          3,
          2,
          2,
          1,
          1
         ],
         "y0": " ",
         "yaxis": "y"
        }
       ],
       "layout": {
        "legend": {
         "tracegroupgap": 0
        },
        "margin": {
         "t": 60
        },
        "template": {
         "data": {
          "bar": [
           {
            "error_x": {
             "color": "#2a3f5f"
            },
            "error_y": {
             "color": "#2a3f5f"
            },
            "marker": {
             "line": {
              "color": "#E5ECF6",
              "width": 0.5
             },
             "pattern": {
              "fillmode": "overlay",
              "size": 10,
              "solidity": 0.2
             }
            },
            "type": "bar"
           }
          ],
          "barpolar": [
           {
            "marker": {
             "line": {
              "color": "#E5ECF6",
              "width": 0.5
             },
             "pattern": {
              "fillmode": "overlay",
              "size": 10,
              "solidity": 0.2
             }
            },
            "type": "barpolar"
           }
          ],
          "carpet": [
           {
            "aaxis": {
             "endlinecolor": "#2a3f5f",
             "gridcolor": "white",
             "linecolor": "white",
             "minorgridcolor": "white",
             "startlinecolor": "#2a3f5f"
            },
            "baxis": {
             "endlinecolor": "#2a3f5f",
             "gridcolor": "white",
             "linecolor": "white",
             "minorgridcolor": "white",
             "startlinecolor": "#2a3f5f"
            },
            "type": "carpet"
           }
          ],
          "choropleth": [
           {
            "colorbar": {
             "outlinewidth": 0,
             "ticks": ""
            },
            "type": "choropleth"
           }
          ],
          "contour": [
           {
            "colorbar": {
             "outlinewidth": 0,
             "ticks": ""
            },
            "colorscale": [
             [
              0,
              "#0d0887"
             ],
             [
              0.1111111111111111,
              "#46039f"
             ],
             [
              0.2222222222222222,
              "#7201a8"
             ],
             [
              0.3333333333333333,
              "#9c179e"
             ],
             [
              0.4444444444444444,
              "#bd3786"
             ],
             [
              0.5555555555555556,
              "#d8576b"
             ],
             [
              0.6666666666666666,
              "#ed7953"
             ],
             [
              0.7777777777777778,
              "#fb9f3a"
             ],
             [
              0.8888888888888888,
              "#fdca26"
             ],
             [
              1,
              "#f0f921"
             ]
            ],
            "type": "contour"
           }
          ],
          "contourcarpet": [
           {
            "colorbar": {
             "outlinewidth": 0,
             "ticks": ""
            },
            "type": "contourcarpet"
           }
          ],
          "heatmap": [
           {
            "colorbar": {
             "outlinewidth": 0,
             "ticks": ""
            },
            "colorscale": [
             [
              0,
              "#0d0887"
             ],
             [
              0.1111111111111111,
              "#46039f"
             ],
             [
              0.2222222222222222,
              "#7201a8"
             ],
             [
              0.3333333333333333,
              "#9c179e"
             ],
             [
              0.4444444444444444,
              "#bd3786"
             ],
             [
              0.5555555555555556,
              "#d8576b"
             ],
             [
              0.6666666666666666,
              "#ed7953"
             ],
             [
              0.7777777777777778,
              "#fb9f3a"
             ],
             [
              0.8888888888888888,
              "#fdca26"
             ],
             [
              1,
              "#f0f921"
             ]
            ],
            "type": "heatmap"
           }
          ],
          "heatmapgl": [
           {
            "colorbar": {
             "outlinewidth": 0,
             "ticks": ""
            },
            "colorscale": [
             [
              0,
              "#0d0887"
             ],
             [
              0.1111111111111111,
              "#46039f"
             ],
             [
              0.2222222222222222,
              "#7201a8"
             ],
             [
              0.3333333333333333,
              "#9c179e"
             ],
             [
              0.4444444444444444,
              "#bd3786"
             ],
             [
              0.5555555555555556,
              "#d8576b"
             ],
             [
              0.6666666666666666,
              "#ed7953"
             ],
             [
              0.7777777777777778,
              "#fb9f3a"
             ],
             [
              0.8888888888888888,
              "#fdca26"
             ],
             [
              1,
              "#f0f921"
             ]
            ],
            "type": "heatmapgl"
           }
          ],
          "histogram": [
           {
            "marker": {
             "pattern": {
              "fillmode": "overlay",
              "size": 10,
              "solidity": 0.2
             }
            },
            "type": "histogram"
           }
          ],
          "histogram2d": [
           {
            "colorbar": {
             "outlinewidth": 0,
             "ticks": ""
            },
            "colorscale": [
             [
              0,
              "#0d0887"
             ],
             [
              0.1111111111111111,
              "#46039f"
             ],
             [
              0.2222222222222222,
              "#7201a8"
             ],
             [
              0.3333333333333333,
              "#9c179e"
             ],
             [
              0.4444444444444444,
              "#bd3786"
             ],
             [
              0.5555555555555556,
              "#d8576b"
             ],
             [
              0.6666666666666666,
              "#ed7953"
             ],
             [
              0.7777777777777778,
              "#fb9f3a"
             ],
             [
              0.8888888888888888,
              "#fdca26"
             ],
             [
              1,
              "#f0f921"
             ]
            ],
            "type": "histogram2d"
           }
          ],
          "histogram2dcontour": [
           {
            "colorbar": {
             "outlinewidth": 0,
             "ticks": ""
            },
            "colorscale": [
             [
              0,
              "#0d0887"
             ],
             [
              0.1111111111111111,
              "#46039f"
             ],
             [
              0.2222222222222222,
              "#7201a8"
             ],
             [
              0.3333333333333333,
              "#9c179e"
             ],
             [
              0.4444444444444444,
              "#bd3786"
             ],
             [
              0.5555555555555556,
              "#d8576b"
             ],
             [
              0.6666666666666666,
              "#ed7953"
             ],
             [
              0.7777777777777778,
              "#fb9f3a"
             ],
             [
              0.8888888888888888,
              "#fdca26"
             ],
             [
              1,
              "#f0f921"
             ]
            ],
            "type": "histogram2dcontour"
           }
          ],
          "mesh3d": [
           {
            "colorbar": {
             "outlinewidth": 0,
             "ticks": ""
            },
            "type": "mesh3d"
           }
          ],
          "parcoords": [
           {
            "line": {
             "colorbar": {
              "outlinewidth": 0,
              "ticks": ""
             }
            },
            "type": "parcoords"
           }
          ],
          "pie": [
           {
            "automargin": true,
            "type": "pie"
           }
          ],
          "scatter": [
           {
            "fillpattern": {
             "fillmode": "overlay",
             "size": 10,
             "solidity": 0.2
            },
            "type": "scatter"
           }
          ],
          "scatter3d": [
           {
            "line": {
             "colorbar": {
              "outlinewidth": 0,
              "ticks": ""
             }
            },
            "marker": {
             "colorbar": {
              "outlinewidth": 0,
              "ticks": ""
             }
            },
            "type": "scatter3d"
           }
          ],
          "scattercarpet": [
           {
            "marker": {
             "colorbar": {
              "outlinewidth": 0,
              "ticks": ""
             }
            },
            "type": "scattercarpet"
           }
          ],
          "scattergeo": [
           {
            "marker": {
             "colorbar": {
              "outlinewidth": 0,
              "ticks": ""
             }
            },
            "type": "scattergeo"
           }
          ],
          "scattergl": [
           {
            "marker": {
             "colorbar": {
              "outlinewidth": 0,
              "ticks": ""
             }
            },
            "type": "scattergl"
           }
          ],
          "scattermapbox": [
           {
            "marker": {
             "colorbar": {
              "outlinewidth": 0,
              "ticks": ""
             }
            },
            "type": "scattermapbox"
           }
          ],
          "scatterpolar": [
           {
            "marker": {
             "colorbar": {
              "outlinewidth": 0,
              "ticks": ""
             }
            },
            "type": "scatterpolar"
           }
          ],
          "scatterpolargl": [
           {
            "marker": {
             "colorbar": {
              "outlinewidth": 0,
              "ticks": ""
             }
            },
            "type": "scatterpolargl"
           }
          ],
          "scatterternary": [
           {
            "marker": {
             "colorbar": {
              "outlinewidth": 0,
              "ticks": ""
             }
            },
            "type": "scatterternary"
           }
          ],
          "surface": [
           {
            "colorbar": {
             "outlinewidth": 0,
             "ticks": ""
            },
            "colorscale": [
             [
              0,
              "#0d0887"
             ],
             [
              0.1111111111111111,
              "#46039f"
             ],
             [
              0.2222222222222222,
              "#7201a8"
             ],
             [
              0.3333333333333333,
              "#9c179e"
             ],
             [
              0.4444444444444444,
              "#bd3786"
             ],
             [
              0.5555555555555556,
              "#d8576b"
             ],
             [
              0.6666666666666666,
              "#ed7953"
             ],
             [
              0.7777777777777778,
              "#fb9f3a"
             ],
             [
              0.8888888888888888,
              "#fdca26"
             ],
             [
              1,
              "#f0f921"
             ]
            ],
            "type": "surface"
           }
          ],
          "table": [
           {
            "cells": {
             "fill": {
              "color": "#EBF0F8"
             },
             "line": {
              "color": "white"
             }
            },
            "header": {
             "fill": {
              "color": "#C8D4E3"
             },
             "line": {
              "color": "white"
             }
            },
            "type": "table"
           }
          ]
         },
         "layout": {
          "annotationdefaults": {
           "arrowcolor": "#2a3f5f",
           "arrowhead": 0,
           "arrowwidth": 1
          },
          "autotypenumbers": "strict",
          "coloraxis": {
           "colorbar": {
            "outlinewidth": 0,
            "ticks": ""
           }
          },
          "colorscale": {
           "diverging": [
            [
             0,
             "#8e0152"
            ],
            [
             0.1,
             "#c51b7d"
            ],
            [
             0.2,
             "#de77ae"
            ],
            [
             0.3,
             "#f1b6da"
            ],
            [
             0.4,
             "#fde0ef"
            ],
            [
             0.5,
             "#f7f7f7"
            ],
            [
             0.6,
             "#e6f5d0"
            ],
            [
             0.7,
             "#b8e186"
            ],
            [
             0.8,
             "#7fbc41"
            ],
            [
             0.9,
             "#4d9221"
            ],
            [
             1,
             "#276419"
            ]
           ],
           "sequential": [
            [
             0,
             "#0d0887"
            ],
            [
             0.1111111111111111,
             "#46039f"
            ],
            [
             0.2222222222222222,
             "#7201a8"
            ],
            [
             0.3333333333333333,
             "#9c179e"
            ],
            [
             0.4444444444444444,
             "#bd3786"
            ],
            [
             0.5555555555555556,
             "#d8576b"
            ],
            [
             0.6666666666666666,
             "#ed7953"
            ],
            [
             0.7777777777777778,
             "#fb9f3a"
            ],
            [
             0.8888888888888888,
             "#fdca26"
            ],
            [
             1,
             "#f0f921"
            ]
           ],
           "sequentialminus": [
            [
             0,
             "#0d0887"
            ],
            [
             0.1111111111111111,
             "#46039f"
            ],
            [
             0.2222222222222222,
             "#7201a8"
            ],
            [
             0.3333333333333333,
             "#9c179e"
            ],
            [
             0.4444444444444444,
             "#bd3786"
            ],
            [
             0.5555555555555556,
             "#d8576b"
            ],
            [
             0.6666666666666666,
             "#ed7953"
            ],
            [
             0.7777777777777778,
             "#fb9f3a"
            ],
            [
             0.8888888888888888,
             "#fdca26"
            ],
            [
             1,
             "#f0f921"
            ]
           ]
          },
          "colorway": [
           "#636efa",
           "#EF553B",
           "#00cc96",
           "#ab63fa",
           "#FFA15A",
           "#19d3f3",
           "#FF6692",
           "#B6E880",
           "#FF97FF",
           "#FECB52"
          ],
          "font": {
           "color": "#2a3f5f"
          },
          "geo": {
           "bgcolor": "white",
           "lakecolor": "white",
           "landcolor": "#E5ECF6",
           "showlakes": true,
           "showland": true,
           "subunitcolor": "white"
          },
          "hoverlabel": {
           "align": "left"
          },
          "hovermode": "closest",
          "mapbox": {
           "style": "light"
          },
          "paper_bgcolor": "white",
          "plot_bgcolor": "#E5ECF6",
          "polar": {
           "angularaxis": {
            "gridcolor": "white",
            "linecolor": "white",
            "ticks": ""
           },
           "bgcolor": "#E5ECF6",
           "radialaxis": {
            "gridcolor": "white",
            "linecolor": "white",
            "ticks": ""
           }
          },
          "scene": {
           "xaxis": {
            "backgroundcolor": "#E5ECF6",
            "gridcolor": "white",
            "gridwidth": 2,
            "linecolor": "white",
            "showbackground": true,
            "ticks": "",
            "zerolinecolor": "white"
           },
           "yaxis": {
            "backgroundcolor": "#E5ECF6",
            "gridcolor": "white",
            "gridwidth": 2,
            "linecolor": "white",
            "showbackground": true,
            "ticks": "",
            "zerolinecolor": "white"
           },
           "zaxis": {
            "backgroundcolor": "#E5ECF6",
            "gridcolor": "white",
            "gridwidth": 2,
            "linecolor": "white",
            "showbackground": true,
            "ticks": "",
            "zerolinecolor": "white"
           }
          },
          "shapedefaults": {
           "line": {
            "color": "#2a3f5f"
           }
          },
          "ternary": {
           "aaxis": {
            "gridcolor": "white",
            "linecolor": "white",
            "ticks": ""
           },
           "baxis": {
            "gridcolor": "white",
            "linecolor": "white",
            "ticks": ""
           },
           "bgcolor": "#E5ECF6",
           "caxis": {
            "gridcolor": "white",
            "linecolor": "white",
            "ticks": ""
           }
          },
          "title": {
           "x": 0.05
          },
          "xaxis": {
           "automargin": true,
           "gridcolor": "white",
           "linecolor": "white",
           "ticks": "",
           "title": {
            "standoff": 15
           },
           "zerolinecolor": "white",
           "zerolinewidth": 2
          },
          "yaxis": {
           "automargin": true,
           "gridcolor": "white",
           "linecolor": "white",
           "ticks": "",
           "title": {
            "standoff": 15
           },
           "zerolinecolor": "white",
           "zerolinewidth": 2
          }
         }
        },
        "violinmode": "group",
        "xaxis": {
         "anchor": "y",
         "domain": [
          0,
          1
         ]
        },
        "yaxis": {
         "anchor": "x",
         "domain": [
          0,
          1
         ],
         "title": {
          "text": "y"
         }
        }
       }
      }
     },
     "metadata": {},
     "output_type": "display_data"
    }
   ],
   "source": [
    "px.violin(voters, y=voters.COUNTY_NAME.value_counts(), box=True, points='all', color_discrete_sequence=['yellowgreen'])"
   ]
  },
  {
   "cell_type": "markdown",
   "metadata": {},
   "source": [
    "========================="
   ]
  },
  {
   "cell_type": "code",
   "execution_count": 204,
   "metadata": {},
   "outputs": [
    {
     "data": {
      "text/html": [
       "<div>\n",
       "<style scoped>\n",
       "    .dataframe tbody tr th:only-of-type {\n",
       "        vertical-align: middle;\n",
       "    }\n",
       "\n",
       "    .dataframe tbody tr th {\n",
       "        vertical-align: top;\n",
       "    }\n",
       "\n",
       "    .dataframe thead th {\n",
       "        text-align: right;\n",
       "    }\n",
       "</style>\n",
       "<table border=\"1\" class=\"dataframe\">\n",
       "  <thead>\n",
       "    <tr style=\"text-align: right;\">\n",
       "      <th></th>\n",
       "      <th>COUNTY_CODE</th>\n",
       "      <th>COUNTY_NAME</th>\n",
       "      <th>CONST_CODE</th>\n",
       "      <th>CONSTITUENCY_NAME</th>\n",
       "      <th>VOTERS</th>\n",
       "      <th>NO. OF POLLING STATIONS</th>\n",
       "    </tr>\n",
       "  </thead>\n",
       "  <tbody>\n",
       "    <tr>\n",
       "      <th>92</th>\n",
       "      <td>18</td>\n",
       "      <td>NYANDARUA</td>\n",
       "      <td>92</td>\n",
       "      <td>OL JOROK</td>\n",
       "      <td>54770</td>\n",
       "      <td>102</td>\n",
       "    </tr>\n",
       "    <tr>\n",
       "      <th>119</th>\n",
       "      <td>22</td>\n",
       "      <td>KIAMBU</td>\n",
       "      <td>119</td>\n",
       "      <td>KABETE</td>\n",
       "      <td>85446</td>\n",
       "      <td>139</td>\n",
       "    </tr>\n",
       "  </tbody>\n",
       "</table>\n",
       "</div>"
      ],
      "text/plain": [
       "     COUNTY_CODE COUNTY_NAME  CONST_CODE CONSTITUENCY_NAME  VOTERS  \\\n",
       "92            18   NYANDARUA          92          OL JOROK   54770   \n",
       "119           22      KIAMBU         119            KABETE   85446   \n",
       "\n",
       "     NO. OF POLLING STATIONS  \n",
       "92                       102  \n",
       "119                      139  "
      ]
     },
     "execution_count": 204,
     "metadata": {},
     "output_type": "execute_result"
    }
   ],
   "source": [
    "voters.sample(n=2)"
   ]
  },
  {
   "cell_type": "code",
   "execution_count": 188,
   "metadata": {},
   "outputs": [
    {
     "data": {
      "text/html": [
       "<div>\n",
       "<style scoped>\n",
       "    .dataframe tbody tr th:only-of-type {\n",
       "        vertical-align: middle;\n",
       "    }\n",
       "\n",
       "    .dataframe tbody tr th {\n",
       "        vertical-align: top;\n",
       "    }\n",
       "\n",
       "    .dataframe thead th {\n",
       "        text-align: right;\n",
       "    }\n",
       "</style>\n",
       "<table border=\"1\" class=\"dataframe\">\n",
       "  <thead>\n",
       "    <tr style=\"text-align: right;\">\n",
       "      <th></th>\n",
       "      <th>CONSTITUENCY_NAME</th>\n",
       "      <th>VOTERS</th>\n",
       "    </tr>\n",
       "  </thead>\n",
       "  <tbody>\n",
       "    <tr>\n",
       "      <th>0</th>\n",
       "      <td>AINABKOI</td>\n",
       "      <td>54797</td>\n",
       "    </tr>\n",
       "    <tr>\n",
       "      <th>1</th>\n",
       "      <td>AINAMOI</td>\n",
       "      <td>75521</td>\n",
       "    </tr>\n",
       "    <tr>\n",
       "      <th>2</th>\n",
       "      <td>ALDAI</td>\n",
       "      <td>65866</td>\n",
       "    </tr>\n",
       "    <tr>\n",
       "      <th>3</th>\n",
       "      <td>ALEGO USONGA</td>\n",
       "      <td>103334</td>\n",
       "    </tr>\n",
       "    <tr>\n",
       "      <th>4</th>\n",
       "      <td>AWENDO</td>\n",
       "      <td>48293</td>\n",
       "    </tr>\n",
       "    <tr>\n",
       "      <th>...</th>\n",
       "      <td>...</td>\n",
       "      <td>...</td>\n",
       "    </tr>\n",
       "    <tr>\n",
       "      <th>287</th>\n",
       "      <td>WEBUYE WEST</td>\n",
       "      <td>50466</td>\n",
       "    </tr>\n",
       "    <tr>\n",
       "      <th>288</th>\n",
       "      <td>WEST MUGIRANGO</td>\n",
       "      <td>76392</td>\n",
       "    </tr>\n",
       "    <tr>\n",
       "      <th>289</th>\n",
       "      <td>WESTLANDS</td>\n",
       "      <td>152718</td>\n",
       "    </tr>\n",
       "    <tr>\n",
       "      <th>290</th>\n",
       "      <td>WUNDANYI</td>\n",
       "      <td>29911</td>\n",
       "    </tr>\n",
       "    <tr>\n",
       "      <th>291</th>\n",
       "      <td>YATTA</td>\n",
       "      <td>73940</td>\n",
       "    </tr>\n",
       "  </tbody>\n",
       "</table>\n",
       "<p>292 rows × 2 columns</p>\n",
       "</div>"
      ],
      "text/plain": [
       "    CONSTITUENCY_NAME  VOTERS\n",
       "0            AINABKOI   54797\n",
       "1             AINAMOI   75521\n",
       "2               ALDAI   65866\n",
       "3        ALEGO USONGA  103334\n",
       "4              AWENDO   48293\n",
       "..                ...     ...\n",
       "287       WEBUYE WEST   50466\n",
       "288    WEST MUGIRANGO   76392\n",
       "289         WESTLANDS  152718\n",
       "290          WUNDANYI   29911\n",
       "291             YATTA   73940\n",
       "\n",
       "[292 rows x 2 columns]"
      ]
     },
     "execution_count": 188,
     "metadata": {},
     "output_type": "execute_result"
    }
   ],
   "source": [
    "cnv = voters.groupby('CONSTITUENCY_NAME')[['VOTERS']].sum().reset_index()\n",
    "cnv"
   ]
  },
  {
   "cell_type": "code",
   "execution_count": 203,
   "metadata": {},
   "outputs": [
    {
     "data": {
      "application/vnd.plotly.v1+json": {
       "config": {
        "plotlyServerURL": "https://plot.ly"
       },
       "data": [
        {
         "hovertemplate": "CONSTITUENCY_NAME=%{x}<br>VOTERS=%{y}<extra></extra>",
         "legendgroup": "",
         "line": {
          "color": "green",
          "dash": "solid"
         },
         "marker": {
          "symbol": "circle"
         },
         "mode": "lines",
         "name": "",
         "orientation": "v",
         "showlegend": false,
         "type": "scatter",
         "x": [
          "CHANGAMWE",
          "JOMVU",
          "KISAUNI",
          "NYALI",
          "LIKONI",
          "MVITA",
          "MSAMBWENI",
          "LUNGALUNGA",
          "MATUGA",
          "KINANGO",
          "KILIFI NORTH",
          "KILIFI SOUTH",
          "KALOLENI",
          "RABAI",
          "GANZE",
          "MALINDI",
          "MAGARINI",
          "GARSEN",
          "GALOLE",
          "BURA",
          "LAMU EAST",
          "LAMU WEST",
          "TAVETA",
          "WUNDANYI",
          "MWATATE",
          "VOI",
          "GARISSA TOWNSHIP",
          "BALAMBALA",
          "LAGDERA",
          "DADAAB",
          "FAFI",
          "IJARA",
          "WAJIR NORTH",
          "WAJIR EAST",
          "TARBAJ",
          "WAJIR WEST",
          "ELDAS",
          "WAJIR SOUTH",
          "MANDERA WEST",
          "BANISSA",
          "MANDERA NORTH",
          "MANDERA SOUTH",
          "MANDERA EAST",
          "LAFEY",
          "MOYALE",
          "NORTH HORR",
          "SAKU",
          "LAISAMIS",
          "ISIOLO NORTH",
          "ISIOLO SOUTH",
          "IGEMBE SOUTH",
          "IGEMBE CENTRAL",
          "IGEMBE NORTH",
          "TIGANIA WEST",
          "TIGANIA EAST",
          "NORTH IMENTI",
          "BUURI",
          "CENTRAL IMENTI",
          "SOUTH IMENTI",
          "MAARA",
          "CHUKA/IGAMBANG'OMBE",
          "THARAKA",
          "MANYATTA",
          "RUNYENJES",
          "MBEERE SOUTH",
          "MBEERE NORTH",
          "MWINGI NORTH",
          "MWINGI WEST",
          "MWINGI CENTRAL",
          "KITUI WEST",
          "KITUI RURAL",
          "KITUI CENTRAL",
          "KITUI EAST",
          "KITUI SOUTH",
          "MASINGA",
          "YATTA",
          "KANGUNDO",
          "MATUNGULU",
          "KATHIANI",
          "MAVOKO",
          "MACHAKOS TOWN",
          "MWALA",
          "MBOONI",
          "KILOME",
          "KAITI",
          "MAKUENI",
          "KIBWEZI WEST",
          "KIBWEZI EAST",
          "KINANGOP",
          "KIPIPIRI",
          "OL KALOU",
          "OL JOROK",
          "NDARAGWA",
          "TETU",
          "KIENI",
          "MATHIRA",
          "OTHAYA",
          "MUKURWEINI",
          "NYERI TOWN",
          "MWEA",
          "GICHUGU",
          "NDIA",
          "KIRINYAGA CENTRAL",
          "KANGEMA",
          "MATHIOYA",
          "KIHARU",
          "KIGUMO",
          "MARAGWA",
          "KANDARA",
          "GATANGA",
          "GATUNDU SOUTH",
          "GATUNDU NORTH",
          "JUJA",
          "THIKA TOWN",
          "RUIRU",
          "GITHUNGURI",
          "KIAMBU",
          "KIAMBAA",
          "KABETE",
          "KIKUYU",
          "LIMURU",
          "LARI",
          "TURKANA NORTH",
          "TURKANA WEST",
          "TURKANA CENTRAL",
          "LOIMA",
          "TURKANA SOUTH",
          "TURKANA EAST",
          "KAPENGURIA",
          "SIGOR",
          "KACHELIBA",
          "POKOT SOUTH",
          "SAMBURU WEST",
          "SAMBURU NORTH",
          "SAMBURU EAST",
          "KWANZA",
          "ENDEBESS",
          "SABOTI",
          "KIMININI",
          "CHERANGANY",
          "SOY",
          "TURBO",
          "MOIBEN",
          "AINABKOI",
          "KAPSERET",
          "KESSES",
          "MARAKWET EAST",
          "MARAKWET WEST",
          "KEIYO NORTH",
          "KEIYO SOUTH",
          "TINDERET",
          "ALDAI",
          "NANDI HILLS",
          "CHESUMEI",
          "EMGWEN",
          "MOSOP",
          "TIATY",
          "BARINGO  NORTH",
          "BARINGO CENTRAL",
          "BARINGO SOUTH",
          "MOGOTIO",
          "ELDAMA RAVINE",
          "LAIKIPIA WEST",
          "LAIKIPIA EAST",
          "LAIKIPIA NORTH",
          "MOLO",
          "NJORO",
          "NAIVASHA",
          "GILGIL",
          "KURESOI SOUTH",
          "KURESOI NORTH",
          "SUBUKIA",
          "RONGAI",
          "BAHATI",
          "NAKURU TOWN WEST",
          "NAKURU TOWN EAST",
          "KILGORIS",
          "EMURUA DIKIRR",
          "NAROK NORTH",
          "NAROK EAST",
          "NAROK SOUTH",
          "NAROK WEST",
          "KAJIADO NORTH",
          "KAJIADO CENTRAL",
          "KAJIADO EAST",
          "KAJIADO WEST",
          "KAJIADO SOUTH",
          "KIPKELION EAST",
          "KIPKELION WEST",
          "AINAMOI",
          "BURETI",
          "BELGUT",
          "SIGOWET/SOIN",
          "SOTIK",
          "CHEPALUNGU",
          "BOMET EAST",
          "BOMET CENTRAL",
          "KONOIN",
          "LUGARI",
          "LIKUYANI",
          "MALAVA",
          "LURAMBI",
          "NAVAKHOLO",
          "MUMIAS WEST",
          "MUMIAS EAST",
          "MATUNGU",
          "BUTERE",
          "KHWISERO",
          "SHINYALU",
          "IKOLOMANI",
          "VIHIGA",
          "SABATIA",
          "HAMISI",
          "LUANDA",
          "EMUHAYA",
          "MT. ELGON",
          "SIRISIA",
          "KABUCHAI",
          "BUMULA",
          "KANDUYI",
          "WEBUYE EAST",
          "WEBUYE WEST",
          "KIMILILI",
          "TONGAREN",
          "TESO NORTH",
          "TESO SOUTH",
          "NAMBALE",
          "MATAYOS",
          "BUTULA",
          "FUNYULA",
          "BUDALANGI",
          "UGENYA",
          "UGUNJA",
          "ALEGO USONGA",
          "GEM",
          "BONDO",
          "RARIEDA",
          "KISUMU EAST",
          "KISUMU WEST",
          "KISUMU CENTRAL",
          "SEME",
          "NYANDO",
          "MUHORONI",
          "NYAKACH",
          "KASIPUL",
          "KABONDO KASIPUL",
          "KARACHUONYO",
          "RANGWE",
          "HOMA BAY TOWN",
          "NDHIWA",
          "SUBA NORTH",
          "SUBA SOUTH",
          "RONGO",
          "AWENDO",
          "SUNA EAST",
          "SUNA WEST",
          "URIRI",
          "NYATIKE",
          "KURIA WEST",
          "KURIA EAST",
          "BONCHARI",
          "SOUTH MUGIRANGO",
          "BOMACHOGE BORABU",
          "BOBASI",
          "BOMACHOGE CHACHE",
          "NYARIBARI MASABA",
          "NYARIBARI CHACHE",
          "KITUTU CHACHE NORTH",
          "KITUTU CHACHE SOUTH",
          "KITUTU MASABA",
          "WEST MUGIRANGO",
          "NORTH MUGIRANGO",
          "BORABU",
          "WESTLANDS",
          "DAGORETTI NORTH",
          "DAGORETTI SOUTH",
          "LANGATA",
          "KIBRA",
          "ROYSAMBU",
          "KASARANI",
          "RUARAKA",
          "EMBAKASI SOUTH",
          "EMBAKASI NORTH",
          "EMBAKASI CENTRAL",
          "EMBAKASI EAST",
          "EMBAKASI WEST",
          "MAKADARA",
          "KAMUKUNJI",
          "STAREHE",
          "MATHARE",
          "DIASPORA",
          "PRISONS"
         ],
         "xaxis": "x",
         "y": [
          86331,
          69307,
          126151,
          104017,
          87326,
          107091,
          68621,
          56948,
          70366,
          85106,
          101978,
          84865,
          60470,
          50332,
          54760,
          87210,
          68453,
          46819,
          33356,
          38152,
          18234,
          51542,
          34302,
          29911,
          39031,
          52472,
          54291,
          20145,
          20547,
          25762,
          19883,
          22722,
          24550,
          26964,
          19699,
          27544,
          18676,
          45469,
          26816,
          18476,
          51231,
          25833,
          38965,
          14321,
          55664,
          30858,
          27082,
          28104,
          56253,
          19085,
          68166,
          83912,
          67350,
          64114,
          75920,
          89447,
          76033,
          70124,
          107414,
          68729,
          76486,
          67939,
          99339,
          86977,
          72143,
          51009,
          61491,
          51849,
          63305,
          52042,
          49614,
          70736,
          57290,
          68185,
          61989,
          73940,
          53475,
          66611,
          54909,
          118180,
          109877,
          81273,
          85876,
          50232,
          57952,
          90817,
          80805,
          57628,
          109241,
          50416,
          68376,
          54770,
          52831,
          51716,
          109001,
          99496,
          58566,
          55310,
          82860,
          122380,
          85352,
          66083,
          76021,
          48730,
          54940,
          114260,
          78481,
          96078,
          98633,
          96004,
          75858,
          67598,
          114761,
          147323,
          159337,
          99384,
          80730,
          95413,
          85446,
          91157,
          87258,
          76655,
          34008,
          31416,
          47866,
          29103,
          33422,
          15620,
          55601,
          33929,
          42632,
          48070,
          36103,
          24588,
          22096,
          65643,
          43189,
          76802,
          77482,
          76506,
          81867,
          110851,
          68822,
          54797,
          66582,
          67136,
          36428,
          48819,
          41367,
          54050,
          43971,
          65866,
          51393,
          62299,
          58552,
          63926,
          28916,
          42774,
          38388,
          35162,
          32276,
          54742,
          110930,
          88886,
          46671,
          70992,
          104687,
          145049,
          85340,
          55661,
          61344,
          51582,
          77162,
          87508,
          97549,
          112744,
          67079,
          35531,
          78380,
          39559,
          65772,
          55409,
          127953,
          56434,
          102804,
          64026,
          59976,
          56486,
          46512,
          75521,
          82417,
          67599,
          47133,
          73314,
          68544,
          52862,
          60115,
          67177,
          77001,
          63311,
          82136,
          80037,
          53620,
          47492,
          45380,
          61728,
          62956,
          48920,
          71256,
          49899,
          45309,
          63035,
          73357,
          49214,
          41494,
          66220,
          40940,
          57476,
          70683,
          105565,
          42263,
          50466,
          52268,
          73969,
          49833,
          61342,
          42259,
          56841,
          57685,
          44671,
          38417,
          57603,
          50487,
          103334,
          80472,
          90278,
          75779,
          81538,
          74439,
          120023,
          53555,
          71680,
          69091,
          68884,
          57344,
          49432,
          84004,
          52516,
          50570,
          85056,
          51454,
          46499,
          48412,
          48293,
          46534,
          46030,
          51676,
          61477,
          51057,
          35154,
          52624,
          67345,
          49081,
          89310,
          41745,
          59064,
          77729,
          50665,
          59017,
          93246,
          76392,
          54306,
          54909,
          152718,
          147214,
          107239,
          132572,
          118276,
          147582,
          146701,
          116301,
          150314,
          104253,
          131991,
          140740,
          126682,
          126048,
          120266,
          166397,
          115559,
          4393,
          5528
         ],
         "yaxis": "y"
        }
       ],
       "layout": {
        "legend": {
         "tracegroupgap": 0
        },
        "margin": {
         "t": 60
        },
        "template": {
         "data": {
          "bar": [
           {
            "error_x": {
             "color": "#2a3f5f"
            },
            "error_y": {
             "color": "#2a3f5f"
            },
            "marker": {
             "line": {
              "color": "#E5ECF6",
              "width": 0.5
             },
             "pattern": {
              "fillmode": "overlay",
              "size": 10,
              "solidity": 0.2
             }
            },
            "type": "bar"
           }
          ],
          "barpolar": [
           {
            "marker": {
             "line": {
              "color": "#E5ECF6",
              "width": 0.5
             },
             "pattern": {
              "fillmode": "overlay",
              "size": 10,
              "solidity": 0.2
             }
            },
            "type": "barpolar"
           }
          ],
          "carpet": [
           {
            "aaxis": {
             "endlinecolor": "#2a3f5f",
             "gridcolor": "white",
             "linecolor": "white",
             "minorgridcolor": "white",
             "startlinecolor": "#2a3f5f"
            },
            "baxis": {
             "endlinecolor": "#2a3f5f",
             "gridcolor": "white",
             "linecolor": "white",
             "minorgridcolor": "white",
             "startlinecolor": "#2a3f5f"
            },
            "type": "carpet"
           }
          ],
          "choropleth": [
           {
            "colorbar": {
             "outlinewidth": 0,
             "ticks": ""
            },
            "type": "choropleth"
           }
          ],
          "contour": [
           {
            "colorbar": {
             "outlinewidth": 0,
             "ticks": ""
            },
            "colorscale": [
             [
              0,
              "#0d0887"
             ],
             [
              0.1111111111111111,
              "#46039f"
             ],
             [
              0.2222222222222222,
              "#7201a8"
             ],
             [
              0.3333333333333333,
              "#9c179e"
             ],
             [
              0.4444444444444444,
              "#bd3786"
             ],
             [
              0.5555555555555556,
              "#d8576b"
             ],
             [
              0.6666666666666666,
              "#ed7953"
             ],
             [
              0.7777777777777778,
              "#fb9f3a"
             ],
             [
              0.8888888888888888,
              "#fdca26"
             ],
             [
              1,
              "#f0f921"
             ]
            ],
            "type": "contour"
           }
          ],
          "contourcarpet": [
           {
            "colorbar": {
             "outlinewidth": 0,
             "ticks": ""
            },
            "type": "contourcarpet"
           }
          ],
          "heatmap": [
           {
            "colorbar": {
             "outlinewidth": 0,
             "ticks": ""
            },
            "colorscale": [
             [
              0,
              "#0d0887"
             ],
             [
              0.1111111111111111,
              "#46039f"
             ],
             [
              0.2222222222222222,
              "#7201a8"
             ],
             [
              0.3333333333333333,
              "#9c179e"
             ],
             [
              0.4444444444444444,
              "#bd3786"
             ],
             [
              0.5555555555555556,
              "#d8576b"
             ],
             [
              0.6666666666666666,
              "#ed7953"
             ],
             [
              0.7777777777777778,
              "#fb9f3a"
             ],
             [
              0.8888888888888888,
              "#fdca26"
             ],
             [
              1,
              "#f0f921"
             ]
            ],
            "type": "heatmap"
           }
          ],
          "heatmapgl": [
           {
            "colorbar": {
             "outlinewidth": 0,
             "ticks": ""
            },
            "colorscale": [
             [
              0,
              "#0d0887"
             ],
             [
              0.1111111111111111,
              "#46039f"
             ],
             [
              0.2222222222222222,
              "#7201a8"
             ],
             [
              0.3333333333333333,
              "#9c179e"
             ],
             [
              0.4444444444444444,
              "#bd3786"
             ],
             [
              0.5555555555555556,
              "#d8576b"
             ],
             [
              0.6666666666666666,
              "#ed7953"
             ],
             [
              0.7777777777777778,
              "#fb9f3a"
             ],
             [
              0.8888888888888888,
              "#fdca26"
             ],
             [
              1,
              "#f0f921"
             ]
            ],
            "type": "heatmapgl"
           }
          ],
          "histogram": [
           {
            "marker": {
             "pattern": {
              "fillmode": "overlay",
              "size": 10,
              "solidity": 0.2
             }
            },
            "type": "histogram"
           }
          ],
          "histogram2d": [
           {
            "colorbar": {
             "outlinewidth": 0,
             "ticks": ""
            },
            "colorscale": [
             [
              0,
              "#0d0887"
             ],
             [
              0.1111111111111111,
              "#46039f"
             ],
             [
              0.2222222222222222,
              "#7201a8"
             ],
             [
              0.3333333333333333,
              "#9c179e"
             ],
             [
              0.4444444444444444,
              "#bd3786"
             ],
             [
              0.5555555555555556,
              "#d8576b"
             ],
             [
              0.6666666666666666,
              "#ed7953"
             ],
             [
              0.7777777777777778,
              "#fb9f3a"
             ],
             [
              0.8888888888888888,
              "#fdca26"
             ],
             [
              1,
              "#f0f921"
             ]
            ],
            "type": "histogram2d"
           }
          ],
          "histogram2dcontour": [
           {
            "colorbar": {
             "outlinewidth": 0,
             "ticks": ""
            },
            "colorscale": [
             [
              0,
              "#0d0887"
             ],
             [
              0.1111111111111111,
              "#46039f"
             ],
             [
              0.2222222222222222,
              "#7201a8"
             ],
             [
              0.3333333333333333,
              "#9c179e"
             ],
             [
              0.4444444444444444,
              "#bd3786"
             ],
             [
              0.5555555555555556,
              "#d8576b"
             ],
             [
              0.6666666666666666,
              "#ed7953"
             ],
             [
              0.7777777777777778,
              "#fb9f3a"
             ],
             [
              0.8888888888888888,
              "#fdca26"
             ],
             [
              1,
              "#f0f921"
             ]
            ],
            "type": "histogram2dcontour"
           }
          ],
          "mesh3d": [
           {
            "colorbar": {
             "outlinewidth": 0,
             "ticks": ""
            },
            "type": "mesh3d"
           }
          ],
          "parcoords": [
           {
            "line": {
             "colorbar": {
              "outlinewidth": 0,
              "ticks": ""
             }
            },
            "type": "parcoords"
           }
          ],
          "pie": [
           {
            "automargin": true,
            "type": "pie"
           }
          ],
          "scatter": [
           {
            "fillpattern": {
             "fillmode": "overlay",
             "size": 10,
             "solidity": 0.2
            },
            "type": "scatter"
           }
          ],
          "scatter3d": [
           {
            "line": {
             "colorbar": {
              "outlinewidth": 0,
              "ticks": ""
             }
            },
            "marker": {
             "colorbar": {
              "outlinewidth": 0,
              "ticks": ""
             }
            },
            "type": "scatter3d"
           }
          ],
          "scattercarpet": [
           {
            "marker": {
             "colorbar": {
              "outlinewidth": 0,
              "ticks": ""
             }
            },
            "type": "scattercarpet"
           }
          ],
          "scattergeo": [
           {
            "marker": {
             "colorbar": {
              "outlinewidth": 0,
              "ticks": ""
             }
            },
            "type": "scattergeo"
           }
          ],
          "scattergl": [
           {
            "marker": {
             "colorbar": {
              "outlinewidth": 0,
              "ticks": ""
             }
            },
            "type": "scattergl"
           }
          ],
          "scattermapbox": [
           {
            "marker": {
             "colorbar": {
              "outlinewidth": 0,
              "ticks": ""
             }
            },
            "type": "scattermapbox"
           }
          ],
          "scatterpolar": [
           {
            "marker": {
             "colorbar": {
              "outlinewidth": 0,
              "ticks": ""
             }
            },
            "type": "scatterpolar"
           }
          ],
          "scatterpolargl": [
           {
            "marker": {
             "colorbar": {
              "outlinewidth": 0,
              "ticks": ""
             }
            },
            "type": "scatterpolargl"
           }
          ],
          "scatterternary": [
           {
            "marker": {
             "colorbar": {
              "outlinewidth": 0,
              "ticks": ""
             }
            },
            "type": "scatterternary"
           }
          ],
          "surface": [
           {
            "colorbar": {
             "outlinewidth": 0,
             "ticks": ""
            },
            "colorscale": [
             [
              0,
              "#0d0887"
             ],
             [
              0.1111111111111111,
              "#46039f"
             ],
             [
              0.2222222222222222,
              "#7201a8"
             ],
             [
              0.3333333333333333,
              "#9c179e"
             ],
             [
              0.4444444444444444,
              "#bd3786"
             ],
             [
              0.5555555555555556,
              "#d8576b"
             ],
             [
              0.6666666666666666,
              "#ed7953"
             ],
             [
              0.7777777777777778,
              "#fb9f3a"
             ],
             [
              0.8888888888888888,
              "#fdca26"
             ],
             [
              1,
              "#f0f921"
             ]
            ],
            "type": "surface"
           }
          ],
          "table": [
           {
            "cells": {
             "fill": {
              "color": "#EBF0F8"
             },
             "line": {
              "color": "white"
             }
            },
            "header": {
             "fill": {
              "color": "#C8D4E3"
             },
             "line": {
              "color": "white"
             }
            },
            "type": "table"
           }
          ]
         },
         "layout": {
          "annotationdefaults": {
           "arrowcolor": "#2a3f5f",
           "arrowhead": 0,
           "arrowwidth": 1
          },
          "autotypenumbers": "strict",
          "coloraxis": {
           "colorbar": {
            "outlinewidth": 0,
            "ticks": ""
           }
          },
          "colorscale": {
           "diverging": [
            [
             0,
             "#8e0152"
            ],
            [
             0.1,
             "#c51b7d"
            ],
            [
             0.2,
             "#de77ae"
            ],
            [
             0.3,
             "#f1b6da"
            ],
            [
             0.4,
             "#fde0ef"
            ],
            [
             0.5,
             "#f7f7f7"
            ],
            [
             0.6,
             "#e6f5d0"
            ],
            [
             0.7,
             "#b8e186"
            ],
            [
             0.8,
             "#7fbc41"
            ],
            [
             0.9,
             "#4d9221"
            ],
            [
             1,
             "#276419"
            ]
           ],
           "sequential": [
            [
             0,
             "#0d0887"
            ],
            [
             0.1111111111111111,
             "#46039f"
            ],
            [
             0.2222222222222222,
             "#7201a8"
            ],
            [
             0.3333333333333333,
             "#9c179e"
            ],
            [
             0.4444444444444444,
             "#bd3786"
            ],
            [
             0.5555555555555556,
             "#d8576b"
            ],
            [
             0.6666666666666666,
             "#ed7953"
            ],
            [
             0.7777777777777778,
             "#fb9f3a"
            ],
            [
             0.8888888888888888,
             "#fdca26"
            ],
            [
             1,
             "#f0f921"
            ]
           ],
           "sequentialminus": [
            [
             0,
             "#0d0887"
            ],
            [
             0.1111111111111111,
             "#46039f"
            ],
            [
             0.2222222222222222,
             "#7201a8"
            ],
            [
             0.3333333333333333,
             "#9c179e"
            ],
            [
             0.4444444444444444,
             "#bd3786"
            ],
            [
             0.5555555555555556,
             "#d8576b"
            ],
            [
             0.6666666666666666,
             "#ed7953"
            ],
            [
             0.7777777777777778,
             "#fb9f3a"
            ],
            [
             0.8888888888888888,
             "#fdca26"
            ],
            [
             1,
             "#f0f921"
            ]
           ]
          },
          "colorway": [
           "#636efa",
           "#EF553B",
           "#00cc96",
           "#ab63fa",
           "#FFA15A",
           "#19d3f3",
           "#FF6692",
           "#B6E880",
           "#FF97FF",
           "#FECB52"
          ],
          "font": {
           "color": "#2a3f5f"
          },
          "geo": {
           "bgcolor": "white",
           "lakecolor": "white",
           "landcolor": "#E5ECF6",
           "showlakes": true,
           "showland": true,
           "subunitcolor": "white"
          },
          "hoverlabel": {
           "align": "left"
          },
          "hovermode": "closest",
          "mapbox": {
           "style": "light"
          },
          "paper_bgcolor": "white",
          "plot_bgcolor": "#E5ECF6",
          "polar": {
           "angularaxis": {
            "gridcolor": "white",
            "linecolor": "white",
            "ticks": ""
           },
           "bgcolor": "#E5ECF6",
           "radialaxis": {
            "gridcolor": "white",
            "linecolor": "white",
            "ticks": ""
           }
          },
          "scene": {
           "xaxis": {
            "backgroundcolor": "#E5ECF6",
            "gridcolor": "white",
            "gridwidth": 2,
            "linecolor": "white",
            "showbackground": true,
            "ticks": "",
            "zerolinecolor": "white"
           },
           "yaxis": {
            "backgroundcolor": "#E5ECF6",
            "gridcolor": "white",
            "gridwidth": 2,
            "linecolor": "white",
            "showbackground": true,
            "ticks": "",
            "zerolinecolor": "white"
           },
           "zaxis": {
            "backgroundcolor": "#E5ECF6",
            "gridcolor": "white",
            "gridwidth": 2,
            "linecolor": "white",
            "showbackground": true,
            "ticks": "",
            "zerolinecolor": "white"
           }
          },
          "shapedefaults": {
           "line": {
            "color": "#2a3f5f"
           }
          },
          "ternary": {
           "aaxis": {
            "gridcolor": "white",
            "linecolor": "white",
            "ticks": ""
           },
           "baxis": {
            "gridcolor": "white",
            "linecolor": "white",
            "ticks": ""
           },
           "bgcolor": "#E5ECF6",
           "caxis": {
            "gridcolor": "white",
            "linecolor": "white",
            "ticks": ""
           }
          },
          "title": {
           "x": 0.05
          },
          "xaxis": {
           "automargin": true,
           "gridcolor": "white",
           "linecolor": "white",
           "ticks": "",
           "title": {
            "standoff": 15
           },
           "zerolinecolor": "white",
           "zerolinewidth": 2
          },
          "yaxis": {
           "automargin": true,
           "gridcolor": "white",
           "linecolor": "white",
           "ticks": "",
           "title": {
            "standoff": 15
           },
           "zerolinecolor": "white",
           "zerolinewidth": 2
          }
         }
        },
        "xaxis": {
         "anchor": "y",
         "domain": [
          0,
          1
         ],
         "title": {
          "text": "CONSTITUENCY_NAME"
         }
        },
        "yaxis": {
         "anchor": "x",
         "domain": [
          0,
          1
         ],
         "title": {
          "text": "VOTERS"
         }
        }
       }
      }
     },
     "metadata": {},
     "output_type": "display_data"
    }
   ],
   "source": [
    "px.line(voters, y='VOTERS', x='CONSTITUENCY_NAME', color_discrete_sequence=['green'])"
   ]
  },
  {
   "cell_type": "code",
   "execution_count": 227,
   "metadata": {},
   "outputs": [
    {
     "data": {
      "application/vnd.plotly.v1+json": {
       "config": {
        "plotlyServerURL": "https://plot.ly"
       },
       "data": [
        {
         "coloraxis": "coloraxis",
         "histfunc": "sum",
         "hovertemplate": "CONSTITUENCY_NAME=%{x}<br>VOTERS=%{y}<br>sum of COUNTY_CODE=%{z}<extra></extra>",
         "name": "",
         "type": "histogram2d",
         "x": [
          "CHANGAMWE",
          "JOMVU",
          "KISAUNI",
          "NYALI",
          "LIKONI",
          "MVITA",
          "MSAMBWENI",
          "LUNGALUNGA",
          "MATUGA",
          "KINANGO",
          "KILIFI NORTH",
          "KILIFI SOUTH",
          "KALOLENI",
          "RABAI",
          "GANZE",
          "MALINDI",
          "MAGARINI",
          "GARSEN",
          "GALOLE",
          "BURA",
          "LAMU EAST",
          "LAMU WEST",
          "TAVETA",
          "WUNDANYI",
          "MWATATE",
          "VOI",
          "GARISSA TOWNSHIP",
          "BALAMBALA",
          "LAGDERA",
          "DADAAB",
          "FAFI",
          "IJARA",
          "WAJIR NORTH",
          "WAJIR EAST",
          "TARBAJ",
          "WAJIR WEST",
          "ELDAS",
          "WAJIR SOUTH",
          "MANDERA WEST",
          "BANISSA",
          "MANDERA NORTH",
          "MANDERA SOUTH",
          "MANDERA EAST",
          "LAFEY",
          "MOYALE",
          "NORTH HORR",
          "SAKU",
          "LAISAMIS",
          "ISIOLO NORTH",
          "ISIOLO SOUTH",
          "IGEMBE SOUTH",
          "IGEMBE CENTRAL",
          "IGEMBE NORTH",
          "TIGANIA WEST",
          "TIGANIA EAST",
          "NORTH IMENTI",
          "BUURI",
          "CENTRAL IMENTI",
          "SOUTH IMENTI",
          "MAARA",
          "CHUKA/IGAMBANG'OMBE",
          "THARAKA",
          "MANYATTA",
          "RUNYENJES",
          "MBEERE SOUTH",
          "MBEERE NORTH",
          "MWINGI NORTH",
          "MWINGI WEST",
          "MWINGI CENTRAL",
          "KITUI WEST",
          "KITUI RURAL",
          "KITUI CENTRAL",
          "KITUI EAST",
          "KITUI SOUTH",
          "MASINGA",
          "YATTA",
          "KANGUNDO",
          "MATUNGULU",
          "KATHIANI",
          "MAVOKO",
          "MACHAKOS TOWN",
          "MWALA",
          "MBOONI",
          "KILOME",
          "KAITI",
          "MAKUENI",
          "KIBWEZI WEST",
          "KIBWEZI EAST",
          "KINANGOP",
          "KIPIPIRI",
          "OL KALOU",
          "OL JOROK",
          "NDARAGWA",
          "TETU",
          "KIENI",
          "MATHIRA",
          "OTHAYA",
          "MUKURWEINI",
          "NYERI TOWN",
          "MWEA",
          "GICHUGU",
          "NDIA",
          "KIRINYAGA CENTRAL",
          "KANGEMA",
          "MATHIOYA",
          "KIHARU",
          "KIGUMO",
          "MARAGWA",
          "KANDARA",
          "GATANGA",
          "GATUNDU SOUTH",
          "GATUNDU NORTH",
          "JUJA",
          "THIKA TOWN",
          "RUIRU",
          "GITHUNGURI",
          "KIAMBU",
          "KIAMBAA",
          "KABETE",
          "KIKUYU",
          "LIMURU",
          "LARI",
          "TURKANA NORTH",
          "TURKANA WEST",
          "TURKANA CENTRAL",
          "LOIMA",
          "TURKANA SOUTH",
          "TURKANA EAST",
          "KAPENGURIA",
          "SIGOR",
          "KACHELIBA",
          "POKOT SOUTH",
          "SAMBURU WEST",
          "SAMBURU NORTH",
          "SAMBURU EAST",
          "KWANZA",
          "ENDEBESS",
          "SABOTI",
          "KIMININI",
          "CHERANGANY",
          "SOY",
          "TURBO",
          "MOIBEN",
          "AINABKOI",
          "KAPSERET",
          "KESSES",
          "MARAKWET EAST",
          "MARAKWET WEST",
          "KEIYO NORTH",
          "KEIYO SOUTH",
          "TINDERET",
          "ALDAI",
          "NANDI HILLS",
          "CHESUMEI",
          "EMGWEN",
          "MOSOP",
          "TIATY",
          "BARINGO  NORTH",
          "BARINGO CENTRAL",
          "BARINGO SOUTH",
          "MOGOTIO",
          "ELDAMA RAVINE",
          "LAIKIPIA WEST",
          "LAIKIPIA EAST",
          "LAIKIPIA NORTH",
          "MOLO",
          "NJORO",
          "NAIVASHA",
          "GILGIL",
          "KURESOI SOUTH",
          "KURESOI NORTH",
          "SUBUKIA",
          "RONGAI",
          "BAHATI",
          "NAKURU TOWN WEST",
          "NAKURU TOWN EAST",
          "KILGORIS",
          "EMURUA DIKIRR",
          "NAROK NORTH",
          "NAROK EAST",
          "NAROK SOUTH",
          "NAROK WEST",
          "KAJIADO NORTH",
          "KAJIADO CENTRAL",
          "KAJIADO EAST",
          "KAJIADO WEST",
          "KAJIADO SOUTH",
          "KIPKELION EAST",
          "KIPKELION WEST",
          "AINAMOI",
          "BURETI",
          "BELGUT",
          "SIGOWET/SOIN",
          "SOTIK",
          "CHEPALUNGU",
          "BOMET EAST",
          "BOMET CENTRAL",
          "KONOIN",
          "LUGARI",
          "LIKUYANI",
          "MALAVA",
          "LURAMBI",
          "NAVAKHOLO",
          "MUMIAS WEST",
          "MUMIAS EAST",
          "MATUNGU",
          "BUTERE",
          "KHWISERO",
          "SHINYALU",
          "IKOLOMANI",
          "VIHIGA",
          "SABATIA",
          "HAMISI",
          "LUANDA",
          "EMUHAYA",
          "MT. ELGON",
          "SIRISIA",
          "KABUCHAI",
          "BUMULA",
          "KANDUYI",
          "WEBUYE EAST",
          "WEBUYE WEST",
          "KIMILILI",
          "TONGAREN",
          "TESO NORTH",
          "TESO SOUTH",
          "NAMBALE",
          "MATAYOS",
          "BUTULA",
          "FUNYULA",
          "BUDALANGI",
          "UGENYA",
          "UGUNJA",
          "ALEGO USONGA",
          "GEM",
          "BONDO",
          "RARIEDA",
          "KISUMU EAST",
          "KISUMU WEST",
          "KISUMU CENTRAL",
          "SEME",
          "NYANDO",
          "MUHORONI",
          "NYAKACH",
          "KASIPUL",
          "KABONDO KASIPUL",
          "KARACHUONYO",
          "RANGWE",
          "HOMA BAY TOWN",
          "NDHIWA",
          "SUBA NORTH",
          "SUBA SOUTH",
          "RONGO",
          "AWENDO",
          "SUNA EAST",
          "SUNA WEST",
          "URIRI",
          "NYATIKE",
          "KURIA WEST",
          "KURIA EAST",
          "BONCHARI",
          "SOUTH MUGIRANGO",
          "BOMACHOGE BORABU",
          "BOBASI",
          "BOMACHOGE CHACHE",
          "NYARIBARI MASABA",
          "NYARIBARI CHACHE",
          "KITUTU CHACHE NORTH",
          "KITUTU CHACHE SOUTH",
          "KITUTU MASABA",
          "WEST MUGIRANGO",
          "NORTH MUGIRANGO",
          "BORABU",
          "WESTLANDS",
          "DAGORETTI NORTH",
          "DAGORETTI SOUTH",
          "LANGATA",
          "KIBRA",
          "ROYSAMBU",
          "KASARANI",
          "RUARAKA",
          "EMBAKASI SOUTH",
          "EMBAKASI NORTH",
          "EMBAKASI CENTRAL",
          "EMBAKASI EAST",
          "EMBAKASI WEST",
          "MAKADARA",
          "KAMUKUNJI",
          "STAREHE",
          "MATHARE",
          "DIASPORA",
          "PRISONS"
         ],
         "xaxis": "x",
         "xbingroup": "x",
         "y": [
          86331,
          69307,
          126151,
          104017,
          87326,
          107091,
          68621,
          56948,
          70366,
          85106,
          101978,
          84865,
          60470,
          50332,
          54760,
          87210,
          68453,
          46819,
          33356,
          38152,
          18234,
          51542,
          34302,
          29911,
          39031,
          52472,
          54291,
          20145,
          20547,
          25762,
          19883,
          22722,
          24550,
          26964,
          19699,
          27544,
          18676,
          45469,
          26816,
          18476,
          51231,
          25833,
          38965,
          14321,
          55664,
          30858,
          27082,
          28104,
          56253,
          19085,
          68166,
          83912,
          67350,
          64114,
          75920,
          89447,
          76033,
          70124,
          107414,
          68729,
          76486,
          67939,
          99339,
          86977,
          72143,
          51009,
          61491,
          51849,
          63305,
          52042,
          49614,
          70736,
          57290,
          68185,
          61989,
          73940,
          53475,
          66611,
          54909,
          118180,
          109877,
          81273,
          85876,
          50232,
          57952,
          90817,
          80805,
          57628,
          109241,
          50416,
          68376,
          54770,
          52831,
          51716,
          109001,
          99496,
          58566,
          55310,
          82860,
          122380,
          85352,
          66083,
          76021,
          48730,
          54940,
          114260,
          78481,
          96078,
          98633,
          96004,
          75858,
          67598,
          114761,
          147323,
          159337,
          99384,
          80730,
          95413,
          85446,
          91157,
          87258,
          76655,
          34008,
          31416,
          47866,
          29103,
          33422,
          15620,
          55601,
          33929,
          42632,
          48070,
          36103,
          24588,
          22096,
          65643,
          43189,
          76802,
          77482,
          76506,
          81867,
          110851,
          68822,
          54797,
          66582,
          67136,
          36428,
          48819,
          41367,
          54050,
          43971,
          65866,
          51393,
          62299,
          58552,
          63926,
          28916,
          42774,
          38388,
          35162,
          32276,
          54742,
          110930,
          88886,
          46671,
          70992,
          104687,
          145049,
          85340,
          55661,
          61344,
          51582,
          77162,
          87508,
          97549,
          112744,
          67079,
          35531,
          78380,
          39559,
          65772,
          55409,
          127953,
          56434,
          102804,
          64026,
          59976,
          56486,
          46512,
          75521,
          82417,
          67599,
          47133,
          73314,
          68544,
          52862,
          60115,
          67177,
          77001,
          63311,
          82136,
          80037,
          53620,
          47492,
          45380,
          61728,
          62956,
          48920,
          71256,
          49899,
          45309,
          63035,
          73357,
          49214,
          41494,
          66220,
          40940,
          57476,
          70683,
          105565,
          42263,
          50466,
          52268,
          73969,
          49833,
          61342,
          42259,
          56841,
          57685,
          44671,
          38417,
          57603,
          50487,
          103334,
          80472,
          90278,
          75779,
          81538,
          74439,
          120023,
          53555,
          71680,
          69091,
          68884,
          57344,
          49432,
          84004,
          52516,
          50570,
          85056,
          51454,
          46499,
          48412,
          48293,
          46534,
          46030,
          51676,
          61477,
          51057,
          35154,
          52624,
          67345,
          49081,
          89310,
          41745,
          59064,
          77729,
          50665,
          59017,
          93246,
          76392,
          54306,
          54909,
          152718,
          147214,
          107239,
          132572,
          118276,
          147582,
          146701,
          116301,
          150314,
          104253,
          131991,
          140740,
          126682,
          126048,
          120266,
          166397,
          115559,
          4393,
          5528
         ],
         "yaxis": "y",
         "ybingroup": "y",
         "z": [
          1,
          1,
          1,
          1,
          1,
          1,
          2,
          2,
          2,
          2,
          3,
          3,
          3,
          3,
          3,
          3,
          3,
          4,
          4,
          4,
          5,
          5,
          6,
          6,
          6,
          6,
          7,
          7,
          7,
          7,
          7,
          7,
          8,
          8,
          8,
          8,
          8,
          8,
          9,
          9,
          9,
          9,
          9,
          9,
          10,
          10,
          10,
          10,
          11,
          11,
          12,
          12,
          12,
          12,
          12,
          12,
          12,
          12,
          12,
          13,
          13,
          13,
          14,
          14,
          14,
          14,
          15,
          15,
          15,
          15,
          15,
          15,
          15,
          15,
          16,
          16,
          16,
          16,
          16,
          16,
          16,
          16,
          17,
          17,
          17,
          17,
          17,
          17,
          18,
          18,
          18,
          18,
          18,
          19,
          19,
          19,
          19,
          19,
          19,
          20,
          20,
          20,
          20,
          21,
          21,
          21,
          21,
          21,
          21,
          21,
          22,
          22,
          22,
          22,
          22,
          22,
          22,
          22,
          22,
          22,
          22,
          22,
          23,
          23,
          23,
          23,
          23,
          23,
          24,
          24,
          24,
          24,
          25,
          25,
          25,
          26,
          26,
          26,
          26,
          26,
          27,
          27,
          27,
          27,
          27,
          27,
          28,
          28,
          28,
          28,
          29,
          29,
          29,
          29,
          29,
          29,
          30,
          30,
          30,
          30,
          30,
          30,
          31,
          31,
          31,
          32,
          32,
          32,
          32,
          32,
          32,
          32,
          32,
          32,
          32,
          32,
          33,
          33,
          33,
          33,
          33,
          33,
          34,
          34,
          34,
          34,
          34,
          35,
          35,
          35,
          35,
          35,
          35,
          36,
          36,
          36,
          36,
          36,
          37,
          37,
          37,
          37,
          37,
          37,
          37,
          37,
          37,
          37,
          37,
          37,
          38,
          38,
          38,
          38,
          38,
          39,
          39,
          39,
          39,
          39,
          39,
          39,
          39,
          39,
          40,
          40,
          40,
          40,
          40,
          40,
          40,
          41,
          41,
          41,
          41,
          41,
          41,
          42,
          42,
          42,
          42,
          42,
          42,
          42,
          43,
          43,
          43,
          43,
          43,
          43,
          43,
          43,
          44,
          44,
          44,
          44,
          44,
          44,
          44,
          44,
          45,
          45,
          45,
          45,
          45,
          45,
          45,
          45,
          45,
          46,
          46,
          46,
          46,
          47,
          47,
          47,
          47,
          47,
          47,
          47,
          47,
          47,
          47,
          47,
          47,
          47,
          47,
          47,
          47,
          47,
          48,
          49
         ]
        }
       ],
       "layout": {
        "coloraxis": {
         "colorbar": {
          "title": {
           "text": "sum of COUNTY_CODE"
          }
         },
         "colorscale": [
          [
           0,
           "#440154"
          ],
          [
           0.1111111111111111,
           "#482878"
          ],
          [
           0.2222222222222222,
           "#3e4989"
          ],
          [
           0.3333333333333333,
           "#31688e"
          ],
          [
           0.4444444444444444,
           "#26828e"
          ],
          [
           0.5555555555555556,
           "#1f9e89"
          ],
          [
           0.6666666666666666,
           "#35b779"
          ],
          [
           0.7777777777777778,
           "#6ece58"
          ],
          [
           0.8888888888888888,
           "#b5de2b"
          ],
          [
           1,
           "#fde725"
          ]
         ]
        },
        "legend": {
         "tracegroupgap": 0
        },
        "margin": {
         "t": 60
        },
        "template": {
         "data": {
          "bar": [
           {
            "error_x": {
             "color": "#2a3f5f"
            },
            "error_y": {
             "color": "#2a3f5f"
            },
            "marker": {
             "line": {
              "color": "#E5ECF6",
              "width": 0.5
             },
             "pattern": {
              "fillmode": "overlay",
              "size": 10,
              "solidity": 0.2
             }
            },
            "type": "bar"
           }
          ],
          "barpolar": [
           {
            "marker": {
             "line": {
              "color": "#E5ECF6",
              "width": 0.5
             },
             "pattern": {
              "fillmode": "overlay",
              "size": 10,
              "solidity": 0.2
             }
            },
            "type": "barpolar"
           }
          ],
          "carpet": [
           {
            "aaxis": {
             "endlinecolor": "#2a3f5f",
             "gridcolor": "white",
             "linecolor": "white",
             "minorgridcolor": "white",
             "startlinecolor": "#2a3f5f"
            },
            "baxis": {
             "endlinecolor": "#2a3f5f",
             "gridcolor": "white",
             "linecolor": "white",
             "minorgridcolor": "white",
             "startlinecolor": "#2a3f5f"
            },
            "type": "carpet"
           }
          ],
          "choropleth": [
           {
            "colorbar": {
             "outlinewidth": 0,
             "ticks": ""
            },
            "type": "choropleth"
           }
          ],
          "contour": [
           {
            "colorbar": {
             "outlinewidth": 0,
             "ticks": ""
            },
            "colorscale": [
             [
              0,
              "#0d0887"
             ],
             [
              0.1111111111111111,
              "#46039f"
             ],
             [
              0.2222222222222222,
              "#7201a8"
             ],
             [
              0.3333333333333333,
              "#9c179e"
             ],
             [
              0.4444444444444444,
              "#bd3786"
             ],
             [
              0.5555555555555556,
              "#d8576b"
             ],
             [
              0.6666666666666666,
              "#ed7953"
             ],
             [
              0.7777777777777778,
              "#fb9f3a"
             ],
             [
              0.8888888888888888,
              "#fdca26"
             ],
             [
              1,
              "#f0f921"
             ]
            ],
            "type": "contour"
           }
          ],
          "contourcarpet": [
           {
            "colorbar": {
             "outlinewidth": 0,
             "ticks": ""
            },
            "type": "contourcarpet"
           }
          ],
          "heatmap": [
           {
            "colorbar": {
             "outlinewidth": 0,
             "ticks": ""
            },
            "colorscale": [
             [
              0,
              "#0d0887"
             ],
             [
              0.1111111111111111,
              "#46039f"
             ],
             [
              0.2222222222222222,
              "#7201a8"
             ],
             [
              0.3333333333333333,
              "#9c179e"
             ],
             [
              0.4444444444444444,
              "#bd3786"
             ],
             [
              0.5555555555555556,
              "#d8576b"
             ],
             [
              0.6666666666666666,
              "#ed7953"
             ],
             [
              0.7777777777777778,
              "#fb9f3a"
             ],
             [
              0.8888888888888888,
              "#fdca26"
             ],
             [
              1,
              "#f0f921"
             ]
            ],
            "type": "heatmap"
           }
          ],
          "heatmapgl": [
           {
            "colorbar": {
             "outlinewidth": 0,
             "ticks": ""
            },
            "colorscale": [
             [
              0,
              "#0d0887"
             ],
             [
              0.1111111111111111,
              "#46039f"
             ],
             [
              0.2222222222222222,
              "#7201a8"
             ],
             [
              0.3333333333333333,
              "#9c179e"
             ],
             [
              0.4444444444444444,
              "#bd3786"
             ],
             [
              0.5555555555555556,
              "#d8576b"
             ],
             [
              0.6666666666666666,
              "#ed7953"
             ],
             [
              0.7777777777777778,
              "#fb9f3a"
             ],
             [
              0.8888888888888888,
              "#fdca26"
             ],
             [
              1,
              "#f0f921"
             ]
            ],
            "type": "heatmapgl"
           }
          ],
          "histogram": [
           {
            "marker": {
             "pattern": {
              "fillmode": "overlay",
              "size": 10,
              "solidity": 0.2
             }
            },
            "type": "histogram"
           }
          ],
          "histogram2d": [
           {
            "colorbar": {
             "outlinewidth": 0,
             "ticks": ""
            },
            "colorscale": [
             [
              0,
              "#0d0887"
             ],
             [
              0.1111111111111111,
              "#46039f"
             ],
             [
              0.2222222222222222,
              "#7201a8"
             ],
             [
              0.3333333333333333,
              "#9c179e"
             ],
             [
              0.4444444444444444,
              "#bd3786"
             ],
             [
              0.5555555555555556,
              "#d8576b"
             ],
             [
              0.6666666666666666,
              "#ed7953"
             ],
             [
              0.7777777777777778,
              "#fb9f3a"
             ],
             [
              0.8888888888888888,
              "#fdca26"
             ],
             [
              1,
              "#f0f921"
             ]
            ],
            "type": "histogram2d"
           }
          ],
          "histogram2dcontour": [
           {
            "colorbar": {
             "outlinewidth": 0,
             "ticks": ""
            },
            "colorscale": [
             [
              0,
              "#0d0887"
             ],
             [
              0.1111111111111111,
              "#46039f"
             ],
             [
              0.2222222222222222,
              "#7201a8"
             ],
             [
              0.3333333333333333,
              "#9c179e"
             ],
             [
              0.4444444444444444,
              "#bd3786"
             ],
             [
              0.5555555555555556,
              "#d8576b"
             ],
             [
              0.6666666666666666,
              "#ed7953"
             ],
             [
              0.7777777777777778,
              "#fb9f3a"
             ],
             [
              0.8888888888888888,
              "#fdca26"
             ],
             [
              1,
              "#f0f921"
             ]
            ],
            "type": "histogram2dcontour"
           }
          ],
          "mesh3d": [
           {
            "colorbar": {
             "outlinewidth": 0,
             "ticks": ""
            },
            "type": "mesh3d"
           }
          ],
          "parcoords": [
           {
            "line": {
             "colorbar": {
              "outlinewidth": 0,
              "ticks": ""
             }
            },
            "type": "parcoords"
           }
          ],
          "pie": [
           {
            "automargin": true,
            "type": "pie"
           }
          ],
          "scatter": [
           {
            "fillpattern": {
             "fillmode": "overlay",
             "size": 10,
             "solidity": 0.2
            },
            "type": "scatter"
           }
          ],
          "scatter3d": [
           {
            "line": {
             "colorbar": {
              "outlinewidth": 0,
              "ticks": ""
             }
            },
            "marker": {
             "colorbar": {
              "outlinewidth": 0,
              "ticks": ""
             }
            },
            "type": "scatter3d"
           }
          ],
          "scattercarpet": [
           {
            "marker": {
             "colorbar": {
              "outlinewidth": 0,
              "ticks": ""
             }
            },
            "type": "scattercarpet"
           }
          ],
          "scattergeo": [
           {
            "marker": {
             "colorbar": {
              "outlinewidth": 0,
              "ticks": ""
             }
            },
            "type": "scattergeo"
           }
          ],
          "scattergl": [
           {
            "marker": {
             "colorbar": {
              "outlinewidth": 0,
              "ticks": ""
             }
            },
            "type": "scattergl"
           }
          ],
          "scattermapbox": [
           {
            "marker": {
             "colorbar": {
              "outlinewidth": 0,
              "ticks": ""
             }
            },
            "type": "scattermapbox"
           }
          ],
          "scatterpolar": [
           {
            "marker": {
             "colorbar": {
              "outlinewidth": 0,
              "ticks": ""
             }
            },
            "type": "scatterpolar"
           }
          ],
          "scatterpolargl": [
           {
            "marker": {
             "colorbar": {
              "outlinewidth": 0,
              "ticks": ""
             }
            },
            "type": "scatterpolargl"
           }
          ],
          "scatterternary": [
           {
            "marker": {
             "colorbar": {
              "outlinewidth": 0,
              "ticks": ""
             }
            },
            "type": "scatterternary"
           }
          ],
          "surface": [
           {
            "colorbar": {
             "outlinewidth": 0,
             "ticks": ""
            },
            "colorscale": [
             [
              0,
              "#0d0887"
             ],
             [
              0.1111111111111111,
              "#46039f"
             ],
             [
              0.2222222222222222,
              "#7201a8"
             ],
             [
              0.3333333333333333,
              "#9c179e"
             ],
             [
              0.4444444444444444,
              "#bd3786"
             ],
             [
              0.5555555555555556,
              "#d8576b"
             ],
             [
              0.6666666666666666,
              "#ed7953"
             ],
             [
              0.7777777777777778,
              "#fb9f3a"
             ],
             [
              0.8888888888888888,
              "#fdca26"
             ],
             [
              1,
              "#f0f921"
             ]
            ],
            "type": "surface"
           }
          ],
          "table": [
           {
            "cells": {
             "fill": {
              "color": "#EBF0F8"
             },
             "line": {
              "color": "white"
             }
            },
            "header": {
             "fill": {
              "color": "#C8D4E3"
             },
             "line": {
              "color": "white"
             }
            },
            "type": "table"
           }
          ]
         },
         "layout": {
          "annotationdefaults": {
           "arrowcolor": "#2a3f5f",
           "arrowhead": 0,
           "arrowwidth": 1
          },
          "autotypenumbers": "strict",
          "coloraxis": {
           "colorbar": {
            "outlinewidth": 0,
            "ticks": ""
           }
          },
          "colorscale": {
           "diverging": [
            [
             0,
             "#8e0152"
            ],
            [
             0.1,
             "#c51b7d"
            ],
            [
             0.2,
             "#de77ae"
            ],
            [
             0.3,
             "#f1b6da"
            ],
            [
             0.4,
             "#fde0ef"
            ],
            [
             0.5,
             "#f7f7f7"
            ],
            [
             0.6,
             "#e6f5d0"
            ],
            [
             0.7,
             "#b8e186"
            ],
            [
             0.8,
             "#7fbc41"
            ],
            [
             0.9,
             "#4d9221"
            ],
            [
             1,
             "#276419"
            ]
           ],
           "sequential": [
            [
             0,
             "#0d0887"
            ],
            [
             0.1111111111111111,
             "#46039f"
            ],
            [
             0.2222222222222222,
             "#7201a8"
            ],
            [
             0.3333333333333333,
             "#9c179e"
            ],
            [
             0.4444444444444444,
             "#bd3786"
            ],
            [
             0.5555555555555556,
             "#d8576b"
            ],
            [
             0.6666666666666666,
             "#ed7953"
            ],
            [
             0.7777777777777778,
             "#fb9f3a"
            ],
            [
             0.8888888888888888,
             "#fdca26"
            ],
            [
             1,
             "#f0f921"
            ]
           ],
           "sequentialminus": [
            [
             0,
             "#0d0887"
            ],
            [
             0.1111111111111111,
             "#46039f"
            ],
            [
             0.2222222222222222,
             "#7201a8"
            ],
            [
             0.3333333333333333,
             "#9c179e"
            ],
            [
             0.4444444444444444,
             "#bd3786"
            ],
            [
             0.5555555555555556,
             "#d8576b"
            ],
            [
             0.6666666666666666,
             "#ed7953"
            ],
            [
             0.7777777777777778,
             "#fb9f3a"
            ],
            [
             0.8888888888888888,
             "#fdca26"
            ],
            [
             1,
             "#f0f921"
            ]
           ]
          },
          "colorway": [
           "#636efa",
           "#EF553B",
           "#00cc96",
           "#ab63fa",
           "#FFA15A",
           "#19d3f3",
           "#FF6692",
           "#B6E880",
           "#FF97FF",
           "#FECB52"
          ],
          "font": {
           "color": "#2a3f5f"
          },
          "geo": {
           "bgcolor": "white",
           "lakecolor": "white",
           "landcolor": "#E5ECF6",
           "showlakes": true,
           "showland": true,
           "subunitcolor": "white"
          },
          "hoverlabel": {
           "align": "left"
          },
          "hovermode": "closest",
          "mapbox": {
           "style": "light"
          },
          "paper_bgcolor": "white",
          "plot_bgcolor": "#E5ECF6",
          "polar": {
           "angularaxis": {
            "gridcolor": "white",
            "linecolor": "white",
            "ticks": ""
           },
           "bgcolor": "#E5ECF6",
           "radialaxis": {
            "gridcolor": "white",
            "linecolor": "white",
            "ticks": ""
           }
          },
          "scene": {
           "xaxis": {
            "backgroundcolor": "#E5ECF6",
            "gridcolor": "white",
            "gridwidth": 2,
            "linecolor": "white",
            "showbackground": true,
            "ticks": "",
            "zerolinecolor": "white"
           },
           "yaxis": {
            "backgroundcolor": "#E5ECF6",
            "gridcolor": "white",
            "gridwidth": 2,
            "linecolor": "white",
            "showbackground": true,
            "ticks": "",
            "zerolinecolor": "white"
           },
           "zaxis": {
            "backgroundcolor": "#E5ECF6",
            "gridcolor": "white",
            "gridwidth": 2,
            "linecolor": "white",
            "showbackground": true,
            "ticks": "",
            "zerolinecolor": "white"
           }
          },
          "shapedefaults": {
           "line": {
            "color": "#2a3f5f"
           }
          },
          "ternary": {
           "aaxis": {
            "gridcolor": "white",
            "linecolor": "white",
            "ticks": ""
           },
           "baxis": {
            "gridcolor": "white",
            "linecolor": "white",
            "ticks": ""
           },
           "bgcolor": "#E5ECF6",
           "caxis": {
            "gridcolor": "white",
            "linecolor": "white",
            "ticks": ""
           }
          },
          "title": {
           "x": 0.05
          },
          "xaxis": {
           "automargin": true,
           "gridcolor": "white",
           "linecolor": "white",
           "ticks": "",
           "title": {
            "standoff": 15
           },
           "zerolinecolor": "white",
           "zerolinewidth": 2
          },
          "yaxis": {
           "automargin": true,
           "gridcolor": "white",
           "linecolor": "white",
           "ticks": "",
           "title": {
            "standoff": 15
           },
           "zerolinecolor": "white",
           "zerolinewidth": 2
          }
         }
        },
        "xaxis": {
         "anchor": "y",
         "domain": [
          0,
          1
         ],
         "title": {
          "text": "CONSTITUENCY_NAME"
         }
        },
        "yaxis": {
         "anchor": "x",
         "domain": [
          0,
          1
         ],
         "title": {
          "text": "VOTERS"
         }
        }
       }
      }
     },
     "metadata": {},
     "output_type": "display_data"
    }
   ],
   "source": [
    "px.density_heatmap(voters, y='VOTERS', x='CONSTITUENCY_NAME', z='COUNTY_CODE', color_continuous_scale='viridis')"
   ]
  },
  {
   "cell_type": "markdown",
   "metadata": {},
   "source": [
    "=========="
   ]
  },
  {
   "cell_type": "code",
   "execution_count": 205,
   "metadata": {},
   "outputs": [
    {
     "data": {
      "text/html": [
       "<div>\n",
       "<style scoped>\n",
       "    .dataframe tbody tr th:only-of-type {\n",
       "        vertical-align: middle;\n",
       "    }\n",
       "\n",
       "    .dataframe tbody tr th {\n",
       "        vertical-align: top;\n",
       "    }\n",
       "\n",
       "    .dataframe thead th {\n",
       "        text-align: right;\n",
       "    }\n",
       "</style>\n",
       "<table border=\"1\" class=\"dataframe\">\n",
       "  <thead>\n",
       "    <tr style=\"text-align: right;\">\n",
       "      <th></th>\n",
       "      <th>COUNTY_CODE</th>\n",
       "      <th>COUNTY_NAME</th>\n",
       "      <th>CONST_CODE</th>\n",
       "      <th>CONSTITUENCY_NAME</th>\n",
       "      <th>VOTERS</th>\n",
       "      <th>NO. OF POLLING STATIONS</th>\n",
       "    </tr>\n",
       "  </thead>\n",
       "  <tbody>\n",
       "    <tr>\n",
       "      <th>292</th>\n",
       "      <td>49</td>\n",
       "      <td>PRISONS</td>\n",
       "      <td>292</td>\n",
       "      <td>PRISONS</td>\n",
       "      <td>5528</td>\n",
       "      <td>103</td>\n",
       "    </tr>\n",
       "  </tbody>\n",
       "</table>\n",
       "</div>"
      ],
      "text/plain": [
       "     COUNTY_CODE COUNTY_NAME  CONST_CODE CONSTITUENCY_NAME  VOTERS  \\\n",
       "292           49     PRISONS         292           PRISONS    5528   \n",
       "\n",
       "     NO. OF POLLING STATIONS  \n",
       "292                      103  "
      ]
     },
     "execution_count": 205,
     "metadata": {},
     "output_type": "execute_result"
    }
   ],
   "source": [
    "voters.sample(n=1)"
   ]
  },
  {
   "cell_type": "code",
   "execution_count": 211,
   "metadata": {},
   "outputs": [
    {
     "data": {
      "text/html": [
       "<div>\n",
       "<style scoped>\n",
       "    .dataframe tbody tr th:only-of-type {\n",
       "        vertical-align: middle;\n",
       "    }\n",
       "\n",
       "    .dataframe tbody tr th {\n",
       "        vertical-align: top;\n",
       "    }\n",
       "\n",
       "    .dataframe thead th {\n",
       "        text-align: right;\n",
       "    }\n",
       "</style>\n",
       "<table border=\"1\" class=\"dataframe\">\n",
       "  <thead>\n",
       "    <tr style=\"text-align: right;\">\n",
       "      <th></th>\n",
       "      <th>COUNTY_NAME</th>\n",
       "      <th>CONSTITUENCY_NAME</th>\n",
       "      <th>NO. OF POLLING STATIONS</th>\n",
       "    </tr>\n",
       "  </thead>\n",
       "  <tbody>\n",
       "    <tr>\n",
       "      <th>0</th>\n",
       "      <td>BARINGO</td>\n",
       "      <td>BARINGO  NORTH</td>\n",
       "      <td>173</td>\n",
       "    </tr>\n",
       "    <tr>\n",
       "      <th>1</th>\n",
       "      <td>BARINGO</td>\n",
       "      <td>BARINGO CENTRAL</td>\n",
       "      <td>135</td>\n",
       "    </tr>\n",
       "    <tr>\n",
       "      <th>2</th>\n",
       "      <td>BARINGO</td>\n",
       "      <td>BARINGO SOUTH</td>\n",
       "      <td>132</td>\n",
       "    </tr>\n",
       "    <tr>\n",
       "      <th>3</th>\n",
       "      <td>BARINGO</td>\n",
       "      <td>ELDAMA RAVINE</td>\n",
       "      <td>154</td>\n",
       "    </tr>\n",
       "    <tr>\n",
       "      <th>4</th>\n",
       "      <td>BARINGO</td>\n",
       "      <td>MOGOTIO</td>\n",
       "      <td>155</td>\n",
       "    </tr>\n",
       "    <tr>\n",
       "      <th>...</th>\n",
       "      <td>...</td>\n",
       "      <td>...</td>\n",
       "      <td>...</td>\n",
       "    </tr>\n",
       "    <tr>\n",
       "      <th>287</th>\n",
       "      <td>WAJIR</td>\n",
       "      <td>WAJIR WEST</td>\n",
       "      <td>75</td>\n",
       "    </tr>\n",
       "    <tr>\n",
       "      <th>288</th>\n",
       "      <td>WEST POKOT</td>\n",
       "      <td>KACHELIBA</td>\n",
       "      <td>187</td>\n",
       "    </tr>\n",
       "    <tr>\n",
       "      <th>289</th>\n",
       "      <td>WEST POKOT</td>\n",
       "      <td>KAPENGURIA</td>\n",
       "      <td>194</td>\n",
       "    </tr>\n",
       "    <tr>\n",
       "      <th>290</th>\n",
       "      <td>WEST POKOT</td>\n",
       "      <td>POKOT SOUTH</td>\n",
       "      <td>205</td>\n",
       "    </tr>\n",
       "    <tr>\n",
       "      <th>291</th>\n",
       "      <td>WEST POKOT</td>\n",
       "      <td>SIGOR</td>\n",
       "      <td>126</td>\n",
       "    </tr>\n",
       "  </tbody>\n",
       "</table>\n",
       "<p>292 rows × 3 columns</p>\n",
       "</div>"
      ],
      "text/plain": [
       "    COUNTY_NAME CONSTITUENCY_NAME  NO. OF POLLING STATIONS\n",
       "0       BARINGO    BARINGO  NORTH                      173\n",
       "1       BARINGO   BARINGO CENTRAL                      135\n",
       "2       BARINGO     BARINGO SOUTH                      132\n",
       "3       BARINGO     ELDAMA RAVINE                      154\n",
       "4       BARINGO           MOGOTIO                      155\n",
       "..          ...               ...                      ...\n",
       "287       WAJIR        WAJIR WEST                       75\n",
       "288  WEST POKOT         KACHELIBA                      187\n",
       "289  WEST POKOT        KAPENGURIA                      194\n",
       "290  WEST POKOT       POKOT SOUTH                      205\n",
       "291  WEST POKOT             SIGOR                      126\n",
       "\n",
       "[292 rows x 3 columns]"
      ]
     },
     "execution_count": 211,
     "metadata": {},
     "output_type": "execute_result"
    }
   ],
   "source": [
    "vpx = voters.groupby(['COUNTY_NAME','CONSTITUENCY_NAME'])['NO. OF POLLING STATIONS'].sum().reset_index()\n",
    "vpx"
   ]
  },
  {
   "cell_type": "code",
   "execution_count": 212,
   "metadata": {},
   "outputs": [
    {
     "data": {
      "application/vnd.plotly.v1+json": {
       "config": {
        "plotlyServerURL": "https://plot.ly"
       },
       "data": [
        {
         "hovertemplate": "CONSTITUENCY_NAME=%{x}<br>NO. OF POLLING STATIONS=%{y}<extra></extra>",
         "legendgroup": "",
         "line": {
          "color": "#636efa",
          "dash": "solid"
         },
         "marker": {
          "symbol": "circle"
         },
         "mode": "lines",
         "name": "",
         "orientation": "v",
         "showlegend": false,
         "type": "scatter",
         "x": [
          "CHANGAMWE",
          "JOMVU",
          "KISAUNI",
          "NYALI",
          "LIKONI",
          "MVITA",
          "MSAMBWENI",
          "LUNGALUNGA",
          "MATUGA",
          "KINANGO",
          "KILIFI NORTH",
          "KILIFI SOUTH",
          "KALOLENI",
          "RABAI",
          "GANZE",
          "MALINDI",
          "MAGARINI",
          "GARSEN",
          "GALOLE",
          "BURA",
          "LAMU EAST",
          "LAMU WEST",
          "TAVETA",
          "WUNDANYI",
          "MWATATE",
          "VOI",
          "GARISSA TOWNSHIP",
          "BALAMBALA",
          "LAGDERA",
          "DADAAB",
          "FAFI",
          "IJARA",
          "WAJIR NORTH",
          "WAJIR EAST",
          "TARBAJ",
          "WAJIR WEST",
          "ELDAS",
          "WAJIR SOUTH",
          "MANDERA WEST",
          "BANISSA",
          "MANDERA NORTH",
          "MANDERA SOUTH",
          "MANDERA EAST",
          "LAFEY",
          "MOYALE",
          "NORTH HORR",
          "SAKU",
          "LAISAMIS",
          "ISIOLO NORTH",
          "ISIOLO SOUTH",
          "IGEMBE SOUTH",
          "IGEMBE CENTRAL",
          "IGEMBE NORTH",
          "TIGANIA WEST",
          "TIGANIA EAST",
          "NORTH IMENTI",
          "BUURI",
          "CENTRAL IMENTI",
          "SOUTH IMENTI",
          "MAARA",
          "CHUKA/IGAMBANG'OMBE",
          "THARAKA",
          "MANYATTA",
          "RUNYENJES",
          "MBEERE SOUTH",
          "MBEERE NORTH",
          "MWINGI NORTH",
          "MWINGI WEST",
          "MWINGI CENTRAL",
          "KITUI WEST",
          "KITUI RURAL",
          "KITUI CENTRAL",
          "KITUI EAST",
          "KITUI SOUTH",
          "MASINGA",
          "YATTA",
          "KANGUNDO",
          "MATUNGULU",
          "KATHIANI",
          "MAVOKO",
          "MACHAKOS TOWN",
          "MWALA",
          "MBOONI",
          "KILOME",
          "KAITI",
          "MAKUENI",
          "KIBWEZI WEST",
          "KIBWEZI EAST",
          "KINANGOP",
          "KIPIPIRI",
          "OL KALOU",
          "OL JOROK",
          "NDARAGWA",
          "TETU",
          "KIENI",
          "MATHIRA",
          "OTHAYA",
          "MUKURWEINI",
          "NYERI TOWN",
          "MWEA",
          "GICHUGU",
          "NDIA",
          "KIRINYAGA CENTRAL",
          "KANGEMA",
          "MATHIOYA",
          "KIHARU",
          "KIGUMO",
          "MARAGWA",
          "KANDARA",
          "GATANGA",
          "GATUNDU SOUTH",
          "GATUNDU NORTH",
          "JUJA",
          "THIKA TOWN",
          "RUIRU",
          "GITHUNGURI",
          "KIAMBU",
          "KIAMBAA",
          "KABETE",
          "KIKUYU",
          "LIMURU",
          "LARI",
          "TURKANA NORTH",
          "TURKANA WEST",
          "TURKANA CENTRAL",
          "LOIMA",
          "TURKANA SOUTH",
          "TURKANA EAST",
          "KAPENGURIA",
          "SIGOR",
          "KACHELIBA",
          "POKOT SOUTH",
          "SAMBURU WEST",
          "SAMBURU NORTH",
          "SAMBURU EAST",
          "KWANZA",
          "ENDEBESS",
          "SABOTI",
          "KIMININI",
          "CHERANGANY",
          "SOY",
          "TURBO",
          "MOIBEN",
          "AINABKOI",
          "KAPSERET",
          "KESSES",
          "MARAKWET EAST",
          "MARAKWET WEST",
          "KEIYO NORTH",
          "KEIYO SOUTH",
          "TINDERET",
          "ALDAI",
          "NANDI HILLS",
          "CHESUMEI",
          "EMGWEN",
          "MOSOP",
          "TIATY",
          "BARINGO  NORTH",
          "BARINGO CENTRAL",
          "BARINGO SOUTH",
          "MOGOTIO",
          "ELDAMA RAVINE",
          "LAIKIPIA WEST",
          "LAIKIPIA EAST",
          "LAIKIPIA NORTH",
          "MOLO",
          "NJORO",
          "NAIVASHA",
          "GILGIL",
          "KURESOI SOUTH",
          "KURESOI NORTH",
          "SUBUKIA",
          "RONGAI",
          "BAHATI",
          "NAKURU TOWN WEST",
          "NAKURU TOWN EAST",
          "KILGORIS",
          "EMURUA DIKIRR",
          "NAROK NORTH",
          "NAROK EAST",
          "NAROK SOUTH",
          "NAROK WEST",
          "KAJIADO NORTH",
          "KAJIADO CENTRAL",
          "KAJIADO EAST",
          "KAJIADO WEST",
          "KAJIADO SOUTH",
          "KIPKELION EAST",
          "KIPKELION WEST",
          "AINAMOI",
          "BURETI",
          "BELGUT",
          "SIGOWET/SOIN",
          "SOTIK",
          "CHEPALUNGU",
          "BOMET EAST",
          "BOMET CENTRAL",
          "KONOIN",
          "LUGARI",
          "LIKUYANI",
          "MALAVA",
          "LURAMBI",
          "NAVAKHOLO",
          "MUMIAS WEST",
          "MUMIAS EAST",
          "MATUNGU",
          "BUTERE",
          "KHWISERO",
          "SHINYALU",
          "IKOLOMANI",
          "VIHIGA",
          "SABATIA",
          "HAMISI",
          "LUANDA",
          "EMUHAYA",
          "MT. ELGON",
          "SIRISIA",
          "KABUCHAI",
          "BUMULA",
          "KANDUYI",
          "WEBUYE EAST",
          "WEBUYE WEST",
          "KIMILILI",
          "TONGAREN",
          "TESO NORTH",
          "TESO SOUTH",
          "NAMBALE",
          "MATAYOS",
          "BUTULA",
          "FUNYULA",
          "BUDALANGI",
          "UGENYA",
          "UGUNJA",
          "ALEGO USONGA",
          "GEM",
          "BONDO",
          "RARIEDA",
          "KISUMU EAST",
          "KISUMU WEST",
          "KISUMU CENTRAL",
          "SEME",
          "NYANDO",
          "MUHORONI",
          "NYAKACH",
          "KASIPUL",
          "KABONDO KASIPUL",
          "KARACHUONYO",
          "RANGWE",
          "HOMA BAY TOWN",
          "NDHIWA",
          "SUBA NORTH",
          "SUBA SOUTH",
          "RONGO",
          "AWENDO",
          "SUNA EAST",
          "SUNA WEST",
          "URIRI",
          "NYATIKE",
          "KURIA WEST",
          "KURIA EAST",
          "BONCHARI",
          "SOUTH MUGIRANGO",
          "BOMACHOGE BORABU",
          "BOBASI",
          "BOMACHOGE CHACHE",
          "NYARIBARI MASABA",
          "NYARIBARI CHACHE",
          "KITUTU CHACHE NORTH",
          "KITUTU CHACHE SOUTH",
          "KITUTU MASABA",
          "WEST MUGIRANGO",
          "NORTH MUGIRANGO",
          "BORABU",
          "WESTLANDS",
          "DAGORETTI NORTH",
          "DAGORETTI SOUTH",
          "LANGATA",
          "KIBRA",
          "ROYSAMBU",
          "KASARANI",
          "RUARAKA",
          "EMBAKASI SOUTH",
          "EMBAKASI NORTH",
          "EMBAKASI CENTRAL",
          "EMBAKASI EAST",
          "EMBAKASI WEST",
          "MAKADARA",
          "KAMUKUNJI",
          "STAREHE",
          "MATHARE",
          "DIASPORA",
          "PRISONS"
         ],
         "xaxis": "x",
         "y": [
          136,
          109,
          198,
          165,
          140,
          186,
          129,
          118,
          153,
          212,
          182,
          147,
          123,
          93,
          132,
          154,
          157,
          113,
          93,
          101,
          45,
          122,
          79,
          69,
          96,
          110,
          97,
          53,
          46,
          56,
          61,
          68,
          76,
          65,
          50,
          75,
          49,
          119,
          58,
          53,
          99,
          71,
          84,
          36,
          136,
          101,
          68,
          79,
          140,
          55,
          144,
          181,
          151,
          131,
          163,
          177,
          160,
          150,
          216,
          182,
          225,
          218,
          226,
          185,
          177,
          122,
          223,
          156,
          194,
          143,
          147,
          183,
          174,
          234,
          170,
          169,
          120,
          145,
          113,
          189,
          213,
          213,
          238,
          108,
          144,
          225,
          194,
          151,
          206,
          107,
          126,
          102,
          113,
          108,
          227,
          190,
          129,
          111,
          152,
          222,
          168,
          129,
          140,
          91,
          110,
          212,
          150,
          182,
          189,
          197,
          140,
          126,
          184,
          230,
          240,
          174,
          132,
          154,
          139,
          149,
          153,
          142,
          117,
          100,
          140,
          109,
          107,
          71,
          194,
          126,
          187,
          205,
          101,
          90,
          93,
          124,
          86,
          135,
          137,
          157,
          159,
          193,
          145,
          113,
          119,
          139,
          142,
          135,
          103,
          149,
          110,
          170,
          121,
          132,
          120,
          143,
          143,
          173,
          135,
          132,
          155,
          154,
          226,
          177,
          128,
          135,
          191,
          256,
          162,
          115,
          122,
          130,
          182,
          169,
          159,
          185,
          165,
          75,
          162,
          84,
          143,
          121,
          201,
          125,
          184,
          148,
          139,
          119,
          106,
          149,
          177,
          127,
          102,
          171,
          160,
          115,
          126,
          156,
          159,
          120,
          160,
          166,
          118,
          92,
          91,
          115,
          124,
          105,
          144,
          103,
          86,
          128,
          148,
          99,
          87,
          152,
          99,
          123,
          148,
          204,
          93,
          96,
          107,
          164,
          118,
          136,
          86,
          117,
          120,
          99,
          84,
          112,
          102,
          206,
          168,
          177,
          151,
          141,
          142,
          196,
          111,
          148,
          142,
          147,
          113,
          105,
          184,
          118,
          105,
          185,
          139,
          113,
          97,
          101,
          95,
          88,
          110,
          138,
          117,
          80,
          102,
          144,
          105,
          184,
          89,
          132,
          149,
          106,
          115,
          187,
          147,
          111,
          108,
          230,
          220,
          168,
          200,
          180,
          221,
          222,
          175,
          221,
          157,
          193,
          207,
          187,
          192,
          181,
          253,
          171,
          10,
          103
         ],
         "yaxis": "y"
        }
       ],
       "layout": {
        "legend": {
         "tracegroupgap": 0
        },
        "margin": {
         "t": 60
        },
        "template": {
         "data": {
          "bar": [
           {
            "error_x": {
             "color": "#2a3f5f"
            },
            "error_y": {
             "color": "#2a3f5f"
            },
            "marker": {
             "line": {
              "color": "#E5ECF6",
              "width": 0.5
             },
             "pattern": {
              "fillmode": "overlay",
              "size": 10,
              "solidity": 0.2
             }
            },
            "type": "bar"
           }
          ],
          "barpolar": [
           {
            "marker": {
             "line": {
              "color": "#E5ECF6",
              "width": 0.5
             },
             "pattern": {
              "fillmode": "overlay",
              "size": 10,
              "solidity": 0.2
             }
            },
            "type": "barpolar"
           }
          ],
          "carpet": [
           {
            "aaxis": {
             "endlinecolor": "#2a3f5f",
             "gridcolor": "white",
             "linecolor": "white",
             "minorgridcolor": "white",
             "startlinecolor": "#2a3f5f"
            },
            "baxis": {
             "endlinecolor": "#2a3f5f",
             "gridcolor": "white",
             "linecolor": "white",
             "minorgridcolor": "white",
             "startlinecolor": "#2a3f5f"
            },
            "type": "carpet"
           }
          ],
          "choropleth": [
           {
            "colorbar": {
             "outlinewidth": 0,
             "ticks": ""
            },
            "type": "choropleth"
           }
          ],
          "contour": [
           {
            "colorbar": {
             "outlinewidth": 0,
             "ticks": ""
            },
            "colorscale": [
             [
              0,
              "#0d0887"
             ],
             [
              0.1111111111111111,
              "#46039f"
             ],
             [
              0.2222222222222222,
              "#7201a8"
             ],
             [
              0.3333333333333333,
              "#9c179e"
             ],
             [
              0.4444444444444444,
              "#bd3786"
             ],
             [
              0.5555555555555556,
              "#d8576b"
             ],
             [
              0.6666666666666666,
              "#ed7953"
             ],
             [
              0.7777777777777778,
              "#fb9f3a"
             ],
             [
              0.8888888888888888,
              "#fdca26"
             ],
             [
              1,
              "#f0f921"
             ]
            ],
            "type": "contour"
           }
          ],
          "contourcarpet": [
           {
            "colorbar": {
             "outlinewidth": 0,
             "ticks": ""
            },
            "type": "contourcarpet"
           }
          ],
          "heatmap": [
           {
            "colorbar": {
             "outlinewidth": 0,
             "ticks": ""
            },
            "colorscale": [
             [
              0,
              "#0d0887"
             ],
             [
              0.1111111111111111,
              "#46039f"
             ],
             [
              0.2222222222222222,
              "#7201a8"
             ],
             [
              0.3333333333333333,
              "#9c179e"
             ],
             [
              0.4444444444444444,
              "#bd3786"
             ],
             [
              0.5555555555555556,
              "#d8576b"
             ],
             [
              0.6666666666666666,
              "#ed7953"
             ],
             [
              0.7777777777777778,
              "#fb9f3a"
             ],
             [
              0.8888888888888888,
              "#fdca26"
             ],
             [
              1,
              "#f0f921"
             ]
            ],
            "type": "heatmap"
           }
          ],
          "heatmapgl": [
           {
            "colorbar": {
             "outlinewidth": 0,
             "ticks": ""
            },
            "colorscale": [
             [
              0,
              "#0d0887"
             ],
             [
              0.1111111111111111,
              "#46039f"
             ],
             [
              0.2222222222222222,
              "#7201a8"
             ],
             [
              0.3333333333333333,
              "#9c179e"
             ],
             [
              0.4444444444444444,
              "#bd3786"
             ],
             [
              0.5555555555555556,
              "#d8576b"
             ],
             [
              0.6666666666666666,
              "#ed7953"
             ],
             [
              0.7777777777777778,
              "#fb9f3a"
             ],
             [
              0.8888888888888888,
              "#fdca26"
             ],
             [
              1,
              "#f0f921"
             ]
            ],
            "type": "heatmapgl"
           }
          ],
          "histogram": [
           {
            "marker": {
             "pattern": {
              "fillmode": "overlay",
              "size": 10,
              "solidity": 0.2
             }
            },
            "type": "histogram"
           }
          ],
          "histogram2d": [
           {
            "colorbar": {
             "outlinewidth": 0,
             "ticks": ""
            },
            "colorscale": [
             [
              0,
              "#0d0887"
             ],
             [
              0.1111111111111111,
              "#46039f"
             ],
             [
              0.2222222222222222,
              "#7201a8"
             ],
             [
              0.3333333333333333,
              "#9c179e"
             ],
             [
              0.4444444444444444,
              "#bd3786"
             ],
             [
              0.5555555555555556,
              "#d8576b"
             ],
             [
              0.6666666666666666,
              "#ed7953"
             ],
             [
              0.7777777777777778,
              "#fb9f3a"
             ],
             [
              0.8888888888888888,
              "#fdca26"
             ],
             [
              1,
              "#f0f921"
             ]
            ],
            "type": "histogram2d"
           }
          ],
          "histogram2dcontour": [
           {
            "colorbar": {
             "outlinewidth": 0,
             "ticks": ""
            },
            "colorscale": [
             [
              0,
              "#0d0887"
             ],
             [
              0.1111111111111111,
              "#46039f"
             ],
             [
              0.2222222222222222,
              "#7201a8"
             ],
             [
              0.3333333333333333,
              "#9c179e"
             ],
             [
              0.4444444444444444,
              "#bd3786"
             ],
             [
              0.5555555555555556,
              "#d8576b"
             ],
             [
              0.6666666666666666,
              "#ed7953"
             ],
             [
              0.7777777777777778,
              "#fb9f3a"
             ],
             [
              0.8888888888888888,
              "#fdca26"
             ],
             [
              1,
              "#f0f921"
             ]
            ],
            "type": "histogram2dcontour"
           }
          ],
          "mesh3d": [
           {
            "colorbar": {
             "outlinewidth": 0,
             "ticks": ""
            },
            "type": "mesh3d"
           }
          ],
          "parcoords": [
           {
            "line": {
             "colorbar": {
              "outlinewidth": 0,
              "ticks": ""
             }
            },
            "type": "parcoords"
           }
          ],
          "pie": [
           {
            "automargin": true,
            "type": "pie"
           }
          ],
          "scatter": [
           {
            "fillpattern": {
             "fillmode": "overlay",
             "size": 10,
             "solidity": 0.2
            },
            "type": "scatter"
           }
          ],
          "scatter3d": [
           {
            "line": {
             "colorbar": {
              "outlinewidth": 0,
              "ticks": ""
             }
            },
            "marker": {
             "colorbar": {
              "outlinewidth": 0,
              "ticks": ""
             }
            },
            "type": "scatter3d"
           }
          ],
          "scattercarpet": [
           {
            "marker": {
             "colorbar": {
              "outlinewidth": 0,
              "ticks": ""
             }
            },
            "type": "scattercarpet"
           }
          ],
          "scattergeo": [
           {
            "marker": {
             "colorbar": {
              "outlinewidth": 0,
              "ticks": ""
             }
            },
            "type": "scattergeo"
           }
          ],
          "scattergl": [
           {
            "marker": {
             "colorbar": {
              "outlinewidth": 0,
              "ticks": ""
             }
            },
            "type": "scattergl"
           }
          ],
          "scattermapbox": [
           {
            "marker": {
             "colorbar": {
              "outlinewidth": 0,
              "ticks": ""
             }
            },
            "type": "scattermapbox"
           }
          ],
          "scatterpolar": [
           {
            "marker": {
             "colorbar": {
              "outlinewidth": 0,
              "ticks": ""
             }
            },
            "type": "scatterpolar"
           }
          ],
          "scatterpolargl": [
           {
            "marker": {
             "colorbar": {
              "outlinewidth": 0,
              "ticks": ""
             }
            },
            "type": "scatterpolargl"
           }
          ],
          "scatterternary": [
           {
            "marker": {
             "colorbar": {
              "outlinewidth": 0,
              "ticks": ""
             }
            },
            "type": "scatterternary"
           }
          ],
          "surface": [
           {
            "colorbar": {
             "outlinewidth": 0,
             "ticks": ""
            },
            "colorscale": [
             [
              0,
              "#0d0887"
             ],
             [
              0.1111111111111111,
              "#46039f"
             ],
             [
              0.2222222222222222,
              "#7201a8"
             ],
             [
              0.3333333333333333,
              "#9c179e"
             ],
             [
              0.4444444444444444,
              "#bd3786"
             ],
             [
              0.5555555555555556,
              "#d8576b"
             ],
             [
              0.6666666666666666,
              "#ed7953"
             ],
             [
              0.7777777777777778,
              "#fb9f3a"
             ],
             [
              0.8888888888888888,
              "#fdca26"
             ],
             [
              1,
              "#f0f921"
             ]
            ],
            "type": "surface"
           }
          ],
          "table": [
           {
            "cells": {
             "fill": {
              "color": "#EBF0F8"
             },
             "line": {
              "color": "white"
             }
            },
            "header": {
             "fill": {
              "color": "#C8D4E3"
             },
             "line": {
              "color": "white"
             }
            },
            "type": "table"
           }
          ]
         },
         "layout": {
          "annotationdefaults": {
           "arrowcolor": "#2a3f5f",
           "arrowhead": 0,
           "arrowwidth": 1
          },
          "autotypenumbers": "strict",
          "coloraxis": {
           "colorbar": {
            "outlinewidth": 0,
            "ticks": ""
           }
          },
          "colorscale": {
           "diverging": [
            [
             0,
             "#8e0152"
            ],
            [
             0.1,
             "#c51b7d"
            ],
            [
             0.2,
             "#de77ae"
            ],
            [
             0.3,
             "#f1b6da"
            ],
            [
             0.4,
             "#fde0ef"
            ],
            [
             0.5,
             "#f7f7f7"
            ],
            [
             0.6,
             "#e6f5d0"
            ],
            [
             0.7,
             "#b8e186"
            ],
            [
             0.8,
             "#7fbc41"
            ],
            [
             0.9,
             "#4d9221"
            ],
            [
             1,
             "#276419"
            ]
           ],
           "sequential": [
            [
             0,
             "#0d0887"
            ],
            [
             0.1111111111111111,
             "#46039f"
            ],
            [
             0.2222222222222222,
             "#7201a8"
            ],
            [
             0.3333333333333333,
             "#9c179e"
            ],
            [
             0.4444444444444444,
             "#bd3786"
            ],
            [
             0.5555555555555556,
             "#d8576b"
            ],
            [
             0.6666666666666666,
             "#ed7953"
            ],
            [
             0.7777777777777778,
             "#fb9f3a"
            ],
            [
             0.8888888888888888,
             "#fdca26"
            ],
            [
             1,
             "#f0f921"
            ]
           ],
           "sequentialminus": [
            [
             0,
             "#0d0887"
            ],
            [
             0.1111111111111111,
             "#46039f"
            ],
            [
             0.2222222222222222,
             "#7201a8"
            ],
            [
             0.3333333333333333,
             "#9c179e"
            ],
            [
             0.4444444444444444,
             "#bd3786"
            ],
            [
             0.5555555555555556,
             "#d8576b"
            ],
            [
             0.6666666666666666,
             "#ed7953"
            ],
            [
             0.7777777777777778,
             "#fb9f3a"
            ],
            [
             0.8888888888888888,
             "#fdca26"
            ],
            [
             1,
             "#f0f921"
            ]
           ]
          },
          "colorway": [
           "#636efa",
           "#EF553B",
           "#00cc96",
           "#ab63fa",
           "#FFA15A",
           "#19d3f3",
           "#FF6692",
           "#B6E880",
           "#FF97FF",
           "#FECB52"
          ],
          "font": {
           "color": "#2a3f5f"
          },
          "geo": {
           "bgcolor": "white",
           "lakecolor": "white",
           "landcolor": "#E5ECF6",
           "showlakes": true,
           "showland": true,
           "subunitcolor": "white"
          },
          "hoverlabel": {
           "align": "left"
          },
          "hovermode": "closest",
          "mapbox": {
           "style": "light"
          },
          "paper_bgcolor": "white",
          "plot_bgcolor": "#E5ECF6",
          "polar": {
           "angularaxis": {
            "gridcolor": "white",
            "linecolor": "white",
            "ticks": ""
           },
           "bgcolor": "#E5ECF6",
           "radialaxis": {
            "gridcolor": "white",
            "linecolor": "white",
            "ticks": ""
           }
          },
          "scene": {
           "xaxis": {
            "backgroundcolor": "#E5ECF6",
            "gridcolor": "white",
            "gridwidth": 2,
            "linecolor": "white",
            "showbackground": true,
            "ticks": "",
            "zerolinecolor": "white"
           },
           "yaxis": {
            "backgroundcolor": "#E5ECF6",
            "gridcolor": "white",
            "gridwidth": 2,
            "linecolor": "white",
            "showbackground": true,
            "ticks": "",
            "zerolinecolor": "white"
           },
           "zaxis": {
            "backgroundcolor": "#E5ECF6",
            "gridcolor": "white",
            "gridwidth": 2,
            "linecolor": "white",
            "showbackground": true,
            "ticks": "",
            "zerolinecolor": "white"
           }
          },
          "shapedefaults": {
           "line": {
            "color": "#2a3f5f"
           }
          },
          "ternary": {
           "aaxis": {
            "gridcolor": "white",
            "linecolor": "white",
            "ticks": ""
           },
           "baxis": {
            "gridcolor": "white",
            "linecolor": "white",
            "ticks": ""
           },
           "bgcolor": "#E5ECF6",
           "caxis": {
            "gridcolor": "white",
            "linecolor": "white",
            "ticks": ""
           }
          },
          "title": {
           "x": 0.05
          },
          "xaxis": {
           "automargin": true,
           "gridcolor": "white",
           "linecolor": "white",
           "ticks": "",
           "title": {
            "standoff": 15
           },
           "zerolinecolor": "white",
           "zerolinewidth": 2
          },
          "yaxis": {
           "automargin": true,
           "gridcolor": "white",
           "linecolor": "white",
           "ticks": "",
           "title": {
            "standoff": 15
           },
           "zerolinecolor": "white",
           "zerolinewidth": 2
          }
         }
        },
        "xaxis": {
         "anchor": "y",
         "domain": [
          0,
          1
         ],
         "title": {
          "text": "CONSTITUENCY_NAME"
         }
        },
        "yaxis": {
         "anchor": "x",
         "domain": [
          0,
          1
         ],
         "title": {
          "text": "NO. OF POLLING STATIONS"
         }
        }
       }
      }
     },
     "metadata": {},
     "output_type": "display_data"
    }
   ],
   "source": [
    "px.line(voters, x='CONSTITUENCY_NAME', y='NO. OF POLLING STATIONS')"
   ]
  },
  {
   "cell_type": "markdown",
   "metadata": {},
   "source": [
    "====="
   ]
  },
  {
   "cell_type": "code",
   "execution_count": 213,
   "metadata": {},
   "outputs": [
    {
     "data": {
      "text/html": [
       "<div>\n",
       "<style scoped>\n",
       "    .dataframe tbody tr th:only-of-type {\n",
       "        vertical-align: middle;\n",
       "    }\n",
       "\n",
       "    .dataframe tbody tr th {\n",
       "        vertical-align: top;\n",
       "    }\n",
       "\n",
       "    .dataframe thead th {\n",
       "        text-align: right;\n",
       "    }\n",
       "</style>\n",
       "<table border=\"1\" class=\"dataframe\">\n",
       "  <thead>\n",
       "    <tr style=\"text-align: right;\">\n",
       "      <th></th>\n",
       "      <th>COUNTY_CODE</th>\n",
       "      <th>COUNTY_NAME</th>\n",
       "      <th>CONST_CODE</th>\n",
       "      <th>CONSTITUENCY_NAME</th>\n",
       "      <th>VOTERS</th>\n",
       "      <th>NO. OF POLLING STATIONS</th>\n",
       "    </tr>\n",
       "  </thead>\n",
       "  <tbody>\n",
       "    <tr>\n",
       "      <th>14</th>\n",
       "      <td>3</td>\n",
       "      <td>KILIFI</td>\n",
       "      <td>14</td>\n",
       "      <td>RABAI</td>\n",
       "      <td>50332</td>\n",
       "      <td>93</td>\n",
       "    </tr>\n",
       "    <tr>\n",
       "      <th>147</th>\n",
       "      <td>28</td>\n",
       "      <td>ELGEYO/MARAKWET</td>\n",
       "      <td>147</td>\n",
       "      <td>MARAKWET EAST</td>\n",
       "      <td>36428</td>\n",
       "      <td>142</td>\n",
       "    </tr>\n",
       "  </tbody>\n",
       "</table>\n",
       "</div>"
      ],
      "text/plain": [
       "     COUNTY_CODE      COUNTY_NAME  CONST_CODE CONSTITUENCY_NAME  VOTERS  \\\n",
       "14             3           KILIFI          14             RABAI   50332   \n",
       "147           28  ELGEYO/MARAKWET         147     MARAKWET EAST   36428   \n",
       "\n",
       "     NO. OF POLLING STATIONS  \n",
       "14                        93  \n",
       "147                      142  "
      ]
     },
     "execution_count": 213,
     "metadata": {},
     "output_type": "execute_result"
    }
   ],
   "source": [
    "voters.sample(n=2)"
   ]
  },
  {
   "cell_type": "code",
   "execution_count": 243,
   "metadata": {},
   "outputs": [
    {
     "data": {
      "text/plain": [
       "['Overall',\n",
       " 'AINABKOI',\n",
       " 'AINAMOI',\n",
       " 'ALDAI',\n",
       " 'ALEGO USONGA',\n",
       " 'AWENDO',\n",
       " 'BAHATI',\n",
       " 'BALAMBALA',\n",
       " 'BANISSA',\n",
       " 'BARINGO  NORTH',\n",
       " 'BARINGO CENTRAL',\n",
       " 'BARINGO SOUTH',\n",
       " 'BELGUT',\n",
       " 'BOBASI',\n",
       " 'BOMACHOGE BORABU',\n",
       " 'BOMACHOGE CHACHE',\n",
       " 'BOMET CENTRAL',\n",
       " 'BOMET EAST',\n",
       " 'BONCHARI',\n",
       " 'BONDO',\n",
       " 'BORABU',\n",
       " 'BUDALANGI',\n",
       " 'BUMULA',\n",
       " 'BURA',\n",
       " 'BURETI',\n",
       " 'BUTERE',\n",
       " 'BUTULA',\n",
       " 'BUURI',\n",
       " 'CENTRAL IMENTI',\n",
       " 'CHANGAMWE',\n",
       " 'CHEPALUNGU',\n",
       " 'CHERANGANY',\n",
       " 'CHESUMEI',\n",
       " \"CHUKA/IGAMBANG'OMBE\",\n",
       " 'DADAAB',\n",
       " 'DAGORETTI NORTH',\n",
       " 'DAGORETTI SOUTH',\n",
       " 'DIASPORA',\n",
       " 'ELDAMA RAVINE',\n",
       " 'ELDAS',\n",
       " 'EMBAKASI CENTRAL',\n",
       " 'EMBAKASI EAST',\n",
       " 'EMBAKASI NORTH',\n",
       " 'EMBAKASI SOUTH',\n",
       " 'EMBAKASI WEST',\n",
       " 'EMGWEN',\n",
       " 'EMUHAYA',\n",
       " 'EMURUA DIKIRR',\n",
       " 'ENDEBESS',\n",
       " 'FAFI',\n",
       " 'FUNYULA',\n",
       " 'GALOLE',\n",
       " 'GANZE',\n",
       " 'GARISSA TOWNSHIP',\n",
       " 'GARSEN',\n",
       " 'GATANGA',\n",
       " 'GATUNDU NORTH',\n",
       " 'GATUNDU SOUTH',\n",
       " 'GEM',\n",
       " 'GICHUGU',\n",
       " 'GILGIL',\n",
       " 'GITHUNGURI',\n",
       " 'HAMISI',\n",
       " 'HOMA BAY TOWN',\n",
       " 'IGEMBE CENTRAL',\n",
       " 'IGEMBE NORTH',\n",
       " 'IGEMBE SOUTH',\n",
       " 'IJARA',\n",
       " 'IKOLOMANI',\n",
       " 'ISIOLO NORTH',\n",
       " 'ISIOLO SOUTH',\n",
       " 'JOMVU',\n",
       " 'JUJA',\n",
       " 'KABETE',\n",
       " 'KABONDO KASIPUL',\n",
       " 'KABUCHAI',\n",
       " 'KACHELIBA',\n",
       " 'KAITI',\n",
       " 'KAJIADO CENTRAL',\n",
       " 'KAJIADO EAST',\n",
       " 'KAJIADO NORTH',\n",
       " 'KAJIADO SOUTH',\n",
       " 'KAJIADO WEST',\n",
       " 'KALOLENI',\n",
       " 'KAMUKUNJI',\n",
       " 'KANDARA',\n",
       " 'KANDUYI',\n",
       " 'KANGEMA',\n",
       " 'KANGUNDO',\n",
       " 'KAPENGURIA',\n",
       " 'KAPSERET',\n",
       " 'KARACHUONYO',\n",
       " 'KASARANI',\n",
       " 'KASIPUL',\n",
       " 'KATHIANI',\n",
       " 'KEIYO NORTH',\n",
       " 'KEIYO SOUTH',\n",
       " 'KESSES',\n",
       " 'KHWISERO',\n",
       " 'KIAMBAA',\n",
       " 'KIAMBU',\n",
       " 'KIBRA',\n",
       " 'KIBWEZI EAST',\n",
       " 'KIBWEZI WEST',\n",
       " 'KIENI',\n",
       " 'KIGUMO',\n",
       " 'KIHARU',\n",
       " 'KIKUYU',\n",
       " 'KILGORIS',\n",
       " 'KILIFI NORTH',\n",
       " 'KILIFI SOUTH',\n",
       " 'KILOME',\n",
       " 'KIMILILI',\n",
       " 'KIMININI',\n",
       " 'KINANGO',\n",
       " 'KINANGOP',\n",
       " 'KIPIPIRI',\n",
       " 'KIPKELION EAST',\n",
       " 'KIPKELION WEST',\n",
       " 'KIRINYAGA CENTRAL',\n",
       " 'KISAUNI',\n",
       " 'KISUMU CENTRAL',\n",
       " 'KISUMU EAST',\n",
       " 'KISUMU WEST',\n",
       " 'KITUI CENTRAL',\n",
       " 'KITUI EAST',\n",
       " 'KITUI RURAL',\n",
       " 'KITUI SOUTH',\n",
       " 'KITUI WEST',\n",
       " 'KITUTU CHACHE NORTH',\n",
       " 'KITUTU CHACHE SOUTH',\n",
       " 'KITUTU MASABA',\n",
       " 'KONOIN',\n",
       " 'KURESOI NORTH',\n",
       " 'KURESOI SOUTH',\n",
       " 'KURIA EAST',\n",
       " 'KURIA WEST',\n",
       " 'KWANZA',\n",
       " 'LAFEY',\n",
       " 'LAGDERA',\n",
       " 'LAIKIPIA EAST',\n",
       " 'LAIKIPIA NORTH',\n",
       " 'LAIKIPIA WEST',\n",
       " 'LAISAMIS',\n",
       " 'LAMU EAST',\n",
       " 'LAMU WEST',\n",
       " 'LANGATA',\n",
       " 'LARI',\n",
       " 'LIKONI',\n",
       " 'LIKUYANI',\n",
       " 'LIMURU',\n",
       " 'LOIMA',\n",
       " 'LUANDA',\n",
       " 'LUGARI',\n",
       " 'LUNGALUNGA',\n",
       " 'LURAMBI',\n",
       " 'MAARA',\n",
       " 'MACHAKOS TOWN',\n",
       " 'MAGARINI',\n",
       " 'MAKADARA',\n",
       " 'MAKUENI',\n",
       " 'MALAVA',\n",
       " 'MALINDI',\n",
       " 'MANDERA EAST',\n",
       " 'MANDERA NORTH',\n",
       " 'MANDERA SOUTH',\n",
       " 'MANDERA WEST',\n",
       " 'MANYATTA',\n",
       " 'MARAGWA',\n",
       " 'MARAKWET EAST',\n",
       " 'MARAKWET WEST',\n",
       " 'MASINGA',\n",
       " 'MATAYOS',\n",
       " 'MATHARE',\n",
       " 'MATHIOYA',\n",
       " 'MATHIRA',\n",
       " 'MATUGA',\n",
       " 'MATUNGU',\n",
       " 'MATUNGULU',\n",
       " 'MAVOKO',\n",
       " 'MBEERE NORTH',\n",
       " 'MBEERE SOUTH',\n",
       " 'MBOONI',\n",
       " 'MOGOTIO',\n",
       " 'MOIBEN',\n",
       " 'MOLO',\n",
       " 'MOSOP',\n",
       " 'MOYALE',\n",
       " 'MSAMBWENI',\n",
       " 'MT. ELGON',\n",
       " 'MUHORONI',\n",
       " 'MUKURWEINI',\n",
       " 'MUMIAS EAST',\n",
       " 'MUMIAS WEST',\n",
       " 'MVITA',\n",
       " 'MWALA',\n",
       " 'MWATATE',\n",
       " 'MWEA',\n",
       " 'MWINGI CENTRAL',\n",
       " 'MWINGI NORTH',\n",
       " 'MWINGI WEST',\n",
       " 'NAIVASHA',\n",
       " 'NAKURU TOWN EAST',\n",
       " 'NAKURU TOWN WEST',\n",
       " 'NAMBALE',\n",
       " 'NANDI HILLS',\n",
       " 'NAROK EAST',\n",
       " 'NAROK NORTH',\n",
       " 'NAROK SOUTH',\n",
       " 'NAROK WEST',\n",
       " 'NAVAKHOLO',\n",
       " 'NDARAGWA',\n",
       " 'NDHIWA',\n",
       " 'NDIA',\n",
       " 'NJORO',\n",
       " 'NORTH HORR',\n",
       " 'NORTH IMENTI',\n",
       " 'NORTH MUGIRANGO',\n",
       " 'NYAKACH',\n",
       " 'NYALI',\n",
       " 'NYANDO',\n",
       " 'NYARIBARI CHACHE',\n",
       " 'NYARIBARI MASABA',\n",
       " 'NYATIKE',\n",
       " 'NYERI TOWN',\n",
       " 'OL JOROK',\n",
       " 'OL KALOU',\n",
       " 'OTHAYA',\n",
       " 'POKOT SOUTH',\n",
       " 'PRISONS',\n",
       " 'RABAI',\n",
       " 'RANGWE',\n",
       " 'RARIEDA',\n",
       " 'RONGAI',\n",
       " 'RONGO',\n",
       " 'ROYSAMBU',\n",
       " 'RUARAKA',\n",
       " 'RUIRU',\n",
       " 'RUNYENJES',\n",
       " 'SABATIA',\n",
       " 'SABOTI',\n",
       " 'SAKU',\n",
       " 'SAMBURU EAST',\n",
       " 'SAMBURU NORTH',\n",
       " 'SAMBURU WEST',\n",
       " 'SEME',\n",
       " 'SHINYALU',\n",
       " 'SIGOR',\n",
       " 'SIGOWET/SOIN',\n",
       " 'SIRISIA',\n",
       " 'SOTIK',\n",
       " 'SOUTH IMENTI',\n",
       " 'SOUTH MUGIRANGO',\n",
       " 'SOY',\n",
       " 'STAREHE',\n",
       " 'SUBA NORTH',\n",
       " 'SUBA SOUTH',\n",
       " 'SUBUKIA',\n",
       " 'SUNA EAST',\n",
       " 'SUNA WEST',\n",
       " 'TARBAJ',\n",
       " 'TAVETA',\n",
       " 'TESO NORTH',\n",
       " 'TESO SOUTH',\n",
       " 'TETU',\n",
       " 'THARAKA',\n",
       " 'THIKA TOWN',\n",
       " 'TIATY',\n",
       " 'TIGANIA EAST',\n",
       " 'TIGANIA WEST',\n",
       " 'TINDERET',\n",
       " 'TONGAREN',\n",
       " 'TURBO',\n",
       " 'TURKANA CENTRAL',\n",
       " 'TURKANA EAST',\n",
       " 'TURKANA NORTH',\n",
       " 'TURKANA SOUTH',\n",
       " 'TURKANA WEST',\n",
       " 'UGENYA',\n",
       " 'UGUNJA',\n",
       " 'URIRI',\n",
       " 'VIHIGA',\n",
       " 'VOI',\n",
       " 'WAJIR EAST',\n",
       " 'WAJIR NORTH',\n",
       " 'WAJIR SOUTH',\n",
       " 'WAJIR WEST',\n",
       " 'WEBUYE EAST',\n",
       " 'WEBUYE WEST',\n",
       " 'WEST MUGIRANGO',\n",
       " 'WESTLANDS',\n",
       " 'WUNDANYI',\n",
       " 'YATTA']"
      ]
     },
     "execution_count": 243,
     "metadata": {},
     "output_type": "execute_result"
    }
   ],
   "source": [
    "voter_CONSTITUENCY_name = voters.CONSTITUENCY_NAME.unique().tolist()\n",
    "voter_CONSTITUENCY_name.sort()\n",
    "voter_CONSTITUENCY_name.insert(0, 'Overall')\n",
    "voter_CONSTITUENCY_name"
   ]
  },
  {
   "cell_type": "code",
   "execution_count": 244,
   "metadata": {},
   "outputs": [
    {
     "data": {
      "text/plain": [
       "['Overall',\n",
       " 'BARINGO',\n",
       " 'BOMET',\n",
       " 'BUNGOMA',\n",
       " 'BUSIA',\n",
       " 'DIASPORA',\n",
       " 'ELGEYO/MARAKWET',\n",
       " 'EMBU',\n",
       " 'GARISSA',\n",
       " 'HOMA BAY',\n",
       " 'ISIOLO',\n",
       " 'KAJIADO',\n",
       " 'KAKAMEGA',\n",
       " 'KERICHO',\n",
       " 'KIAMBU',\n",
       " 'KILIFI',\n",
       " 'KIRINYAGA',\n",
       " 'KISII',\n",
       " 'KISUMU',\n",
       " 'KITUI',\n",
       " 'KWALE',\n",
       " 'LAIKIPIA',\n",
       " 'LAMU',\n",
       " 'MACHAKOS',\n",
       " 'MAKUENI',\n",
       " 'MANDERA',\n",
       " 'MARSABIT',\n",
       " 'MERU',\n",
       " 'MIGORI',\n",
       " 'MOMBASA',\n",
       " \"MURANG'A\",\n",
       " 'NAIROBI CITY',\n",
       " 'NAKURU',\n",
       " 'NANDI',\n",
       " 'NAROK',\n",
       " 'NYAMIRA',\n",
       " 'NYANDARUA',\n",
       " 'NYERI',\n",
       " 'PRISONS',\n",
       " 'SAMBURU',\n",
       " 'SIAYA',\n",
       " 'TAITA TAVETA',\n",
       " 'TANA RIVER',\n",
       " 'THARAKA - NITHI',\n",
       " 'TRANS NZOIA',\n",
       " 'TURKANA',\n",
       " 'UASIN GISHU',\n",
       " 'VIHIGA',\n",
       " 'WAJIR',\n",
       " 'WEST POKOT']"
      ]
     },
     "execution_count": 244,
     "metadata": {},
     "output_type": "execute_result"
    }
   ],
   "source": [
    "voter_county_name = voters.COUNTY_NAME.unique().tolist()\n",
    "voter_county_name.sort()\n",
    "voter_county_name.insert(0, 'Overall')\n",
    "voter_county_name"
   ]
  }
 ],
 "metadata": {
  "kernelspec": {
   "display_name": "Python 3.10.2 64-bit",
   "language": "python",
   "name": "python3"
  },
  "language_info": {
   "codemirror_mode": {
    "name": "ipython",
    "version": 3
   },
   "file_extension": ".py",
   "mimetype": "text/x-python",
   "name": "python",
   "nbconvert_exporter": "python",
   "pygments_lexer": "ipython3",
   "version": "3.10.2"
  },
  "orig_nbformat": 4,
  "vscode": {
   "interpreter": {
    "hash": "412ccff6fb13ee14c93d2b8b85fab99f2d3a6250a390f2b105cadca88f5395d9"
   }
  }
 },
 "nbformat": 4,
 "nbformat_minor": 2
}
